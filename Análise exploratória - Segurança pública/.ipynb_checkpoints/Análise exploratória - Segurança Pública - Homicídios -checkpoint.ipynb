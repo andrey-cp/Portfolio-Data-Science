{
 "cells": [
  {
   "cell_type": "markdown",
   "id": "3bb59bb7",
   "metadata": {},
   "source": [
    "### Análise exploratória sobre o número de assassinatos nos estados brasileiros\n",
    "\n",
    "* O conjunto de dados de segurança pública utilizado nesta análise exploratória foi retirado do site do Ministério da Justiça.   \n",
    "\n",
    "* Utilizamos a segunda aba do arquivo onde contém informações sobre a quantidade de mortes em cada estado do Brasil entre o período de 2015 a 2022. As mortes estão divididas em 3 categorias de crimes.   \n",
    "\n",
    "* O objetivo dessa análise é levantar algumas perguntas sobre a quantidade de assassinatos no Brasil e extrair informações úteis a partir delas. \n",
    "\n",
    "* Obs.: O dataset não possui dados sobre as vitimas do estado de São Paulo no ano de 2015 e, aparentemente, também faltam mais dados sobre as vitimas do ano de 2016. Além disso, alguns dos estados podem não ter dados sobre alguns meses.\n",
    "\n",
    "* Fonte do conjunto de dados: https://dados.mj.gov.br/dataset/sistema-nacional-de-estatisticas-de-seguranca-publica"
   ]
  },
  {
   "cell_type": "markdown",
   "id": "3cd6e389",
   "metadata": {},
   "source": [
    "### Importando as bibliotecas"
   ]
  },
  {
   "cell_type": "code",
   "execution_count": 1,
   "id": "44acfe04",
   "metadata": {},
   "outputs": [],
   "source": [
    "import pandas as pd\n",
    "import numpy as np\n",
    "from matplotlib import pyplot as plt\n",
    "from matplotlib import gridspec\n",
    "import seaborn as sns"
   ]
  },
  {
   "cell_type": "markdown",
   "id": "8a5300d1",
   "metadata": {},
   "source": [
    "### Importando o dataset"
   ]
  },
  {
   "cell_type": "code",
   "execution_count": 2,
   "id": "ce6ac7f2",
   "metadata": {},
   "outputs": [],
   "source": [
    "data = pd.read_excel('indicadoressegurancapublicauf.xlsx', sheet_name=1)\n",
    "data.rename(columns={'Sexo da Vítima': 'sexo', 'Tipo Crime': 'tipo_crime',\n",
    "                    'Ano': 'ano', 'Mês':'mes', 'UF':'uf', 'Vítimas': 'vitimas'}, inplace = True)"
   ]
  },
  {
   "cell_type": "markdown",
   "id": "9b151557",
   "metadata": {},
   "source": [
    "### Visualizando o dataset"
   ]
  },
  {
   "cell_type": "code",
   "execution_count": 3,
   "id": "54399251",
   "metadata": {
    "scrolled": true
   },
   "outputs": [],
   "source": [
    "data.head()"
   ]
  },
  {
   "cell_type": "code",
   "execution_count": 4,
   "id": "a519f236",
   "metadata": {},
   "outputs": [],
   "source": [
    "data.tail()"
   ]
  },
  {
   "cell_type": "code",
   "execution_count": 5,
   "id": "a747eaaf",
   "metadata": {},
   "outputs": [],
   "source": [
    "data.describe()"
   ]
  },
  {
   "cell_type": "code",
   "execution_count": 6,
   "id": "c71b173e",
   "metadata": {},
   "outputs": [],
   "source": [
    "data.info()"
   ]
  },
  {
   "cell_type": "markdown",
   "id": "b0747fe4",
   "metadata": {},
   "source": [
    "### Quais são os tipos de crimes descritos no dataset?"
   ]
  },
  {
   "cell_type": "code",
   "execution_count": 7,
   "id": "2365c11e",
   "metadata": {},
   "outputs": [],
   "source": [
    "print(data['tipo_crime'].unique())"
   ]
  },
  {
   "cell_type": "markdown",
   "id": "52242cf4",
   "metadata": {},
   "source": [
    "### Qual o total de vítimas de cada categoria?"
   ]
  },
  {
   "cell_type": "code",
   "execution_count": 8,
   "id": "e6f1208c",
   "metadata": {},
   "outputs": [],
   "source": [
    "vitimas_num = data[['tipo_crime', 'vitimas']].groupby('tipo_crime').sum().reset_index()\n",
    "vitimas_num"
   ]
  },
  {
   "cell_type": "markdown",
   "id": "437c2582",
   "metadata": {},
   "source": [
    "### Qual o total de vítimas de cada categoria a cada ano?"
   ]
  },
  {
   "cell_type": "code",
   "execution_count": 9,
   "id": "744dddd7",
   "metadata": {},
   "outputs": [],
   "source": [
    "vitimas_num_ano = data[['tipo_crime', 'vitimas', 'ano']].groupby(['ano', 'tipo_crime']).sum()\n",
    "vitimas_num_ano"
   ]
  },
  {
   "cell_type": "markdown",
   "id": "c9702e14",
   "metadata": {},
   "source": [
    "### Qual foi o ano que tiveram menos homicídios dolosos e o ano que tiveram mais?"
   ]
  },
  {
   "cell_type": "code",
   "execution_count": 10,
   "id": "68797b86",
   "metadata": {},
   "outputs": [],
   "source": [
    "# 2022 foi o ano com o menor número de homicídios dolosos (28.856) e 2017 foi o ano com o \n",
    "# maior número (55.950)"
   ]
  },
  {
   "cell_type": "markdown",
   "id": "d78b1d7f",
   "metadata": {},
   "source": [
    "### Qual o estado com a maior quantidade de vítimas e o estado com a menor?"
   ]
  },
  {
   "cell_type": "code",
   "execution_count": 11,
   "id": "54d4a4f5",
   "metadata": {},
   "outputs": [],
   "source": [
    "data_vit_uf = data[['uf', 'vitimas']].groupby('uf').sum().sort_values('vitimas', ascending=True).reset_index()\n",
    "data_vit_uf"
   ]
  },
  {
   "cell_type": "code",
   "execution_count": 12,
   "id": "4707bcc4",
   "metadata": {},
   "outputs": [],
   "source": [
    "# Roraima teve a menor quantidade de vítimas (1.575), já a Bahia teve a maior quantidade (45.402)"
   ]
  },
  {
   "cell_type": "markdown",
   "id": "bfa57e19",
   "metadata": {},
   "source": [
    "### ---- Agora vamos visualizar de forma gráfica ----"
   ]
  },
  {
   "cell_type": "markdown",
   "id": "57758e2f",
   "metadata": {},
   "source": [
    "### O número de vítimas aumentou ou diminuiu ao longo do tempo?"
   ]
  },
  {
   "cell_type": "code",
   "execution_count": 13,
   "id": "0b59ea0f",
   "metadata": {},
   "outputs": [],
   "source": [
    "# Vamos visualizar com dois tipos de gráficos diferentes\n",
    "\n",
    "vitimas_ano_line = data[['ano', 'vitimas']].groupby('ano').sum() \n",
    "vitimas_ano_bar = data[['ano', 'vitimas']].groupby('ano').sum().reset_index()\n",
    "\n",
    "fig = plt.figure(figsize=(12, 6))\n",
    "specs = gridspec.GridSpec(ncols=2, nrows=1, figure=fig)\n",
    "\n",
    "ax1 = fig.add_subplot(specs[:, 0])\n",
    "ax2 = fig.add_subplot(specs[:, 1])\n",
    "\n",
    "# Primeiro gráfico\n",
    "ax1 = sns.lineplot(x='ano', y='vitimas', data=vitimas_ano_line, ax=ax1)\n",
    "\n",
    "# Segundo gráfico\n",
    "ax2 = sns.barplot(x='ano', y='vitimas', data=vitimas_ano_bar, ax=ax2)\n"
   ]
  },
  {
   "cell_type": "markdown",
   "id": "9ae0c26c",
   "metadata": {},
   "source": [
    "### Quem morreu mais ao longo dos anos, homens ou mulheres?"
   ]
  },
  {
   "cell_type": "code",
   "execution_count": 14,
   "id": "4495ff54",
   "metadata": {
    "scrolled": false
   },
   "outputs": [],
   "source": [
    "vitimas_genero = data[['sexo', 'vitimas']].groupby('sexo').sum().reset_index()\n",
    "vitimas_genero"
   ]
  },
  {
   "cell_type": "markdown",
   "id": "980841d0",
   "metadata": {},
   "source": [
    "### Agora com porcentagem"
   ]
  },
  {
   "cell_type": "code",
   "execution_count": 15,
   "id": "e53342cf",
   "metadata": {},
   "outputs": [],
   "source": [
    "total_vitimas = vitimas_genero['vitimas'].sum()\n",
    "vitimas_genero['Porcentagem'] = vitimas_genero['vitimas'].apply(lambda x: round(x/total_vitimas * 100, 2))\n",
    "vitimas_genero"
   ]
  },
  {
   "cell_type": "code",
   "execution_count": 16,
   "id": "f8fe2a36",
   "metadata": {
    "scrolled": false
   },
   "outputs": [],
   "source": [
    "fig = plt.figure(figsize=(12, 6))\n",
    "ax = sns.barplot(x='sexo', y='vitimas', data=vitimas_genero);\n",
    "ax.bar_label(ax.containers[0])"
   ]
  },
  {
   "cell_type": "code",
   "execution_count": 17,
   "id": "76c5f9f2",
   "metadata": {},
   "outputs": [],
   "source": [
    "# Homens estão entre o maior número de vítimas"
   ]
  },
  {
   "cell_type": "markdown",
   "id": "599521bb",
   "metadata": {},
   "source": [
    "### Quantidade de vítimas por estados"
   ]
  },
  {
   "cell_type": "code",
   "execution_count": 18,
   "id": "33abfbf7",
   "metadata": {},
   "outputs": [],
   "source": [
    "new_data_vit_uf = data[['uf', 'vitimas']].groupby('uf').sum().reset_index()\n",
    "fig = plt.figure(figsize=(15, 9))\n",
    "sns.barplot(x='uf', y='vitimas', data=new_data_vit_uf);\n",
    "plt.xticks(rotation=60);"
   ]
  },
  {
   "cell_type": "markdown",
   "id": "0e3b755c",
   "metadata": {},
   "source": [
    "### Avaliando o número de vítimas de cada estado ao longo dos anos"
   ]
  },
  {
   "cell_type": "code",
   "execution_count": 21,
   "id": "4b77c2f6",
   "metadata": {},
   "outputs": [],
   "source": [
    "data_uf_ano = data[['uf', 'vitimas', 'ano']].groupby(['uf', 'ano']).sum()\n",
    "\n",
    "ax = data_uf_ano.unstack(level=0).plot(kind='bar', legend=None, subplots=True, rot=45,\n",
    "                                       figsize=(15, 25), layout=(7, 4))\n",
    "# Ajuste o espaço entre os subgráficos\n",
    "plt.subplots_adjust(wspace=0.5, hspace=0.7)\n",
    "\n",
    "# Defina os limites do eixo y para todos os subgráficos\n",
    "y_max = data_uf_ano.max().max()\n",
    "for ax_row in ax:\n",
    "    for ax_col in ax_row:\n",
    "        ax_col.set_ylim(0, y_max)\n",
    "        \n",
    "# Ajuste a disposição dos subgráficos        \n",
    "plt.tight_layout();"
   ]
  },
  {
   "cell_type": "markdown",
   "id": "4a7ecc94",
   "metadata": {},
   "source": [
    "### Avaliando o número de vítimas por mês no Rio de Janeiro"
   ]
  },
  {
   "cell_type": "code",
   "execution_count": 20,
   "id": "bf4343d6",
   "metadata": {},
   "outputs": [],
   "source": [
    "data_vit_rj = data.loc[data['uf'] == 'Rio de Janeiro', ['ano', 'mes', 'vitimas']].groupby(['ano', 'mes'],\n",
    "sort=False).sum()\n",
    "\n",
    "ax = data_vit_rj.unstack(level=0).plot(kind='bar', legend = None, subplots=True, rot=60, figsize=(12, 12), layout=(3, 3))\n",
    "\n",
    "# Defina os limites do eixo y para todos os subgráficos\n",
    "y_max = data_vit_rj.max().max()\n",
    "for ax_row in ax:\n",
    "    for ax_col in ax_row:\n",
    "        ax_col.set_ylim(0, y_max)\n",
    "\n",
    "plt.tight_layout()"
   ]
  },
  {
   "cell_type": "markdown",
   "id": "87454ae1",
   "metadata": {},
   "source": [
    "### Conclusões"
   ]
  },
  {
   "cell_type": "markdown",
   "id": "d9226219",
   "metadata": {},
   "source": [
    "* 2017 foi o ano em que ocorreram a maior quantidade de homicídios dolosos no Brasil e 2022 foi o ano com o menor número.\n",
    "\n",
    "* Roraima foi o Estado com a menor quantidade de vítimas durante esse período, já a Bahia foi o estado com a maior quantidade.\n",
    "\n",
    "* Houve uma redução considerável no número de vítimas do começo do período até o final.\n",
    "\n",
    "* Homens correspondem a cerca de 88% das vítimas, enquanto mulheres correspondem a cerca de 8%.\n",
    "\n",
    "* A maioria dos estados mostrou uma redução na quantidade de vítimas ao longo do período.\n",
    "\n",
    "* No estado do Rio de Janeiro, ao longo dos anos, pode-se observar que a quantidade de vítimas era menor na metade do ano, entre os períodos de maio a agosto.\n",
    "\n",
    "* Importante lembrar que apenas esse conjunto de dados não basta para definir quais são os estados mais e menos violentos. Para isso, normalmente utiliza-se a taxa de homicídios por 100 mil habitantes. Ex.: Pega-se o número de vítimas em um estado naquele ano, divide pelo total da população do estado no mesmo ano e em seguida multiplica por 100 mil."
   ]
  },
  {
   "cell_type": "code",
   "execution_count": null,
   "id": "08689133",
   "metadata": {},
   "outputs": [],
   "source": []
  }
 ],
 "metadata": {
  "kernelspec": {
   "display_name": "Python 3 (ipykernel)",
   "language": "python",
   "name": "python3"
  },
  "language_info": {
   "codemirror_mode": {
    "name": "ipython",
    "version": 3
   },
   "file_extension": ".py",
   "mimetype": "text/x-python",
   "name": "python",
   "nbconvert_exporter": "python",
   "pygments_lexer": "ipython3",
   "version": "3.9.17"
  }
 },
 "nbformat": 4,
 "nbformat_minor": 5
}
