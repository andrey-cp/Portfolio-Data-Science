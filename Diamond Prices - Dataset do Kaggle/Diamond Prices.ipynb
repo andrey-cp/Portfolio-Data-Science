{
 "cells": [
  {
   "cell_type": "markdown",
   "id": "5f0226c2",
   "metadata": {},
   "source": [
    "# 1. Introdução\n",
    "\n",
    "Nosso trabalho aqui consiste em criar um modelo para prever preços de diamantes a partir de suas características.\n",
    "\n",
    "Fonte: https://www.kaggle.com/datasets/nancyalaswad90/diamonds-prices"
   ]
  },
  {
   "cell_type": "markdown",
   "id": "7f6a163d",
   "metadata": {},
   "source": [
    "# 2. Importando bibliotecas"
   ]
  },
  {
   "cell_type": "code",
   "execution_count": 1,
   "id": "18d1a91a",
   "metadata": {},
   "outputs": [],
   "source": [
    "# Para tratar os dados\n",
    "import pandas as pd\n",
    "import numpy as np\n",
    "\n",
    "# Pré-processamento\n",
    "from sklearn.model_selection import train_test_split\n",
    "from sklearn.compose import ColumnTransformer # pipeline com colunas de tipos diferentes\n",
    "from sklearn.impute import SimpleImputer # missing\n",
    "from sklearn.pipeline import Pipeline\n",
    "from sklearn.preprocessing import StandardScaler, OrdinalEncoder # escala das features / tratar categóricas numéricas\n",
    "from category_encoders import TargetEncoder, OneHotEncoder # tratamento de categóricas\n",
    "from sklearn.feature_selection import SelectKBest, mutual_info_classif, f_regression # selecao de features\n",
    "\n",
    "# Modelagem\n",
    "import lightgbm as lgb\n"
   ]
  },
  {
   "cell_type": "markdown",
   "id": "d5bf812c",
   "metadata": {},
   "source": [
    "### Importando o Dataset"
   ]
  },
  {
   "cell_type": "code",
   "execution_count": 2,
   "id": "73dda52c",
   "metadata": {},
   "outputs": [],
   "source": [
    "diamonds_data = pd.read_csv('Diamonds Prices2022.csv')"
   ]
  },
  {
   "cell_type": "code",
   "execution_count": 3,
   "id": "fc7ac152",
   "metadata": {},
   "outputs": [
    {
     "data": {
      "text/html": [
       "<div>\n",
       "<style scoped>\n",
       "    .dataframe tbody tr th:only-of-type {\n",
       "        vertical-align: middle;\n",
       "    }\n",
       "\n",
       "    .dataframe tbody tr th {\n",
       "        vertical-align: top;\n",
       "    }\n",
       "\n",
       "    .dataframe thead th {\n",
       "        text-align: right;\n",
       "    }\n",
       "</style>\n",
       "<table border=\"1\" class=\"dataframe\">\n",
       "  <thead>\n",
       "    <tr style=\"text-align: right;\">\n",
       "      <th></th>\n",
       "      <th>Unnamed: 0</th>\n",
       "      <th>carat</th>\n",
       "      <th>cut</th>\n",
       "      <th>color</th>\n",
       "      <th>clarity</th>\n",
       "      <th>depth</th>\n",
       "      <th>table</th>\n",
       "      <th>price</th>\n",
       "      <th>x</th>\n",
       "      <th>y</th>\n",
       "      <th>z</th>\n",
       "    </tr>\n",
       "  </thead>\n",
       "  <tbody>\n",
       "    <tr>\n",
       "      <th>0</th>\n",
       "      <td>1</td>\n",
       "      <td>0.23</td>\n",
       "      <td>Ideal</td>\n",
       "      <td>E</td>\n",
       "      <td>SI2</td>\n",
       "      <td>61.5</td>\n",
       "      <td>55.0</td>\n",
       "      <td>326</td>\n",
       "      <td>3.95</td>\n",
       "      <td>3.98</td>\n",
       "      <td>2.43</td>\n",
       "    </tr>\n",
       "    <tr>\n",
       "      <th>1</th>\n",
       "      <td>2</td>\n",
       "      <td>0.21</td>\n",
       "      <td>Premium</td>\n",
       "      <td>E</td>\n",
       "      <td>SI1</td>\n",
       "      <td>59.8</td>\n",
       "      <td>61.0</td>\n",
       "      <td>326</td>\n",
       "      <td>3.89</td>\n",
       "      <td>3.84</td>\n",
       "      <td>2.31</td>\n",
       "    </tr>\n",
       "    <tr>\n",
       "      <th>2</th>\n",
       "      <td>3</td>\n",
       "      <td>0.23</td>\n",
       "      <td>Good</td>\n",
       "      <td>E</td>\n",
       "      <td>VS1</td>\n",
       "      <td>56.9</td>\n",
       "      <td>65.0</td>\n",
       "      <td>327</td>\n",
       "      <td>4.05</td>\n",
       "      <td>4.07</td>\n",
       "      <td>2.31</td>\n",
       "    </tr>\n",
       "    <tr>\n",
       "      <th>3</th>\n",
       "      <td>4</td>\n",
       "      <td>0.29</td>\n",
       "      <td>Premium</td>\n",
       "      <td>I</td>\n",
       "      <td>VS2</td>\n",
       "      <td>62.4</td>\n",
       "      <td>58.0</td>\n",
       "      <td>334</td>\n",
       "      <td>4.20</td>\n",
       "      <td>4.23</td>\n",
       "      <td>2.63</td>\n",
       "    </tr>\n",
       "    <tr>\n",
       "      <th>4</th>\n",
       "      <td>5</td>\n",
       "      <td>0.31</td>\n",
       "      <td>Good</td>\n",
       "      <td>J</td>\n",
       "      <td>SI2</td>\n",
       "      <td>63.3</td>\n",
       "      <td>58.0</td>\n",
       "      <td>335</td>\n",
       "      <td>4.34</td>\n",
       "      <td>4.35</td>\n",
       "      <td>2.75</td>\n",
       "    </tr>\n",
       "  </tbody>\n",
       "</table>\n",
       "</div>"
      ],
      "text/plain": [
       "   Unnamed: 0  carat      cut color clarity  depth  table  price     x     y  \\\n",
       "0           1   0.23    Ideal     E     SI2   61.5   55.0    326  3.95  3.98   \n",
       "1           2   0.21  Premium     E     SI1   59.8   61.0    326  3.89  3.84   \n",
       "2           3   0.23     Good     E     VS1   56.9   65.0    327  4.05  4.07   \n",
       "3           4   0.29  Premium     I     VS2   62.4   58.0    334  4.20  4.23   \n",
       "4           5   0.31     Good     J     SI2   63.3   58.0    335  4.34  4.35   \n",
       "\n",
       "      z  \n",
       "0  2.43  \n",
       "1  2.31  \n",
       "2  2.31  \n",
       "3  2.63  \n",
       "4  2.75  "
      ]
     },
     "execution_count": 3,
     "metadata": {},
     "output_type": "execute_result"
    }
   ],
   "source": [
    "diamonds_data.head()"
   ]
  },
  {
   "cell_type": "code",
   "execution_count": 4,
   "id": "b6139869",
   "metadata": {},
   "outputs": [
    {
     "data": {
      "text/plain": [
       "(53943, 11)"
      ]
     },
     "execution_count": 4,
     "metadata": {},
     "output_type": "execute_result"
    }
   ],
   "source": [
    "diamonds_data.shape"
   ]
  },
  {
   "cell_type": "code",
   "execution_count": 5,
   "id": "67069dd6",
   "metadata": {},
   "outputs": [
    {
     "data": {
      "text/html": [
       "<div>\n",
       "<style scoped>\n",
       "    .dataframe tbody tr th:only-of-type {\n",
       "        vertical-align: middle;\n",
       "    }\n",
       "\n",
       "    .dataframe tbody tr th {\n",
       "        vertical-align: top;\n",
       "    }\n",
       "\n",
       "    .dataframe thead th {\n",
       "        text-align: right;\n",
       "    }\n",
       "</style>\n",
       "<table border=\"1\" class=\"dataframe\">\n",
       "  <thead>\n",
       "    <tr style=\"text-align: right;\">\n",
       "      <th></th>\n",
       "      <th>Unnamed: 0</th>\n",
       "      <th>carat</th>\n",
       "      <th>depth</th>\n",
       "      <th>table</th>\n",
       "      <th>price</th>\n",
       "      <th>x</th>\n",
       "      <th>y</th>\n",
       "      <th>z</th>\n",
       "    </tr>\n",
       "  </thead>\n",
       "  <tbody>\n",
       "    <tr>\n",
       "      <th>count</th>\n",
       "      <td>53943.000000</td>\n",
       "      <td>53943.000000</td>\n",
       "      <td>53943.000000</td>\n",
       "      <td>53943.000000</td>\n",
       "      <td>53943.000000</td>\n",
       "      <td>53943.000000</td>\n",
       "      <td>53943.000000</td>\n",
       "      <td>53943.000000</td>\n",
       "    </tr>\n",
       "    <tr>\n",
       "      <th>mean</th>\n",
       "      <td>26972.000000</td>\n",
       "      <td>0.797935</td>\n",
       "      <td>61.749322</td>\n",
       "      <td>57.457251</td>\n",
       "      <td>3932.734294</td>\n",
       "      <td>5.731158</td>\n",
       "      <td>5.734526</td>\n",
       "      <td>3.538730</td>\n",
       "    </tr>\n",
       "    <tr>\n",
       "      <th>std</th>\n",
       "      <td>15572.147122</td>\n",
       "      <td>0.473999</td>\n",
       "      <td>1.432626</td>\n",
       "      <td>2.234549</td>\n",
       "      <td>3989.338447</td>\n",
       "      <td>1.121730</td>\n",
       "      <td>1.142103</td>\n",
       "      <td>0.705679</td>\n",
       "    </tr>\n",
       "    <tr>\n",
       "      <th>min</th>\n",
       "      <td>1.000000</td>\n",
       "      <td>0.200000</td>\n",
       "      <td>43.000000</td>\n",
       "      <td>43.000000</td>\n",
       "      <td>326.000000</td>\n",
       "      <td>0.000000</td>\n",
       "      <td>0.000000</td>\n",
       "      <td>0.000000</td>\n",
       "    </tr>\n",
       "    <tr>\n",
       "      <th>25%</th>\n",
       "      <td>13486.500000</td>\n",
       "      <td>0.400000</td>\n",
       "      <td>61.000000</td>\n",
       "      <td>56.000000</td>\n",
       "      <td>950.000000</td>\n",
       "      <td>4.710000</td>\n",
       "      <td>4.720000</td>\n",
       "      <td>2.910000</td>\n",
       "    </tr>\n",
       "    <tr>\n",
       "      <th>50%</th>\n",
       "      <td>26972.000000</td>\n",
       "      <td>0.700000</td>\n",
       "      <td>61.800000</td>\n",
       "      <td>57.000000</td>\n",
       "      <td>2401.000000</td>\n",
       "      <td>5.700000</td>\n",
       "      <td>5.710000</td>\n",
       "      <td>3.530000</td>\n",
       "    </tr>\n",
       "    <tr>\n",
       "      <th>75%</th>\n",
       "      <td>40457.500000</td>\n",
       "      <td>1.040000</td>\n",
       "      <td>62.500000</td>\n",
       "      <td>59.000000</td>\n",
       "      <td>5324.000000</td>\n",
       "      <td>6.540000</td>\n",
       "      <td>6.540000</td>\n",
       "      <td>4.040000</td>\n",
       "    </tr>\n",
       "    <tr>\n",
       "      <th>max</th>\n",
       "      <td>53943.000000</td>\n",
       "      <td>5.010000</td>\n",
       "      <td>79.000000</td>\n",
       "      <td>95.000000</td>\n",
       "      <td>18823.000000</td>\n",
       "      <td>10.740000</td>\n",
       "      <td>58.900000</td>\n",
       "      <td>31.800000</td>\n",
       "    </tr>\n",
       "  </tbody>\n",
       "</table>\n",
       "</div>"
      ],
      "text/plain": [
       "         Unnamed: 0         carat         depth         table         price  \\\n",
       "count  53943.000000  53943.000000  53943.000000  53943.000000  53943.000000   \n",
       "mean   26972.000000      0.797935     61.749322     57.457251   3932.734294   \n",
       "std    15572.147122      0.473999      1.432626      2.234549   3989.338447   \n",
       "min        1.000000      0.200000     43.000000     43.000000    326.000000   \n",
       "25%    13486.500000      0.400000     61.000000     56.000000    950.000000   \n",
       "50%    26972.000000      0.700000     61.800000     57.000000   2401.000000   \n",
       "75%    40457.500000      1.040000     62.500000     59.000000   5324.000000   \n",
       "max    53943.000000      5.010000     79.000000     95.000000  18823.000000   \n",
       "\n",
       "                  x             y             z  \n",
       "count  53943.000000  53943.000000  53943.000000  \n",
       "mean       5.731158      5.734526      3.538730  \n",
       "std        1.121730      1.142103      0.705679  \n",
       "min        0.000000      0.000000      0.000000  \n",
       "25%        4.710000      4.720000      2.910000  \n",
       "50%        5.700000      5.710000      3.530000  \n",
       "75%        6.540000      6.540000      4.040000  \n",
       "max       10.740000     58.900000     31.800000  "
      ]
     },
     "execution_count": 5,
     "metadata": {},
     "output_type": "execute_result"
    }
   ],
   "source": [
    "diamonds_data.describe()"
   ]
  },
  {
   "cell_type": "code",
   "execution_count": 6,
   "id": "fcb6e195",
   "metadata": {},
   "outputs": [
    {
     "data": {
      "text/plain": [
       "Unnamed: 0    0\n",
       "carat         0\n",
       "cut           0\n",
       "color         0\n",
       "clarity       0\n",
       "depth         0\n",
       "table         0\n",
       "price         0\n",
       "x             0\n",
       "y             0\n",
       "z             0\n",
       "dtype: int64"
      ]
     },
     "execution_count": 6,
     "metadata": {},
     "output_type": "execute_result"
    }
   ],
   "source": [
    "diamonds_data.isna().sum() # mean para ver a taxa de missing"
   ]
  },
  {
   "cell_type": "markdown",
   "id": "1d0ec797",
   "metadata": {},
   "source": [
    "Digamos que a gente queira excluir linhas com mais de 30% de missing. O que fazer?\n",
    "```python\n",
    "diamonds_data = (diamonds_data.isna().mean() <= 0.3).index\n",
    "```"
   ]
  },
  {
   "cell_type": "markdown",
   "id": "d8c8be57",
   "metadata": {},
   "source": [
    "# 3. Análise Exploratória"
   ]
  },
  {
   "cell_type": "markdown",
   "id": "90aa3206",
   "metadata": {},
   "source": [
    "Dessa vez, não vamos fazer análise exploratória. Vamos olhar mais sob a perspectiva de um projeto automatizado onde não é possível ficar olhando as features uma a uma. Além disso, nem sempre vamos conseguir confiar 100% na EDA. Então é importante conhecer técnicas de feature selection e não achar que a EDA é a resposta final."
   ]
  },
  {
   "cell_type": "markdown",
   "id": "07eb2703",
   "metadata": {},
   "source": [
    "# 4. Modelo preditivo de preço"
   ]
  },
  {
   "cell_type": "code",
   "execution_count": 7,
   "id": "dffd7540",
   "metadata": {},
   "outputs": [
    {
     "data": {
      "text/plain": [
       "Index(['Unnamed: 0', 'carat', 'cut', 'color', 'clarity', 'depth', 'table',\n",
       "       'price', 'x', 'y', 'z'],\n",
       "      dtype='object')"
      ]
     },
     "execution_count": 7,
     "metadata": {},
     "output_type": "execute_result"
    }
   ],
   "source": [
    "diamonds_data.columns"
   ]
  },
  {
   "cell_type": "code",
   "execution_count": 8,
   "id": "7544b066",
   "metadata": {},
   "outputs": [],
   "source": [
    "# Vamos começar removendo a 'Unnamed: 0' que não vai nos servir de nada.\n",
    "diamonds_data.drop('Unnamed: 0', axis=1, inplace=True)"
   ]
  },
  {
   "cell_type": "code",
   "execution_count": 9,
   "id": "22df8f53",
   "metadata": {},
   "outputs": [
    {
     "data": {
      "text/html": [
       "<div>\n",
       "<style scoped>\n",
       "    .dataframe tbody tr th:only-of-type {\n",
       "        vertical-align: middle;\n",
       "    }\n",
       "\n",
       "    .dataframe tbody tr th {\n",
       "        vertical-align: top;\n",
       "    }\n",
       "\n",
       "    .dataframe thead th {\n",
       "        text-align: right;\n",
       "    }\n",
       "</style>\n",
       "<table border=\"1\" class=\"dataframe\">\n",
       "  <thead>\n",
       "    <tr style=\"text-align: right;\">\n",
       "      <th></th>\n",
       "      <th>carat</th>\n",
       "      <th>cut</th>\n",
       "      <th>color</th>\n",
       "      <th>clarity</th>\n",
       "      <th>depth</th>\n",
       "      <th>table</th>\n",
       "      <th>price</th>\n",
       "      <th>x</th>\n",
       "      <th>y</th>\n",
       "      <th>z</th>\n",
       "    </tr>\n",
       "  </thead>\n",
       "  <tbody>\n",
       "    <tr>\n",
       "      <th>0</th>\n",
       "      <td>0.23</td>\n",
       "      <td>Ideal</td>\n",
       "      <td>E</td>\n",
       "      <td>SI2</td>\n",
       "      <td>61.5</td>\n",
       "      <td>55.0</td>\n",
       "      <td>326</td>\n",
       "      <td>3.95</td>\n",
       "      <td>3.98</td>\n",
       "      <td>2.43</td>\n",
       "    </tr>\n",
       "    <tr>\n",
       "      <th>1</th>\n",
       "      <td>0.21</td>\n",
       "      <td>Premium</td>\n",
       "      <td>E</td>\n",
       "      <td>SI1</td>\n",
       "      <td>59.8</td>\n",
       "      <td>61.0</td>\n",
       "      <td>326</td>\n",
       "      <td>3.89</td>\n",
       "      <td>3.84</td>\n",
       "      <td>2.31</td>\n",
       "    </tr>\n",
       "    <tr>\n",
       "      <th>2</th>\n",
       "      <td>0.23</td>\n",
       "      <td>Good</td>\n",
       "      <td>E</td>\n",
       "      <td>VS1</td>\n",
       "      <td>56.9</td>\n",
       "      <td>65.0</td>\n",
       "      <td>327</td>\n",
       "      <td>4.05</td>\n",
       "      <td>4.07</td>\n",
       "      <td>2.31</td>\n",
       "    </tr>\n",
       "    <tr>\n",
       "      <th>3</th>\n",
       "      <td>0.29</td>\n",
       "      <td>Premium</td>\n",
       "      <td>I</td>\n",
       "      <td>VS2</td>\n",
       "      <td>62.4</td>\n",
       "      <td>58.0</td>\n",
       "      <td>334</td>\n",
       "      <td>4.20</td>\n",
       "      <td>4.23</td>\n",
       "      <td>2.63</td>\n",
       "    </tr>\n",
       "    <tr>\n",
       "      <th>4</th>\n",
       "      <td>0.31</td>\n",
       "      <td>Good</td>\n",
       "      <td>J</td>\n",
       "      <td>SI2</td>\n",
       "      <td>63.3</td>\n",
       "      <td>58.0</td>\n",
       "      <td>335</td>\n",
       "      <td>4.34</td>\n",
       "      <td>4.35</td>\n",
       "      <td>2.75</td>\n",
       "    </tr>\n",
       "  </tbody>\n",
       "</table>\n",
       "</div>"
      ],
      "text/plain": [
       "   carat      cut color clarity  depth  table  price     x     y     z\n",
       "0   0.23    Ideal     E     SI2   61.5   55.0    326  3.95  3.98  2.43\n",
       "1   0.21  Premium     E     SI1   59.8   61.0    326  3.89  3.84  2.31\n",
       "2   0.23     Good     E     VS1   56.9   65.0    327  4.05  4.07  2.31\n",
       "3   0.29  Premium     I     VS2   62.4   58.0    334  4.20  4.23  2.63\n",
       "4   0.31     Good     J     SI2   63.3   58.0    335  4.34  4.35  2.75"
      ]
     },
     "execution_count": 9,
     "metadata": {},
     "output_type": "execute_result"
    }
   ],
   "source": [
    "diamonds_data.head()"
   ]
  },
  {
   "cell_type": "markdown",
   "id": "c397788c",
   "metadata": {},
   "source": [
    "A descrição no Kaggle nos informou que as variáveis cut, color e clarity são categóricas ordinais. Então a ordem delas importa."
   ]
  },
  {
   "cell_type": "code",
   "execution_count": 10,
   "id": "24657d0a",
   "metadata": {
    "scrolled": true
   },
   "outputs": [
    {
     "data": {
      "text/plain": [
       "cut\n",
       "Ideal        21551\n",
       "Premium      13793\n",
       "Very Good    12083\n",
       "Good          4906\n",
       "Fair          1610\n",
       "Name: count, dtype: int64"
      ]
     },
     "execution_count": 10,
     "metadata": {},
     "output_type": "execute_result"
    }
   ],
   "source": [
    "diamonds_data['cut'].value_counts()"
   ]
  },
  {
   "cell_type": "markdown",
   "id": "f6edda7f",
   "metadata": {},
   "source": [
    " Fair ➡ Good ➡ Very Good ➡ Premium ➡ Ideal (Do pior para o melhor)"
   ]
  },
  {
   "cell_type": "code",
   "execution_count": 11,
   "id": "9b3c89fa",
   "metadata": {},
   "outputs": [
    {
     "data": {
      "text/plain": [
       "color\n",
       "G    11292\n",
       "E     9799\n",
       "F     9543\n",
       "H     8304\n",
       "D     6775\n",
       "I     5422\n",
       "J     2808\n",
       "Name: count, dtype: int64"
      ]
     },
     "execution_count": 11,
     "metadata": {},
     "output_type": "execute_result"
    }
   ],
   "source": [
    "diamonds_data['color'].value_counts()"
   ]
  },
  {
   "cell_type": "markdown",
   "id": "a600b6fb",
   "metadata": {},
   "source": [
    "J ➡ I ➡ H ➡ G ➡ F ➡ E ➡ D (Do pior para o melhor)"
   ]
  },
  {
   "cell_type": "code",
   "execution_count": 12,
   "id": "edf4e545",
   "metadata": {},
   "outputs": [
    {
     "data": {
      "text/plain": [
       "clarity\n",
       "SI1     13067\n",
       "VS2     12259\n",
       "SI2      9194\n",
       "VS1      8171\n",
       "VVS2     5066\n",
       "VVS1     3655\n",
       "IF       1790\n",
       "I1        741\n",
       "Name: count, dtype: int64"
      ]
     },
     "execution_count": 12,
     "metadata": {},
     "output_type": "execute_result"
    }
   ],
   "source": [
    "diamonds_data['clarity'].value_counts()"
   ]
  },
  {
   "cell_type": "markdown",
   "id": "e9c5302c",
   "metadata": {},
   "source": [
    " I1 ➡ SI2 ➡ SI1 ➡ VS2 ➡ VS1 ➡ VVS2 ➡ VVS1 ➡ IF (Do pior para o melhor)"
   ]
  },
  {
   "cell_type": "markdown",
   "id": "f3180d3a",
   "metadata": {},
   "source": [
    "Removendo duplicatas"
   ]
  },
  {
   "cell_type": "code",
   "execution_count": 13,
   "id": "bca1b29d",
   "metadata": {
    "scrolled": true
   },
   "outputs": [
    {
     "data": {
      "text/html": [
       "<div>\n",
       "<style scoped>\n",
       "    .dataframe tbody tr th:only-of-type {\n",
       "        vertical-align: middle;\n",
       "    }\n",
       "\n",
       "    .dataframe tbody tr th {\n",
       "        vertical-align: top;\n",
       "    }\n",
       "\n",
       "    .dataframe thead th {\n",
       "        text-align: right;\n",
       "    }\n",
       "</style>\n",
       "<table border=\"1\" class=\"dataframe\">\n",
       "  <thead>\n",
       "    <tr style=\"text-align: right;\">\n",
       "      <th></th>\n",
       "      <th>carat</th>\n",
       "      <th>cut</th>\n",
       "      <th>color</th>\n",
       "      <th>clarity</th>\n",
       "      <th>depth</th>\n",
       "      <th>table</th>\n",
       "      <th>price</th>\n",
       "      <th>x</th>\n",
       "      <th>y</th>\n",
       "      <th>z</th>\n",
       "    </tr>\n",
       "  </thead>\n",
       "  <tbody>\n",
       "    <tr>\n",
       "      <th>1005</th>\n",
       "      <td>0.79</td>\n",
       "      <td>Ideal</td>\n",
       "      <td>G</td>\n",
       "      <td>SI1</td>\n",
       "      <td>62.3</td>\n",
       "      <td>57.0</td>\n",
       "      <td>2898</td>\n",
       "      <td>5.90</td>\n",
       "      <td>5.85</td>\n",
       "      <td>3.66</td>\n",
       "    </tr>\n",
       "    <tr>\n",
       "      <th>1006</th>\n",
       "      <td>0.79</td>\n",
       "      <td>Ideal</td>\n",
       "      <td>G</td>\n",
       "      <td>SI1</td>\n",
       "      <td>62.3</td>\n",
       "      <td>57.0</td>\n",
       "      <td>2898</td>\n",
       "      <td>5.90</td>\n",
       "      <td>5.85</td>\n",
       "      <td>3.66</td>\n",
       "    </tr>\n",
       "    <tr>\n",
       "      <th>1007</th>\n",
       "      <td>0.79</td>\n",
       "      <td>Ideal</td>\n",
       "      <td>G</td>\n",
       "      <td>SI1</td>\n",
       "      <td>62.3</td>\n",
       "      <td>57.0</td>\n",
       "      <td>2898</td>\n",
       "      <td>5.90</td>\n",
       "      <td>5.85</td>\n",
       "      <td>3.66</td>\n",
       "    </tr>\n",
       "    <tr>\n",
       "      <th>1008</th>\n",
       "      <td>0.79</td>\n",
       "      <td>Ideal</td>\n",
       "      <td>G</td>\n",
       "      <td>SI1</td>\n",
       "      <td>62.3</td>\n",
       "      <td>57.0</td>\n",
       "      <td>2898</td>\n",
       "      <td>5.90</td>\n",
       "      <td>5.85</td>\n",
       "      <td>3.66</td>\n",
       "    </tr>\n",
       "    <tr>\n",
       "      <th>2025</th>\n",
       "      <td>1.52</td>\n",
       "      <td>Good</td>\n",
       "      <td>E</td>\n",
       "      <td>I1</td>\n",
       "      <td>57.3</td>\n",
       "      <td>58.0</td>\n",
       "      <td>3105</td>\n",
       "      <td>7.53</td>\n",
       "      <td>7.42</td>\n",
       "      <td>4.28</td>\n",
       "    </tr>\n",
       "    <tr>\n",
       "      <th>...</th>\n",
       "      <td>...</td>\n",
       "      <td>...</td>\n",
       "      <td>...</td>\n",
       "      <td>...</td>\n",
       "      <td>...</td>\n",
       "      <td>...</td>\n",
       "      <td>...</td>\n",
       "      <td>...</td>\n",
       "      <td>...</td>\n",
       "      <td>...</td>\n",
       "    </tr>\n",
       "    <tr>\n",
       "      <th>50079</th>\n",
       "      <td>0.51</td>\n",
       "      <td>Ideal</td>\n",
       "      <td>F</td>\n",
       "      <td>VVS2</td>\n",
       "      <td>61.2</td>\n",
       "      <td>56.0</td>\n",
       "      <td>2203</td>\n",
       "      <td>5.19</td>\n",
       "      <td>5.17</td>\n",
       "      <td>3.17</td>\n",
       "    </tr>\n",
       "    <tr>\n",
       "      <th>52861</th>\n",
       "      <td>0.50</td>\n",
       "      <td>Fair</td>\n",
       "      <td>E</td>\n",
       "      <td>VS2</td>\n",
       "      <td>79.0</td>\n",
       "      <td>73.0</td>\n",
       "      <td>2579</td>\n",
       "      <td>5.21</td>\n",
       "      <td>5.18</td>\n",
       "      <td>4.09</td>\n",
       "    </tr>\n",
       "    <tr>\n",
       "      <th>53940</th>\n",
       "      <td>0.71</td>\n",
       "      <td>Premium</td>\n",
       "      <td>E</td>\n",
       "      <td>SI1</td>\n",
       "      <td>60.5</td>\n",
       "      <td>55.0</td>\n",
       "      <td>2756</td>\n",
       "      <td>5.79</td>\n",
       "      <td>5.74</td>\n",
       "      <td>3.49</td>\n",
       "    </tr>\n",
       "    <tr>\n",
       "      <th>53941</th>\n",
       "      <td>0.71</td>\n",
       "      <td>Premium</td>\n",
       "      <td>F</td>\n",
       "      <td>SI1</td>\n",
       "      <td>59.8</td>\n",
       "      <td>62.0</td>\n",
       "      <td>2756</td>\n",
       "      <td>5.74</td>\n",
       "      <td>5.73</td>\n",
       "      <td>3.43</td>\n",
       "    </tr>\n",
       "    <tr>\n",
       "      <th>53942</th>\n",
       "      <td>0.70</td>\n",
       "      <td>Very Good</td>\n",
       "      <td>E</td>\n",
       "      <td>VS2</td>\n",
       "      <td>60.5</td>\n",
       "      <td>59.0</td>\n",
       "      <td>2757</td>\n",
       "      <td>5.71</td>\n",
       "      <td>5.76</td>\n",
       "      <td>3.47</td>\n",
       "    </tr>\n",
       "  </tbody>\n",
       "</table>\n",
       "<p>149 rows × 10 columns</p>\n",
       "</div>"
      ],
      "text/plain": [
       "       carat        cut color clarity  depth  table  price     x     y     z\n",
       "1005    0.79      Ideal     G     SI1   62.3   57.0   2898  5.90  5.85  3.66\n",
       "1006    0.79      Ideal     G     SI1   62.3   57.0   2898  5.90  5.85  3.66\n",
       "1007    0.79      Ideal     G     SI1   62.3   57.0   2898  5.90  5.85  3.66\n",
       "1008    0.79      Ideal     G     SI1   62.3   57.0   2898  5.90  5.85  3.66\n",
       "2025    1.52       Good     E      I1   57.3   58.0   3105  7.53  7.42  4.28\n",
       "...      ...        ...   ...     ...    ...    ...    ...   ...   ...   ...\n",
       "50079   0.51      Ideal     F    VVS2   61.2   56.0   2203  5.19  5.17  3.17\n",
       "52861   0.50       Fair     E     VS2   79.0   73.0   2579  5.21  5.18  4.09\n",
       "53940   0.71    Premium     E     SI1   60.5   55.0   2756  5.79  5.74  3.49\n",
       "53941   0.71    Premium     F     SI1   59.8   62.0   2756  5.74  5.73  3.43\n",
       "53942   0.70  Very Good     E     VS2   60.5   59.0   2757  5.71  5.76  3.47\n",
       "\n",
       "[149 rows x 10 columns]"
      ]
     },
     "execution_count": 13,
     "metadata": {},
     "output_type": "execute_result"
    }
   ],
   "source": [
    "diamonds_data[diamonds_data.duplicated()]"
   ]
  },
  {
   "cell_type": "code",
   "execution_count": 14,
   "id": "564afca4",
   "metadata": {},
   "outputs": [],
   "source": [
    "diamonds_data.drop_duplicates(inplace=True)"
   ]
  },
  {
   "cell_type": "markdown",
   "id": "6c57c81a",
   "metadata": {},
   "source": [
    "Agora vamos verificar a presença de outliers. No caso de diamantes, é esperado que tenhamos uma variação considerável nos preços. Então vamos ver qual a porcentagem de outliers em cada coluna. Se a quantidade for pequena, podemos considerar que podem ser dados legítimos e/ou o impacto no modelo não deve ser significativo."
   ]
  },
  {
   "cell_type": "code",
   "execution_count": 15,
   "id": "31ab5ccf",
   "metadata": {},
   "outputs": [],
   "source": [
    "# Verificando quais são as colunas numéricas. Vamos aproveitar pra criar a lista de categóricas também.\n",
    "\n",
    "numerical_columns = diamonds_data.select_dtypes(include=\"number\").columns.to_list()\n",
    "categorical_columns = diamonds_data.select_dtypes(exclude=\"number\").columns.to_list()"
   ]
  },
  {
   "cell_type": "code",
   "execution_count": 16,
   "id": "9bcbfcf3",
   "metadata": {
    "scrolled": false
   },
   "outputs": [
    {
     "data": {
      "text/plain": [
       "['carat', 'depth', 'table', 'price', 'x', 'y', 'z']"
      ]
     },
     "execution_count": 16,
     "metadata": {},
     "output_type": "execute_result"
    }
   ],
   "source": [
    "numerical_columns"
   ]
  },
  {
   "cell_type": "code",
   "execution_count": 17,
   "id": "0b843168",
   "metadata": {},
   "outputs": [
    {
     "data": {
      "text/plain": [
       "['cut', 'color', 'clarity']"
      ]
     },
     "execution_count": 17,
     "metadata": {},
     "output_type": "execute_result"
    }
   ],
   "source": [
    "categorical_columns"
   ]
  },
  {
   "cell_type": "markdown",
   "id": "2e157870",
   "metadata": {},
   "source": [
    "Caso fosse necessário, uma forma de criar dataframes de features numéricas e categóricas seria:\n",
    "```python\n",
    "cols = diamonds_data.dtypes.reset_index().rename(columns={'index': 'coluna', 0: 'tipo'})\n",
    "num_cols = cols[cols['tipo'] != object]\n",
    "categ_cols = cols[cols['tipo'] == object]\n",
    "```\n",
    "Dessa forma teríamos um dataframe com as colunas e seus tipos (int, float, object, etc.)."
   ]
  },
  {
   "cell_type": "code",
   "execution_count": 18,
   "id": "29544e46",
   "metadata": {},
   "outputs": [],
   "source": [
    "# Detectando outliers\n",
    "\n",
    "nomes_colunas = []\n",
    "qtt_outliers = []\n",
    "\n",
    "for i in numerical_columns:\n",
    "    \n",
    "    contador = 0\n",
    "    \n",
    "    q1 = np.quantile(diamonds_data[i], 0.25) # primeiro quartil\n",
    "    q3 = np.quantile(diamonds_data[i], 0.75) # terceiro quartil\n",
    "    li = q1 - 1.5*(q3-q1) # limite inferior\n",
    "    ls = q3 + 1.5*(q3-q1) # limite superior\n",
    "    \n",
    "    for j in diamonds_data.index:\n",
    "        if li <= diamonds_data[i][j] <= ls:\n",
    "            pass\n",
    "        else:\n",
    "            contador += 1\n",
    "    \n",
    "    perc_outliers = (contador / diamonds_data[i].count())*100 # porcentagem da quantidade de outliers nessa coluna\n",
    "    \n",
    "    nomes_colunas.append(i)\n",
    "    qtt_outliers.append(perc_outliers)"
   ]
  },
  {
   "cell_type": "code",
   "execution_count": 19,
   "id": "3aeead73",
   "metadata": {},
   "outputs": [
    {
     "data": {
      "text/plain": [
       "['carat', 'depth', 'table', 'price', 'x', 'y', 'z']"
      ]
     },
     "execution_count": 19,
     "metadata": {},
     "output_type": "execute_result"
    }
   ],
   "source": [
    "nomes_colunas"
   ]
  },
  {
   "cell_type": "code",
   "execution_count": 20,
   "id": "75b75cec",
   "metadata": {
    "scrolled": true
   },
   "outputs": [
    {
     "data": {
      "text/html": [
       "<div>\n",
       "<style scoped>\n",
       "    .dataframe tbody tr th:only-of-type {\n",
       "        vertical-align: middle;\n",
       "    }\n",
       "\n",
       "    .dataframe tbody tr th {\n",
       "        vertical-align: top;\n",
       "    }\n",
       "\n",
       "    .dataframe thead th {\n",
       "        text-align: right;\n",
       "    }\n",
       "</style>\n",
       "<table border=\"1\" class=\"dataframe\">\n",
       "  <thead>\n",
       "    <tr style=\"text-align: right;\">\n",
       "      <th></th>\n",
       "      <th>coluna</th>\n",
       "      <th>perc_outliers</th>\n",
       "    </tr>\n",
       "  </thead>\n",
       "  <tbody>\n",
       "    <tr>\n",
       "      <th>0</th>\n",
       "      <td>carat</td>\n",
       "      <td>3.481801</td>\n",
       "    </tr>\n",
       "    <tr>\n",
       "      <th>1</th>\n",
       "      <td>depth</td>\n",
       "      <td>4.693832</td>\n",
       "    </tr>\n",
       "    <tr>\n",
       "      <th>2</th>\n",
       "      <td>table</td>\n",
       "      <td>1.122802</td>\n",
       "    </tr>\n",
       "    <tr>\n",
       "      <th>3</th>\n",
       "      <td>price</td>\n",
       "      <td>6.549058</td>\n",
       "    </tr>\n",
       "    <tr>\n",
       "      <th>4</th>\n",
       "      <td>x</td>\n",
       "      <td>0.057627</td>\n",
       "    </tr>\n",
       "    <tr>\n",
       "      <th>5</th>\n",
       "      <td>y</td>\n",
       "      <td>0.052050</td>\n",
       "    </tr>\n",
       "    <tr>\n",
       "      <th>6</th>\n",
       "      <td>z</td>\n",
       "      <td>0.089229</td>\n",
       "    </tr>\n",
       "  </tbody>\n",
       "</table>\n",
       "</div>"
      ],
      "text/plain": [
       "  coluna  perc_outliers\n",
       "0  carat       3.481801\n",
       "1  depth       4.693832\n",
       "2  table       1.122802\n",
       "3  price       6.549058\n",
       "4      x       0.057627\n",
       "5      y       0.052050\n",
       "6      z       0.089229"
      ]
     },
     "execution_count": 20,
     "metadata": {},
     "output_type": "execute_result"
    }
   ],
   "source": [
    "outliers = pd.DataFrame()\n",
    "outliers['coluna'] = nomes_colunas\n",
    "outliers['perc_outliers'] = qtt_outliers\n",
    "outliers"
   ]
  },
  {
   "cell_type": "markdown",
   "id": "c4bb7d2f",
   "metadata": {},
   "source": [
    "Se eu quisesse filtrar as colunas com mais de X% de outliers, por exemplo, poderia fazer assim:\n",
    "```python\n",
    "outliers[outliers['perc_outliers'] > X]\n",
    "```"
   ]
  },
  {
   "cell_type": "markdown",
   "id": "efe8d4fc",
   "metadata": {},
   "source": [
    "Como pudemos visualizar, a quantidade de outliers é bem pequena. A coluna Price é a que tem a maior quantidade de outliers com 6,5%. Então, nesse caso, não vamos optar pela remoção desses outliers."
   ]
  },
  {
   "cell_type": "markdown",
   "id": "4ae66e02",
   "metadata": {},
   "source": [
    "Agora vamos remover a coluna price da nossa lista de colunas numéricas, afinal, ele é o nosso target."
   ]
  },
  {
   "cell_type": "code",
   "execution_count": 21,
   "id": "358b424e",
   "metadata": {},
   "outputs": [
    {
     "data": {
      "text/plain": [
       "['carat', 'depth', 'table', 'x', 'y', 'z']"
      ]
     },
     "execution_count": 21,
     "metadata": {},
     "output_type": "execute_result"
    }
   ],
   "source": [
    "numerical_columns = [feature for feature in numerical_columns if feature != 'price']\n",
    "numerical_columns"
   ]
  },
  {
   "cell_type": "code",
   "execution_count": 22,
   "id": "8a5c9968",
   "metadata": {},
   "outputs": [],
   "source": [
    "target = 'price'"
   ]
  },
  {
   "cell_type": "markdown",
   "id": "94c0fa57",
   "metadata": {},
   "source": [
    "Antes de fazer a divisão, vamos fazer um mapeamento nas colunas categóricas. Como foi dito anteriormente, a ordem delas importa, então vamos fazer um Ordinal Encoder manualmente. O ideal é sempre fazer o pré-processamento após o split, porém, como nesse caso não estamos usando informações da coluna inteira para preencher um missing, por exemplo, não teremos risco de data leakage. Portanto, podemos fazer esse encoding antes da divisão (e nesse caso, é até mais prático)."
   ]
  },
  {
   "cell_type": "code",
   "execution_count": 23,
   "id": "22f8e4ca",
   "metadata": {},
   "outputs": [],
   "source": [
    "diamonds_data['cut'] = diamonds_data['cut'].map({'Fair':0, 'Good':1, 'Very Good':2, 'Premium':3, 'Ideal':4})\n",
    "diamonds_data['color'] = diamonds_data['color'].map({'J':0, 'I':1, 'H':2, 'G':3, 'F':4, 'E':5, 'D':6})\n",
    "diamonds_data['clarity'] = diamonds_data['clarity'].map({'I1':0, 'SI2':1, 'SI1':2, 'VS2':3, 'VS1':4, 'VVS2':5, 'VVS1':6, 'IF':7})"
   ]
  },
  {
   "cell_type": "code",
   "execution_count": 24,
   "id": "2b76754c",
   "metadata": {},
   "outputs": [],
   "source": [
    "X = diamonds_data[numerical_columns + categorical_columns]\n",
    "y = diamonds_data[target]"
   ]
  },
  {
   "cell_type": "code",
   "execution_count": 25,
   "id": "107d5d53",
   "metadata": {
    "scrolled": true
   },
   "outputs": [
    {
     "name": "stdout",
     "output_type": "stream",
     "text": [
      "X_train shape: (37655, 9)\n",
      "X_test shape: (16139, 9)\n",
      "y_train shape: (37655,)\n",
      "y_test shape: (16139,)\n"
     ]
    }
   ],
   "source": [
    "X_train, X_test, y_train, y_test = train_test_split(X, y, test_size=0.3, random_state=42)\n",
    "\n",
    "print(f\"X_train shape: {X_train.shape}\")\n",
    "print(f\"X_test shape: {X_test.shape}\")\n",
    "print(f\"y_train shape: {y_train.shape}\")\n",
    "print(f\"y_test shape: {y_test.shape}\")"
   ]
  },
  {
   "cell_type": "code",
   "execution_count": 26,
   "id": "c4c1d877",
   "metadata": {
    "scrolled": true
   },
   "outputs": [
    {
     "data": {
      "text/html": [
       "<style>#sk-container-id-1 {color: black;}#sk-container-id-1 pre{padding: 0;}#sk-container-id-1 div.sk-toggleable {background-color: white;}#sk-container-id-1 label.sk-toggleable__label {cursor: pointer;display: block;width: 100%;margin-bottom: 0;padding: 0.3em;box-sizing: border-box;text-align: center;}#sk-container-id-1 label.sk-toggleable__label-arrow:before {content: \"▸\";float: left;margin-right: 0.25em;color: #696969;}#sk-container-id-1 label.sk-toggleable__label-arrow:hover:before {color: black;}#sk-container-id-1 div.sk-estimator:hover label.sk-toggleable__label-arrow:before {color: black;}#sk-container-id-1 div.sk-toggleable__content {max-height: 0;max-width: 0;overflow: hidden;text-align: left;background-color: #f0f8ff;}#sk-container-id-1 div.sk-toggleable__content pre {margin: 0.2em;color: black;border-radius: 0.25em;background-color: #f0f8ff;}#sk-container-id-1 input.sk-toggleable__control:checked~div.sk-toggleable__content {max-height: 200px;max-width: 100%;overflow: auto;}#sk-container-id-1 input.sk-toggleable__control:checked~label.sk-toggleable__label-arrow:before {content: \"▾\";}#sk-container-id-1 div.sk-estimator input.sk-toggleable__control:checked~label.sk-toggleable__label {background-color: #d4ebff;}#sk-container-id-1 div.sk-label input.sk-toggleable__control:checked~label.sk-toggleable__label {background-color: #d4ebff;}#sk-container-id-1 input.sk-hidden--visually {border: 0;clip: rect(1px 1px 1px 1px);clip: rect(1px, 1px, 1px, 1px);height: 1px;margin: -1px;overflow: hidden;padding: 0;position: absolute;width: 1px;}#sk-container-id-1 div.sk-estimator {font-family: monospace;background-color: #f0f8ff;border: 1px dotted black;border-radius: 0.25em;box-sizing: border-box;margin-bottom: 0.5em;}#sk-container-id-1 div.sk-estimator:hover {background-color: #d4ebff;}#sk-container-id-1 div.sk-parallel-item::after {content: \"\";width: 100%;border-bottom: 1px solid gray;flex-grow: 1;}#sk-container-id-1 div.sk-label:hover label.sk-toggleable__label {background-color: #d4ebff;}#sk-container-id-1 div.sk-serial::before {content: \"\";position: absolute;border-left: 1px solid gray;box-sizing: border-box;top: 0;bottom: 0;left: 50%;z-index: 0;}#sk-container-id-1 div.sk-serial {display: flex;flex-direction: column;align-items: center;background-color: white;padding-right: 0.2em;padding-left: 0.2em;position: relative;}#sk-container-id-1 div.sk-item {position: relative;z-index: 1;}#sk-container-id-1 div.sk-parallel {display: flex;align-items: stretch;justify-content: center;background-color: white;position: relative;}#sk-container-id-1 div.sk-item::before, #sk-container-id-1 div.sk-parallel-item::before {content: \"\";position: absolute;border-left: 1px solid gray;box-sizing: border-box;top: 0;bottom: 0;left: 50%;z-index: -1;}#sk-container-id-1 div.sk-parallel-item {display: flex;flex-direction: column;z-index: 1;position: relative;background-color: white;}#sk-container-id-1 div.sk-parallel-item:first-child::after {align-self: flex-end;width: 50%;}#sk-container-id-1 div.sk-parallel-item:last-child::after {align-self: flex-start;width: 50%;}#sk-container-id-1 div.sk-parallel-item:only-child::after {width: 0;}#sk-container-id-1 div.sk-dashed-wrapped {border: 1px dashed gray;margin: 0 0.4em 0.5em 0.4em;box-sizing: border-box;padding-bottom: 0.4em;background-color: white;}#sk-container-id-1 div.sk-label label {font-family: monospace;font-weight: bold;display: inline-block;line-height: 1.2em;}#sk-container-id-1 div.sk-label-container {text-align: center;}#sk-container-id-1 div.sk-container {/* jupyter's `normalize.less` sets `[hidden] { display: none; }` but bootstrap.min.css set `[hidden] { display: none !important; }` so we also need the `!important` here to be able to override the default hidden behavior on the sphinx rendered scikit-learn.org. See: https://github.com/scikit-learn/scikit-learn/issues/21755 */display: inline-block !important;position: relative;}#sk-container-id-1 div.sk-text-repr-fallback {display: none;}</style><div id=\"sk-container-id-1\" class=\"sk-top-container\"><div class=\"sk-text-repr-fallback\"><pre>Pipeline(steps=[(&#x27;preprocessor&#x27;,\n",
       "                 ColumnTransformer(transformers=[(&#x27;num&#x27;,\n",
       "                                                  Pipeline(steps=[(&#x27;imputer&#x27;,\n",
       "                                                                   SimpleImputer(strategy=&#x27;median&#x27;)),\n",
       "                                                                  (&#x27;scaler&#x27;,\n",
       "                                                                   StandardScaler())]),\n",
       "                                                  [&#x27;carat&#x27;, &#x27;depth&#x27;, &#x27;table&#x27;,\n",
       "                                                   &#x27;x&#x27;, &#x27;y&#x27;, &#x27;z&#x27;]),\n",
       "                                                 (&#x27;cat&#x27;,\n",
       "                                                  Pipeline(steps=[(&#x27;imputer&#x27;,\n",
       "                                                                   SimpleImputer(strategy=&#x27;most_frequent&#x27;))]),\n",
       "                                                  [&#x27;cut&#x27;, &#x27;color&#x27;,\n",
       "                                                   &#x27;clarity&#x27;])])),\n",
       "                (&#x27;feature_selection&#x27;,\n",
       "                 SelectKBest(k=&#x27;all&#x27;,\n",
       "                             score_func=&lt;function f_regression at 0x000001DEF995AE50&gt;)),\n",
       "                (&#x27;model&#x27;, LGBMRegressor())])</pre><b>In a Jupyter environment, please rerun this cell to show the HTML representation or trust the notebook. <br />On GitHub, the HTML representation is unable to render, please try loading this page with nbviewer.org.</b></div><div class=\"sk-container\" hidden><div class=\"sk-item sk-dashed-wrapped\"><div class=\"sk-label-container\"><div class=\"sk-label sk-toggleable\"><input class=\"sk-toggleable__control sk-hidden--visually\" id=\"sk-estimator-id-1\" type=\"checkbox\" ><label for=\"sk-estimator-id-1\" class=\"sk-toggleable__label sk-toggleable__label-arrow\">Pipeline</label><div class=\"sk-toggleable__content\"><pre>Pipeline(steps=[(&#x27;preprocessor&#x27;,\n",
       "                 ColumnTransformer(transformers=[(&#x27;num&#x27;,\n",
       "                                                  Pipeline(steps=[(&#x27;imputer&#x27;,\n",
       "                                                                   SimpleImputer(strategy=&#x27;median&#x27;)),\n",
       "                                                                  (&#x27;scaler&#x27;,\n",
       "                                                                   StandardScaler())]),\n",
       "                                                  [&#x27;carat&#x27;, &#x27;depth&#x27;, &#x27;table&#x27;,\n",
       "                                                   &#x27;x&#x27;, &#x27;y&#x27;, &#x27;z&#x27;]),\n",
       "                                                 (&#x27;cat&#x27;,\n",
       "                                                  Pipeline(steps=[(&#x27;imputer&#x27;,\n",
       "                                                                   SimpleImputer(strategy=&#x27;most_frequent&#x27;))]),\n",
       "                                                  [&#x27;cut&#x27;, &#x27;color&#x27;,\n",
       "                                                   &#x27;clarity&#x27;])])),\n",
       "                (&#x27;feature_selection&#x27;,\n",
       "                 SelectKBest(k=&#x27;all&#x27;,\n",
       "                             score_func=&lt;function f_regression at 0x000001DEF995AE50&gt;)),\n",
       "                (&#x27;model&#x27;, LGBMRegressor())])</pre></div></div></div><div class=\"sk-serial\"><div class=\"sk-item sk-dashed-wrapped\"><div class=\"sk-label-container\"><div class=\"sk-label sk-toggleable\"><input class=\"sk-toggleable__control sk-hidden--visually\" id=\"sk-estimator-id-2\" type=\"checkbox\" ><label for=\"sk-estimator-id-2\" class=\"sk-toggleable__label sk-toggleable__label-arrow\">preprocessor: ColumnTransformer</label><div class=\"sk-toggleable__content\"><pre>ColumnTransformer(transformers=[(&#x27;num&#x27;,\n",
       "                                 Pipeline(steps=[(&#x27;imputer&#x27;,\n",
       "                                                  SimpleImputer(strategy=&#x27;median&#x27;)),\n",
       "                                                 (&#x27;scaler&#x27;, StandardScaler())]),\n",
       "                                 [&#x27;carat&#x27;, &#x27;depth&#x27;, &#x27;table&#x27;, &#x27;x&#x27;, &#x27;y&#x27;, &#x27;z&#x27;]),\n",
       "                                (&#x27;cat&#x27;,\n",
       "                                 Pipeline(steps=[(&#x27;imputer&#x27;,\n",
       "                                                  SimpleImputer(strategy=&#x27;most_frequent&#x27;))]),\n",
       "                                 [&#x27;cut&#x27;, &#x27;color&#x27;, &#x27;clarity&#x27;])])</pre></div></div></div><div class=\"sk-parallel\"><div class=\"sk-parallel-item\"><div class=\"sk-item\"><div class=\"sk-label-container\"><div class=\"sk-label sk-toggleable\"><input class=\"sk-toggleable__control sk-hidden--visually\" id=\"sk-estimator-id-3\" type=\"checkbox\" ><label for=\"sk-estimator-id-3\" class=\"sk-toggleable__label sk-toggleable__label-arrow\">num</label><div class=\"sk-toggleable__content\"><pre>[&#x27;carat&#x27;, &#x27;depth&#x27;, &#x27;table&#x27;, &#x27;x&#x27;, &#x27;y&#x27;, &#x27;z&#x27;]</pre></div></div></div><div class=\"sk-serial\"><div class=\"sk-item\"><div class=\"sk-serial\"><div class=\"sk-item\"><div class=\"sk-estimator sk-toggleable\"><input class=\"sk-toggleable__control sk-hidden--visually\" id=\"sk-estimator-id-4\" type=\"checkbox\" ><label for=\"sk-estimator-id-4\" class=\"sk-toggleable__label sk-toggleable__label-arrow\">SimpleImputer</label><div class=\"sk-toggleable__content\"><pre>SimpleImputer(strategy=&#x27;median&#x27;)</pre></div></div></div><div class=\"sk-item\"><div class=\"sk-estimator sk-toggleable\"><input class=\"sk-toggleable__control sk-hidden--visually\" id=\"sk-estimator-id-5\" type=\"checkbox\" ><label for=\"sk-estimator-id-5\" class=\"sk-toggleable__label sk-toggleable__label-arrow\">StandardScaler</label><div class=\"sk-toggleable__content\"><pre>StandardScaler()</pre></div></div></div></div></div></div></div></div><div class=\"sk-parallel-item\"><div class=\"sk-item\"><div class=\"sk-label-container\"><div class=\"sk-label sk-toggleable\"><input class=\"sk-toggleable__control sk-hidden--visually\" id=\"sk-estimator-id-6\" type=\"checkbox\" ><label for=\"sk-estimator-id-6\" class=\"sk-toggleable__label sk-toggleable__label-arrow\">cat</label><div class=\"sk-toggleable__content\"><pre>[&#x27;cut&#x27;, &#x27;color&#x27;, &#x27;clarity&#x27;]</pre></div></div></div><div class=\"sk-serial\"><div class=\"sk-item\"><div class=\"sk-serial\"><div class=\"sk-item\"><div class=\"sk-estimator sk-toggleable\"><input class=\"sk-toggleable__control sk-hidden--visually\" id=\"sk-estimator-id-7\" type=\"checkbox\" ><label for=\"sk-estimator-id-7\" class=\"sk-toggleable__label sk-toggleable__label-arrow\">SimpleImputer</label><div class=\"sk-toggleable__content\"><pre>SimpleImputer(strategy=&#x27;most_frequent&#x27;)</pre></div></div></div></div></div></div></div></div></div></div><div class=\"sk-item\"><div class=\"sk-estimator sk-toggleable\"><input class=\"sk-toggleable__control sk-hidden--visually\" id=\"sk-estimator-id-8\" type=\"checkbox\" ><label for=\"sk-estimator-id-8\" class=\"sk-toggleable__label sk-toggleable__label-arrow\">SelectKBest</label><div class=\"sk-toggleable__content\"><pre>SelectKBest(k=&#x27;all&#x27;, score_func=&lt;function f_regression at 0x000001DEF995AE50&gt;)</pre></div></div></div><div class=\"sk-item\"><div class=\"sk-estimator sk-toggleable\"><input class=\"sk-toggleable__control sk-hidden--visually\" id=\"sk-estimator-id-9\" type=\"checkbox\" ><label for=\"sk-estimator-id-9\" class=\"sk-toggleable__label sk-toggleable__label-arrow\">LGBMRegressor</label><div class=\"sk-toggleable__content\"><pre>LGBMRegressor()</pre></div></div></div></div></div></div></div>"
      ],
      "text/plain": [
       "Pipeline(steps=[('preprocessor',\n",
       "                 ColumnTransformer(transformers=[('num',\n",
       "                                                  Pipeline(steps=[('imputer',\n",
       "                                                                   SimpleImputer(strategy='median')),\n",
       "                                                                  ('scaler',\n",
       "                                                                   StandardScaler())]),\n",
       "                                                  ['carat', 'depth', 'table',\n",
       "                                                   'x', 'y', 'z']),\n",
       "                                                 ('cat',\n",
       "                                                  Pipeline(steps=[('imputer',\n",
       "                                                                   SimpleImputer(strategy='most_frequent'))]),\n",
       "                                                  ['cut', 'color',\n",
       "                                                   'clarity'])])),\n",
       "                ('feature_selection',\n",
       "                 SelectKBest(k='all',\n",
       "                             score_func=<function f_regression at 0x000001DEF995AE50>)),\n",
       "                ('model', LGBMRegressor())])"
      ]
     },
     "execution_count": 26,
     "metadata": {},
     "output_type": "execute_result"
    }
   ],
   "source": [
    "lgb_model = lgb.LGBMRegressor()\n",
    "\n",
    "numerical_transformer = Pipeline(steps=[\n",
    "    (\"imputer\", SimpleImputer(strategy='median')),\n",
    "    (\"scaler\", StandardScaler())\n",
    "])\n",
    "\n",
    "# Obs.: Nesse nosso caso, as colunas categóricas já foram transformadas em numéricas. Vamos manter o nome\n",
    "# assim por uma questão de organização, mas na prática o nosso categorical_transformer vai funcionar assim\n",
    "# como o numerical_transformer.\n",
    "categorical_transformer = Pipeline(steps=[\n",
    "    (\"imputer\", SimpleImputer(strategy='most_frequent'))\n",
    "])\n",
    "\n",
    "preprocessor = ColumnTransformer(transformers=[\n",
    "    ('num', numerical_transformer, numerical_columns),\n",
    "    ('cat', categorical_transformer, categorical_columns)\n",
    "]\n",
    ")\n",
    "\n",
    "pipeline = Pipeline(steps=[\n",
    "    ('preprocessor', preprocessor),\n",
    "    ('feature_selection', SelectKBest(score_func=f_regression, k='all')), \n",
    "    ('model', lgb_model)\n",
    "])\n",
    "\n",
    "# Treina o modelo\n",
    "pipeline.fit(X_train, y_train)"
   ]
  },
  {
   "cell_type": "markdown",
   "id": "54838295",
   "metadata": {},
   "source": [
    "Vamos enfim realizar a nossa predição e verificar o desempenho do modelo com algumas métricas."
   ]
  },
  {
   "cell_type": "code",
   "execution_count": 27,
   "id": "7e8e490d",
   "metadata": {},
   "outputs": [
    {
     "name": "stdout",
     "output_type": "stream",
     "text": [
      "Mean Squared Error (MSE) test:  265387.1684\n",
      "Root Mean Squared Error (RMSE) test:  515.1574\n",
      "Mean Absolute Error (MAE) test:  272.2429\n",
      "R-squared (R2) test:  0.9827\n"
     ]
    }
   ],
   "source": [
    "from sklearn.metrics import mean_squared_error, mean_absolute_error, r2_score\n",
    "\n",
    "y_pred = pipeline.predict(X_test)\n",
    "mse = mean_squared_error(y_test, y_pred)\n",
    "mae = mean_absolute_error(y_test, y_pred)\n",
    "rmse = np.sqrt(mse)\n",
    "r2 = r2_score(y_test, y_pred)\n",
    "\n",
    "print(f'Mean Squared Error (MSE) test:  {mse:.4f}')\n",
    "print(f'Root Mean Squared Error (RMSE) test:  {rmse:.4f}')\n",
    "print(f'Mean Absolute Error (MAE) test:  {mae:.4f}')\n",
    "print(f'R-squared (R2) test:  {r2:.4f}')"
   ]
  },
  {
   "cell_type": "markdown",
   "id": "39da2541",
   "metadata": {},
   "source": [
    "Vamos comparar as mesmas métricas do modelo fazendo predições com os dados de treino agora."
   ]
  },
  {
   "cell_type": "code",
   "execution_count": 28,
   "id": "d52a11f4",
   "metadata": {
    "scrolled": true
   },
   "outputs": [
    {
     "name": "stdout",
     "output_type": "stream",
     "text": [
      "Mean Squared Error (MSE) train:  225619.6533\n",
      "Root Mean Squared Error (RMSE) train:  474.9944\n",
      "Mean Absolute Error (MAE) train:  260.3635\n",
      "R-squared (R2) train:  0.9860\n"
     ]
    }
   ],
   "source": [
    "y_pred_train = pipeline.predict(X_train)\n",
    "mse = mean_squared_error(y_train, y_pred_train)\n",
    "mae = mean_absolute_error(y_train, y_pred_train)\n",
    "rmse = np.sqrt(mse)\n",
    "r2 = r2_score(y_train, y_pred_train)\n",
    "\n",
    "print(f'Mean Squared Error (MSE) train:  {mse:.4f}')\n",
    "print(f'Root Mean Squared Error (RMSE) train:  {rmse:.4f}')\n",
    "print(f'Mean Absolute Error (MAE) train:  {mae:.4f}')\n",
    "print(f'R-squared (R2) train:  {r2:.4f}')"
   ]
  },
  {
   "cell_type": "markdown",
   "id": "b84ea7d4",
   "metadata": {},
   "source": [
    "Agora uma comparação direta de 50 valores que o algoritmo preveu com os dados de teste."
   ]
  },
  {
   "cell_type": "code",
   "execution_count": 29,
   "id": "84318577",
   "metadata": {
    "scrolled": false
   },
   "outputs": [
    {
     "name": "stdout",
     "output_type": "stream",
     "text": [
      "y_test: 1435 / y_pred: 1760.9046473564624\n",
      "y_test: 3584 / y_pred: 3546.8769114715024\n",
      "y_test: 1851 / y_pred: 1815.719755627432\n",
      "y_test: 1590 / y_pred: 1700.3466191810808\n",
      "y_test: 5690 / y_pred: 5383.998300910552\n",
      "y_test: 596 / y_pred: 670.3945690180915\n",
      "y_test: 492 / y_pred: 593.7796964005291\n",
      "y_test: 2063 / y_pred: 2123.193116074252\n",
      "y_test: 970 / y_pred: 1069.239111773673\n",
      "y_test: 4796 / y_pred: 4659.998616714996\n",
      "y_test: 2476 / y_pred: 2723.825881566893\n",
      "y_test: 8579 / y_pred: 8500.284003187602\n",
      "y_test: 5000 / y_pred: 5246.083918983123\n",
      "y_test: 1197 / y_pred: 1188.8909781287305\n",
      "y_test: 10888 / y_pred: 10789.62639590212\n",
      "y_test: 14766 / y_pred: 13936.732171953601\n",
      "y_test: 3535 / y_pred: 3509.621685172072\n",
      "y_test: 7416 / y_pred: 8101.375462507079\n",
      "y_test: 4900 / y_pred: 4377.4767934777765\n",
      "y_test: 974 / y_pred: 1025.3258823845258\n",
      "y_test: 3528 / y_pred: 3500.476410921339\n",
      "y_test: 3897 / y_pred: 5541.979841431135\n",
      "y_test: 3920 / y_pred: 5105.509703408451\n",
      "y_test: 3016 / y_pred: 3444.3379685850955\n",
      "y_test: 685 / y_pred: 846.7397728938867\n",
      "y_test: 4545 / y_pred: 4641.097788417998\n",
      "y_test: 605 / y_pred: 697.8496765547674\n",
      "y_test: 5000 / y_pred: 3778.3851604573315\n",
      "y_test: 11379 / y_pred: 11070.328110009374\n",
      "y_test: 2927 / y_pred: 2727.5115941837066\n",
      "y_test: 8102 / y_pred: 8350.880216516147\n",
      "y_test: 4661 / y_pred: 4529.430948752455\n",
      "y_test: 521 / y_pred: 620.9136661834362\n",
      "y_test: 911 / y_pred: 772.4959356323351\n",
      "y_test: 738 / y_pred: 664.3997888848953\n",
      "y_test: 533 / y_pred: 600.4393161038756\n",
      "y_test: 4427 / y_pred: 4341.0338405598395\n",
      "y_test: 2313 / y_pred: 2290.2662400282543\n",
      "y_test: 2058 / y_pred: 2421.947246263219\n",
      "y_test: 6987 / y_pred: 7253.497755898855\n",
      "y_test: 1116 / y_pred: 1115.1028776047033\n",
      "y_test: 2742 / y_pred: 2430.45017262122\n",
      "y_test: 830 / y_pred: 732.7875298803879\n",
      "y_test: 2874 / y_pred: 2710.1277616465486\n",
      "y_test: 8089 / y_pred: 7374.873762494152\n",
      "y_test: 5436 / y_pred: 5114.830501302533\n",
      "y_test: 2328 / y_pred: 2166.263698682605\n",
      "y_test: 1752 / y_pred: 1626.7232566838002\n",
      "y_test: 447 / y_pred: 492.5772787563907\n",
      "y_test: 3198 / y_pred: 3457.0452589497927\n"
     ]
    }
   ],
   "source": [
    "y_test_list = y_test.to_list()\n",
    "for x in range(0, 50):\n",
    "    print(f'y_test: {y_test_list[x]} / y_pred: {y_pred[x]}')"
   ]
  },
  {
   "cell_type": "markdown",
   "id": "c201e7aa",
   "metadata": {},
   "source": [
    "Visualizando graficamente a comparação de y_test e y_pred"
   ]
  },
  {
   "cell_type": "code",
   "execution_count": 30,
   "id": "a1827448",
   "metadata": {},
   "outputs": [],
   "source": [
    "import seaborn as sns\n",
    "import matplotlib.pyplot as plt\n",
    "\n",
    "plt.style.use('ggplot')"
   ]
  },
  {
   "cell_type": "code",
   "execution_count": 31,
   "id": "30f028b2",
   "metadata": {},
   "outputs": [
    {
     "name": "stderr",
     "output_type": "stream",
     "text": [
      "C:\\Users\\andre\\anaconda3\\lib\\site-packages\\seaborn\\axisgrid.py:118: UserWarning: The figure layout has changed to tight\n",
      "  self._figure.tight_layout(*args, **kwargs)\n"
     ]
    },
    {
     "data": {
      "image/png": "[encoded data removed]",
      "text/plain": [
       "<Figure size 500x500 with 1 Axes>"
      ]
     },
     "metadata": {},
     "output_type": "display_data"
    }
   ],
   "source": [
    "# Criar um DataFrame com y_test e y_pred\n",
    "df = pd.DataFrame({'y_test': y_test, 'y_pred': y_pred})\n",
    "\n",
    "# Plotar a relação entre as duas colunas\n",
    "sns.relplot(data=df, x='y_test', y='y_pred')\n",
    "plt.show()"
   ]
  },
  {
   "cell_type": "code",
   "execution_count": null,
   "id": "4d3aa9b2",
   "metadata": {},
   "outputs": [],
   "source": []
  }
 ],
 "metadata": {
  "kernelspec": {
   "display_name": "Python 3 (ipykernel)",
   "language": "python",
   "name": "python3"
  },
  "language_info": {
   "codemirror_mode": {
    "name": "ipython",
    "version": 3
   },
   "file_extension": ".py",
   "mimetype": "text/x-python",
   "name": "python",
   "nbconvert_exporter": "python",
   "pygments_lexer": "ipython3",
   "version": "3.9.17"
  }
 },
 "nbformat": 4,
 "nbformat_minor": 5
}
