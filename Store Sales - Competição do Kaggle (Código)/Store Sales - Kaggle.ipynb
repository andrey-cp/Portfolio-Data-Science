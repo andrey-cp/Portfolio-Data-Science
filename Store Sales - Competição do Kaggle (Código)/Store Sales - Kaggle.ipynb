{
 "cells": [
  {
   "cell_type": "markdown",
   "id": "47c8b3ee",
   "metadata": {},
   "source": [
    "## Store Sales\n",
    "##### Competição do Kaggle sobre previsão de vendas de produtos nas lojas Favorita localizadas no Equador"
   ]
  },
  {
   "cell_type": "code",
   "execution_count": 138,
   "id": "36c8cad9",
   "metadata": {},
   "outputs": [],
   "source": [
    "# Importando bibliotecas\n",
    "import pandas as pd\n",
    "import numpy as np\n",
    "import matplotlib.pyplot as plt\n",
    "from matplotlib import gridspec\n",
    "import seaborn as sns"
   ]
  },
  {
   "cell_type": "code",
   "execution_count": 139,
   "id": "7913b4b7",
   "metadata": {},
   "outputs": [],
   "source": [
    "# Importando a base de treino e a base de teste\n",
    "train = pd.read_csv('train.csv')\n",
    "test = pd.read_csv('test.csv')"
   ]
  },
  {
   "cell_type": "code",
   "execution_count": 140,
   "id": "1c329adc",
   "metadata": {},
   "outputs": [
    {
     "data": {
      "text/html": [
       "<div>\n",
       "<style scoped>\n",
       "    .dataframe tbody tr th:only-of-type {\n",
       "        vertical-align: middle;\n",
       "    }\n",
       "\n",
       "    .dataframe tbody tr th {\n",
       "        vertical-align: top;\n",
       "    }\n",
       "\n",
       "    .dataframe thead th {\n",
       "        text-align: right;\n",
       "    }\n",
       "</style>\n",
       "<table border=\"1\" class=\"dataframe\">\n",
       "  <thead>\n",
       "    <tr style=\"text-align: right;\">\n",
       "      <th></th>\n",
       "      <th>id</th>\n",
       "      <th>date</th>\n",
       "      <th>store_nbr</th>\n",
       "      <th>family</th>\n",
       "      <th>sales</th>\n",
       "      <th>onpromotion</th>\n",
       "    </tr>\n",
       "  </thead>\n",
       "  <tbody>\n",
       "    <tr>\n",
       "      <th>0</th>\n",
       "      <td>0</td>\n",
       "      <td>2013-01-01</td>\n",
       "      <td>1</td>\n",
       "      <td>AUTOMOTIVE</td>\n",
       "      <td>0.0</td>\n",
       "      <td>0</td>\n",
       "    </tr>\n",
       "    <tr>\n",
       "      <th>1</th>\n",
       "      <td>1</td>\n",
       "      <td>2013-01-01</td>\n",
       "      <td>1</td>\n",
       "      <td>BABY CARE</td>\n",
       "      <td>0.0</td>\n",
       "      <td>0</td>\n",
       "    </tr>\n",
       "    <tr>\n",
       "      <th>2</th>\n",
       "      <td>2</td>\n",
       "      <td>2013-01-01</td>\n",
       "      <td>1</td>\n",
       "      <td>BEAUTY</td>\n",
       "      <td>0.0</td>\n",
       "      <td>0</td>\n",
       "    </tr>\n",
       "    <tr>\n",
       "      <th>3</th>\n",
       "      <td>3</td>\n",
       "      <td>2013-01-01</td>\n",
       "      <td>1</td>\n",
       "      <td>BEVERAGES</td>\n",
       "      <td>0.0</td>\n",
       "      <td>0</td>\n",
       "    </tr>\n",
       "    <tr>\n",
       "      <th>4</th>\n",
       "      <td>4</td>\n",
       "      <td>2013-01-01</td>\n",
       "      <td>1</td>\n",
       "      <td>BOOKS</td>\n",
       "      <td>0.0</td>\n",
       "      <td>0</td>\n",
       "    </tr>\n",
       "    <tr>\n",
       "      <th>5</th>\n",
       "      <td>5</td>\n",
       "      <td>2013-01-01</td>\n",
       "      <td>1</td>\n",
       "      <td>BREAD/BAKERY</td>\n",
       "      <td>0.0</td>\n",
       "      <td>0</td>\n",
       "    </tr>\n",
       "    <tr>\n",
       "      <th>6</th>\n",
       "      <td>6</td>\n",
       "      <td>2013-01-01</td>\n",
       "      <td>1</td>\n",
       "      <td>CELEBRATION</td>\n",
       "      <td>0.0</td>\n",
       "      <td>0</td>\n",
       "    </tr>\n",
       "    <tr>\n",
       "      <th>7</th>\n",
       "      <td>7</td>\n",
       "      <td>2013-01-01</td>\n",
       "      <td>1</td>\n",
       "      <td>CLEANING</td>\n",
       "      <td>0.0</td>\n",
       "      <td>0</td>\n",
       "    </tr>\n",
       "    <tr>\n",
       "      <th>8</th>\n",
       "      <td>8</td>\n",
       "      <td>2013-01-01</td>\n",
       "      <td>1</td>\n",
       "      <td>DAIRY</td>\n",
       "      <td>0.0</td>\n",
       "      <td>0</td>\n",
       "    </tr>\n",
       "    <tr>\n",
       "      <th>9</th>\n",
       "      <td>9</td>\n",
       "      <td>2013-01-01</td>\n",
       "      <td>1</td>\n",
       "      <td>DELI</td>\n",
       "      <td>0.0</td>\n",
       "      <td>0</td>\n",
       "    </tr>\n",
       "  </tbody>\n",
       "</table>\n",
       "</div>"
      ],
      "text/plain": [
       "   id        date  store_nbr        family  sales  onpromotion\n",
       "0   0  2013-01-01          1    AUTOMOTIVE    0.0            0\n",
       "1   1  2013-01-01          1     BABY CARE    0.0            0\n",
       "2   2  2013-01-01          1        BEAUTY    0.0            0\n",
       "3   3  2013-01-01          1     BEVERAGES    0.0            0\n",
       "4   4  2013-01-01          1         BOOKS    0.0            0\n",
       "5   5  2013-01-01          1  BREAD/BAKERY    0.0            0\n",
       "6   6  2013-01-01          1   CELEBRATION    0.0            0\n",
       "7   7  2013-01-01          1      CLEANING    0.0            0\n",
       "8   8  2013-01-01          1         DAIRY    0.0            0\n",
       "9   9  2013-01-01          1          DELI    0.0            0"
      ]
     },
     "execution_count": 140,
     "metadata": {},
     "output_type": "execute_result"
    }
   ],
   "source": [
    "# Visualizando os dados de treino\n",
    "train.head(10)"
   ]
  },
  {
   "cell_type": "code",
   "execution_count": 141,
   "id": "326103bf",
   "metadata": {},
   "outputs": [
    {
     "data": {
      "text/plain": [
       "(3000888, 6)"
      ]
     },
     "execution_count": 141,
     "metadata": {},
     "output_type": "execute_result"
    }
   ],
   "source": [
    "# Visualizando o shape\n",
    "train.shape"
   ]
  },
  {
   "cell_type": "code",
   "execution_count": 142,
   "id": "d1cccc1a",
   "metadata": {},
   "outputs": [
    {
     "name": "stdout",
     "output_type": "stream",
     "text": [
      "<class 'pandas.core.frame.DataFrame'>\n",
      "RangeIndex: 3000888 entries, 0 to 3000887\n",
      "Data columns (total 6 columns):\n",
      " #   Column       Dtype  \n",
      "---  ------       -----  \n",
      " 0   id           int64  \n",
      " 1   date         object \n",
      " 2   store_nbr    int64  \n",
      " 3   family       object \n",
      " 4   sales        float64\n",
      " 5   onpromotion  int64  \n",
      "dtypes: float64(1), int64(3), object(2)\n",
      "memory usage: 137.4+ MB\n"
     ]
    }
   ],
   "source": [
    "# Visualizando as informações\n",
    "train.info()"
   ]
  },
  {
   "cell_type": "code",
   "execution_count": 143,
   "id": "a71f0335",
   "metadata": {},
   "outputs": [
    {
     "name": "stdout",
     "output_type": "stream",
     "text": [
      "<class 'pandas.core.frame.DataFrame'>\n",
      "RangeIndex: 3000888 entries, 0 to 3000887\n",
      "Data columns (total 6 columns):\n",
      " #   Column       Dtype         \n",
      "---  ------       -----         \n",
      " 0   id           int64         \n",
      " 1   date         datetime64[ns]\n",
      " 2   store_nbr    int64         \n",
      " 3   family       object        \n",
      " 4   sales        float64       \n",
      " 5   onpromotion  int64         \n",
      "dtypes: datetime64[ns](1), float64(1), int64(3), object(1)\n",
      "memory usage: 137.4+ MB\n"
     ]
    }
   ],
   "source": [
    "# Vamos transformar a coluna date de object para 'date'\n",
    "train['date'] = pd.to_datetime(train['date'])\n",
    "train.info()"
   ]
  },
  {
   "cell_type": "code",
   "execution_count": 144,
   "id": "e9bf94bc",
   "metadata": {},
   "outputs": [
    {
     "data": {
      "text/plain": [
       "id             0\n",
       "date           0\n",
       "store_nbr      0\n",
       "family         0\n",
       "sales          0\n",
       "onpromotion    0\n",
       "dtype: int64"
      ]
     },
     "execution_count": 144,
     "metadata": {},
     "output_type": "execute_result"
    }
   ],
   "source": [
    "# Verificando a existência de dados nulos\n",
    "train.isnull().sum()"
   ]
  },
  {
   "cell_type": "code",
   "execution_count": 145,
   "id": "e2840324",
   "metadata": {},
   "outputs": [
    {
     "name": "stdout",
     "output_type": "stream",
     "text": [
      "<class 'pandas.core.frame.DataFrame'>\n",
      "RangeIndex: 28512 entries, 0 to 28511\n",
      "Data columns (total 5 columns):\n",
      " #   Column       Non-Null Count  Dtype         \n",
      "---  ------       --------------  -----         \n",
      " 0   id           28512 non-null  int64         \n",
      " 1   date         28512 non-null  datetime64[ns]\n",
      " 2   store_nbr    28512 non-null  int64         \n",
      " 3   family       28512 non-null  object        \n",
      " 4   onpromotion  28512 non-null  int64         \n",
      "dtypes: datetime64[ns](1), int64(3), object(1)\n",
      "memory usage: 1.1+ MB\n"
     ]
    }
   ],
   "source": [
    "# Vamos transformar o date no dataset de teste também\n",
    "test['date'] = pd.to_datetime(test['date'])\n",
    "test.info()"
   ]
  },
  {
   "cell_type": "code",
   "execution_count": 146,
   "id": "95f94055",
   "metadata": {},
   "outputs": [],
   "source": [
    "# Agora vamos dividir a data em 3 colunas: Ano, mês e dia. Vamos fazer isso tanto no treino quanto no teste\n",
    "train_2 = train.copy()\n",
    "test_2 = test.copy()\n",
    "\n",
    "train_2['year'] = train['date'].dt.year\n",
    "train_2['month'] = train['date'].dt.month\n",
    "train_2['day'] = train['date'].dt.day\n",
    "\n",
    "test_2['year'] = test['date'].dt.year\n",
    "test_2['month'] = test['date'].dt.month\n",
    "test_2['day'] = test['date'].dt.day"
   ]
  },
  {
   "cell_type": "code",
   "execution_count": 147,
   "id": "befb5ff5",
   "metadata": {},
   "outputs": [
    {
     "data": {
      "text/html": [
       "<div>\n",
       "<style scoped>\n",
       "    .dataframe tbody tr th:only-of-type {\n",
       "        vertical-align: middle;\n",
       "    }\n",
       "\n",
       "    .dataframe tbody tr th {\n",
       "        vertical-align: top;\n",
       "    }\n",
       "\n",
       "    .dataframe thead th {\n",
       "        text-align: right;\n",
       "    }\n",
       "</style>\n",
       "<table border=\"1\" class=\"dataframe\">\n",
       "  <thead>\n",
       "    <tr style=\"text-align: right;\">\n",
       "      <th></th>\n",
       "      <th>id</th>\n",
       "      <th>date</th>\n",
       "      <th>store_nbr</th>\n",
       "      <th>family</th>\n",
       "      <th>sales</th>\n",
       "      <th>onpromotion</th>\n",
       "      <th>year</th>\n",
       "      <th>month</th>\n",
       "      <th>day</th>\n",
       "    </tr>\n",
       "  </thead>\n",
       "  <tbody>\n",
       "    <tr>\n",
       "      <th>0</th>\n",
       "      <td>0</td>\n",
       "      <td>2013-01-01</td>\n",
       "      <td>1</td>\n",
       "      <td>AUTOMOTIVE</td>\n",
       "      <td>0.0</td>\n",
       "      <td>0</td>\n",
       "      <td>2013</td>\n",
       "      <td>1</td>\n",
       "      <td>1</td>\n",
       "    </tr>\n",
       "    <tr>\n",
       "      <th>1</th>\n",
       "      <td>1</td>\n",
       "      <td>2013-01-01</td>\n",
       "      <td>1</td>\n",
       "      <td>BABY CARE</td>\n",
       "      <td>0.0</td>\n",
       "      <td>0</td>\n",
       "      <td>2013</td>\n",
       "      <td>1</td>\n",
       "      <td>1</td>\n",
       "    </tr>\n",
       "    <tr>\n",
       "      <th>2</th>\n",
       "      <td>2</td>\n",
       "      <td>2013-01-01</td>\n",
       "      <td>1</td>\n",
       "      <td>BEAUTY</td>\n",
       "      <td>0.0</td>\n",
       "      <td>0</td>\n",
       "      <td>2013</td>\n",
       "      <td>1</td>\n",
       "      <td>1</td>\n",
       "    </tr>\n",
       "    <tr>\n",
       "      <th>3</th>\n",
       "      <td>3</td>\n",
       "      <td>2013-01-01</td>\n",
       "      <td>1</td>\n",
       "      <td>BEVERAGES</td>\n",
       "      <td>0.0</td>\n",
       "      <td>0</td>\n",
       "      <td>2013</td>\n",
       "      <td>1</td>\n",
       "      <td>1</td>\n",
       "    </tr>\n",
       "    <tr>\n",
       "      <th>4</th>\n",
       "      <td>4</td>\n",
       "      <td>2013-01-01</td>\n",
       "      <td>1</td>\n",
       "      <td>BOOKS</td>\n",
       "      <td>0.0</td>\n",
       "      <td>0</td>\n",
       "      <td>2013</td>\n",
       "      <td>1</td>\n",
       "      <td>1</td>\n",
       "    </tr>\n",
       "  </tbody>\n",
       "</table>\n",
       "</div>"
      ],
      "text/plain": [
       "   id       date  store_nbr      family  sales  onpromotion  year  month  day\n",
       "0   0 2013-01-01          1  AUTOMOTIVE    0.0            0  2013      1    1\n",
       "1   1 2013-01-01          1   BABY CARE    0.0            0  2013      1    1\n",
       "2   2 2013-01-01          1      BEAUTY    0.0            0  2013      1    1\n",
       "3   3 2013-01-01          1   BEVERAGES    0.0            0  2013      1    1\n",
       "4   4 2013-01-01          1       BOOKS    0.0            0  2013      1    1"
      ]
     },
     "execution_count": 147,
     "metadata": {},
     "output_type": "execute_result"
    }
   ],
   "source": [
    "train_2.head()"
   ]
  },
  {
   "cell_type": "code",
   "execution_count": 148,
   "id": "34223716",
   "metadata": {},
   "outputs": [
    {
     "data": {
      "text/html": [
       "<div>\n",
       "<style scoped>\n",
       "    .dataframe tbody tr th:only-of-type {\n",
       "        vertical-align: middle;\n",
       "    }\n",
       "\n",
       "    .dataframe tbody tr th {\n",
       "        vertical-align: top;\n",
       "    }\n",
       "\n",
       "    .dataframe thead th {\n",
       "        text-align: right;\n",
       "    }\n",
       "</style>\n",
       "<table border=\"1\" class=\"dataframe\">\n",
       "  <thead>\n",
       "    <tr style=\"text-align: right;\">\n",
       "      <th></th>\n",
       "      <th>id</th>\n",
       "      <th>date</th>\n",
       "      <th>store_nbr</th>\n",
       "      <th>family</th>\n",
       "      <th>onpromotion</th>\n",
       "      <th>year</th>\n",
       "      <th>month</th>\n",
       "      <th>day</th>\n",
       "    </tr>\n",
       "  </thead>\n",
       "  <tbody>\n",
       "    <tr>\n",
       "      <th>0</th>\n",
       "      <td>3000888</td>\n",
       "      <td>2017-08-16</td>\n",
       "      <td>1</td>\n",
       "      <td>AUTOMOTIVE</td>\n",
       "      <td>0</td>\n",
       "      <td>2017</td>\n",
       "      <td>8</td>\n",
       "      <td>16</td>\n",
       "    </tr>\n",
       "    <tr>\n",
       "      <th>1</th>\n",
       "      <td>3000889</td>\n",
       "      <td>2017-08-16</td>\n",
       "      <td>1</td>\n",
       "      <td>BABY CARE</td>\n",
       "      <td>0</td>\n",
       "      <td>2017</td>\n",
       "      <td>8</td>\n",
       "      <td>16</td>\n",
       "    </tr>\n",
       "    <tr>\n",
       "      <th>2</th>\n",
       "      <td>3000890</td>\n",
       "      <td>2017-08-16</td>\n",
       "      <td>1</td>\n",
       "      <td>BEAUTY</td>\n",
       "      <td>2</td>\n",
       "      <td>2017</td>\n",
       "      <td>8</td>\n",
       "      <td>16</td>\n",
       "    </tr>\n",
       "    <tr>\n",
       "      <th>3</th>\n",
       "      <td>3000891</td>\n",
       "      <td>2017-08-16</td>\n",
       "      <td>1</td>\n",
       "      <td>BEVERAGES</td>\n",
       "      <td>20</td>\n",
       "      <td>2017</td>\n",
       "      <td>8</td>\n",
       "      <td>16</td>\n",
       "    </tr>\n",
       "    <tr>\n",
       "      <th>4</th>\n",
       "      <td>3000892</td>\n",
       "      <td>2017-08-16</td>\n",
       "      <td>1</td>\n",
       "      <td>BOOKS</td>\n",
       "      <td>0</td>\n",
       "      <td>2017</td>\n",
       "      <td>8</td>\n",
       "      <td>16</td>\n",
       "    </tr>\n",
       "  </tbody>\n",
       "</table>\n",
       "</div>"
      ],
      "text/plain": [
       "        id       date  store_nbr      family  onpromotion  year  month  day\n",
       "0  3000888 2017-08-16          1  AUTOMOTIVE            0  2017      8   16\n",
       "1  3000889 2017-08-16          1   BABY CARE            0  2017      8   16\n",
       "2  3000890 2017-08-16          1      BEAUTY            2  2017      8   16\n",
       "3  3000891 2017-08-16          1   BEVERAGES           20  2017      8   16\n",
       "4  3000892 2017-08-16          1       BOOKS            0  2017      8   16"
      ]
     },
     "execution_count": 148,
     "metadata": {},
     "output_type": "execute_result"
    }
   ],
   "source": [
    "test_2.head()"
   ]
  },
  {
   "cell_type": "code",
   "execution_count": 149,
   "id": "74abfcbb",
   "metadata": {},
   "outputs": [
    {
     "data": {
      "text/html": [
       "<div>\n",
       "<style scoped>\n",
       "    .dataframe tbody tr th:only-of-type {\n",
       "        vertical-align: middle;\n",
       "    }\n",
       "\n",
       "    .dataframe tbody tr th {\n",
       "        vertical-align: top;\n",
       "    }\n",
       "\n",
       "    .dataframe thead th {\n",
       "        text-align: right;\n",
       "    }\n",
       "</style>\n",
       "<table border=\"1\" class=\"dataframe\">\n",
       "  <thead>\n",
       "    <tr style=\"text-align: right;\">\n",
       "      <th></th>\n",
       "      <th>id</th>\n",
       "      <th>store_nbr</th>\n",
       "      <th>family</th>\n",
       "      <th>sales</th>\n",
       "      <th>onpromotion</th>\n",
       "      <th>year</th>\n",
       "      <th>month</th>\n",
       "      <th>day</th>\n",
       "    </tr>\n",
       "  </thead>\n",
       "  <tbody>\n",
       "    <tr>\n",
       "      <th>0</th>\n",
       "      <td>0</td>\n",
       "      <td>1</td>\n",
       "      <td>AUTOMOTIVE</td>\n",
       "      <td>0.0</td>\n",
       "      <td>0</td>\n",
       "      <td>2013</td>\n",
       "      <td>1</td>\n",
       "      <td>1</td>\n",
       "    </tr>\n",
       "    <tr>\n",
       "      <th>1</th>\n",
       "      <td>1</td>\n",
       "      <td>1</td>\n",
       "      <td>BABY CARE</td>\n",
       "      <td>0.0</td>\n",
       "      <td>0</td>\n",
       "      <td>2013</td>\n",
       "      <td>1</td>\n",
       "      <td>1</td>\n",
       "    </tr>\n",
       "    <tr>\n",
       "      <th>2</th>\n",
       "      <td>2</td>\n",
       "      <td>1</td>\n",
       "      <td>BEAUTY</td>\n",
       "      <td>0.0</td>\n",
       "      <td>0</td>\n",
       "      <td>2013</td>\n",
       "      <td>1</td>\n",
       "      <td>1</td>\n",
       "    </tr>\n",
       "    <tr>\n",
       "      <th>3</th>\n",
       "      <td>3</td>\n",
       "      <td>1</td>\n",
       "      <td>BEVERAGES</td>\n",
       "      <td>0.0</td>\n",
       "      <td>0</td>\n",
       "      <td>2013</td>\n",
       "      <td>1</td>\n",
       "      <td>1</td>\n",
       "    </tr>\n",
       "    <tr>\n",
       "      <th>4</th>\n",
       "      <td>4</td>\n",
       "      <td>1</td>\n",
       "      <td>BOOKS</td>\n",
       "      <td>0.0</td>\n",
       "      <td>0</td>\n",
       "      <td>2013</td>\n",
       "      <td>1</td>\n",
       "      <td>1</td>\n",
       "    </tr>\n",
       "  </tbody>\n",
       "</table>\n",
       "</div>"
      ],
      "text/plain": [
       "   id  store_nbr      family  sales  onpromotion  year  month  day\n",
       "0   0          1  AUTOMOTIVE    0.0            0  2013      1    1\n",
       "1   1          1   BABY CARE    0.0            0  2013      1    1\n",
       "2   2          1      BEAUTY    0.0            0  2013      1    1\n",
       "3   3          1   BEVERAGES    0.0            0  2013      1    1\n",
       "4   4          1       BOOKS    0.0            0  2013      1    1"
      ]
     },
     "execution_count": 149,
     "metadata": {},
     "output_type": "execute_result"
    }
   ],
   "source": [
    "# Vamos remover a coluna date\n",
    "train_2.drop('date', axis=1, inplace=True)\n",
    "train_2.head()"
   ]
  },
  {
   "cell_type": "code",
   "execution_count": 150,
   "id": "547ce0b4",
   "metadata": {
    "scrolled": true
   },
   "outputs": [
    {
     "data": {
      "text/html": [
       "<div>\n",
       "<style scoped>\n",
       "    .dataframe tbody tr th:only-of-type {\n",
       "        vertical-align: middle;\n",
       "    }\n",
       "\n",
       "    .dataframe tbody tr th {\n",
       "        vertical-align: top;\n",
       "    }\n",
       "\n",
       "    .dataframe thead th {\n",
       "        text-align: right;\n",
       "    }\n",
       "</style>\n",
       "<table border=\"1\" class=\"dataframe\">\n",
       "  <thead>\n",
       "    <tr style=\"text-align: right;\">\n",
       "      <th></th>\n",
       "      <th>id</th>\n",
       "      <th>store_nbr</th>\n",
       "      <th>family</th>\n",
       "      <th>onpromotion</th>\n",
       "      <th>year</th>\n",
       "      <th>month</th>\n",
       "      <th>day</th>\n",
       "    </tr>\n",
       "  </thead>\n",
       "  <tbody>\n",
       "    <tr>\n",
       "      <th>0</th>\n",
       "      <td>3000888</td>\n",
       "      <td>1</td>\n",
       "      <td>AUTOMOTIVE</td>\n",
       "      <td>0</td>\n",
       "      <td>2017</td>\n",
       "      <td>8</td>\n",
       "      <td>16</td>\n",
       "    </tr>\n",
       "    <tr>\n",
       "      <th>1</th>\n",
       "      <td>3000889</td>\n",
       "      <td>1</td>\n",
       "      <td>BABY CARE</td>\n",
       "      <td>0</td>\n",
       "      <td>2017</td>\n",
       "      <td>8</td>\n",
       "      <td>16</td>\n",
       "    </tr>\n",
       "    <tr>\n",
       "      <th>2</th>\n",
       "      <td>3000890</td>\n",
       "      <td>1</td>\n",
       "      <td>BEAUTY</td>\n",
       "      <td>2</td>\n",
       "      <td>2017</td>\n",
       "      <td>8</td>\n",
       "      <td>16</td>\n",
       "    </tr>\n",
       "    <tr>\n",
       "      <th>3</th>\n",
       "      <td>3000891</td>\n",
       "      <td>1</td>\n",
       "      <td>BEVERAGES</td>\n",
       "      <td>20</td>\n",
       "      <td>2017</td>\n",
       "      <td>8</td>\n",
       "      <td>16</td>\n",
       "    </tr>\n",
       "    <tr>\n",
       "      <th>4</th>\n",
       "      <td>3000892</td>\n",
       "      <td>1</td>\n",
       "      <td>BOOKS</td>\n",
       "      <td>0</td>\n",
       "      <td>2017</td>\n",
       "      <td>8</td>\n",
       "      <td>16</td>\n",
       "    </tr>\n",
       "  </tbody>\n",
       "</table>\n",
       "</div>"
      ],
      "text/plain": [
       "        id  store_nbr      family  onpromotion  year  month  day\n",
       "0  3000888          1  AUTOMOTIVE            0  2017      8   16\n",
       "1  3000889          1   BABY CARE            0  2017      8   16\n",
       "2  3000890          1      BEAUTY            2  2017      8   16\n",
       "3  3000891          1   BEVERAGES           20  2017      8   16\n",
       "4  3000892          1       BOOKS            0  2017      8   16"
      ]
     },
     "execution_count": 150,
     "metadata": {},
     "output_type": "execute_result"
    }
   ],
   "source": [
    "test_2.drop('date', axis=1, inplace=True)\n",
    "test_2.head()"
   ]
  },
  {
   "cell_type": "markdown",
   "id": "89fe1c31",
   "metadata": {},
   "source": [
    "### Tratando as variáveis categóricas"
   ]
  },
  {
   "cell_type": "code",
   "execution_count": 151,
   "id": "54c4492b",
   "metadata": {
    "scrolled": true
   },
   "outputs": [
    {
     "data": {
      "text/plain": [
       "33"
      ]
     },
     "execution_count": 151,
     "metadata": {},
     "output_type": "execute_result"
    }
   ],
   "source": [
    "# Verificando as variáveis categóricas\n",
    "train_2['family'].nunique()"
   ]
  },
  {
   "cell_type": "code",
   "execution_count": 152,
   "id": "60b1c971",
   "metadata": {},
   "outputs": [
    {
     "data": {
      "text/plain": [
       "AUTOMOTIVE                    90936\n",
       "HOME APPLIANCES               90936\n",
       "SCHOOL AND OFFICE SUPPLIES    90936\n",
       "PRODUCE                       90936\n",
       "PREPARED FOODS                90936\n",
       "POULTRY                       90936\n",
       "PLAYERS AND ELECTRONICS       90936\n",
       "PET SUPPLIES                  90936\n",
       "PERSONAL CARE                 90936\n",
       "MEATS                         90936\n",
       "MAGAZINES                     90936\n",
       "LIQUOR,WINE,BEER              90936\n",
       "LINGERIE                      90936\n",
       "LAWN AND GARDEN               90936\n",
       "LADIESWEAR                    90936\n",
       "HOME CARE                     90936\n",
       "HOME AND KITCHEN II           90936\n",
       "BABY CARE                     90936\n",
       "HOME AND KITCHEN I            90936\n",
       "HARDWARE                      90936\n",
       "GROCERY II                    90936\n",
       "GROCERY I                     90936\n",
       "FROZEN FOODS                  90936\n",
       "EGGS                          90936\n",
       "DELI                          90936\n",
       "DAIRY                         90936\n",
       "CLEANING                      90936\n",
       "CELEBRATION                   90936\n",
       "BREAD/BAKERY                  90936\n",
       "BOOKS                         90936\n",
       "BEVERAGES                     90936\n",
       "BEAUTY                        90936\n",
       "SEAFOOD                       90936\n",
       "Name: family, dtype: int64"
      ]
     },
     "execution_count": 152,
     "metadata": {},
     "output_type": "execute_result"
    }
   ],
   "source": [
    "train_2['family'].value_counts()"
   ]
  },
  {
   "cell_type": "code",
   "execution_count": 153,
   "id": "c06d54c4",
   "metadata": {},
   "outputs": [],
   "source": [
    "# Agora vamos separar o train em dados de treino e validação\n",
    "train_data = train_2[train_2['year'] <= 2015]\n",
    "validation_data = train_2[train_2['year'] > 2015]"
   ]
  },
  {
   "cell_type": "code",
   "execution_count": 154,
   "id": "edda24a0",
   "metadata": {},
   "outputs": [],
   "source": [
    "# Vamos utilizar um target encoding para tratar as variáveis categóricas\n",
    "\n",
    "# Dicionário para armazenar as estatísticas de codificação\n",
    "encoding_dict = {}\n",
    "\n",
    "# Calculando as estatísticas de codificação no conjunto de treinamento\n",
    "encoding_dict['family'] = train_data.groupby('family')['sales'].mean()"
   ]
  },
  {
   "cell_type": "code",
   "execution_count": 155,
   "id": "679a27b1",
   "metadata": {},
   "outputs": [
    {
     "data": {
      "text/plain": [
       "{'family': family\n",
       " AUTOMOTIVE                       5.573921\n",
       " BABY CARE                        0.036427\n",
       " BEAUTY                           2.911817\n",
       " BEVERAGES                     1886.687814\n",
       " BOOKS                            0.000000\n",
       " BREAD/BAKERY                   424.653498\n",
       " CELEBRATION                      5.363519\n",
       " CLEANING                      1007.216558\n",
       " DAIRY                          611.599783\n",
       " DELI                           245.769666\n",
       " EGGS                           161.681132\n",
       " FROZEN FOODS                   150.883601\n",
       " GROCERY I                     3395.659659\n",
       " GROCERY II                      20.971408\n",
       " HARDWARE                         1.053894\n",
       " HOME AND KITCHEN I              14.781831\n",
       " HOME AND KITCHEN II             10.759395\n",
       " HOME APPLIANCES                  0.476106\n",
       " HOME CARE                      112.417379\n",
       " LADIESWEAR                       4.790988\n",
       " LAWN AND GARDEN                  3.821140\n",
       " LINGERIE                         7.756987\n",
       " LIQUOR,WINE,BEER                80.382190\n",
       " MAGAZINES                        1.073837\n",
       " MEATS                          331.282095\n",
       " PERSONAL CARE                  244.172399\n",
       " PET SUPPLIES                     2.031152\n",
       " PLAYERS AND ELECTRONICS          3.789767\n",
       " POULTRY                        330.688728\n",
       " PREPARED FOODS                  93.132698\n",
       " PRODUCE                        834.031633\n",
       " SCHOOL AND OFFICE SUPPLIES       1.277337\n",
       " SEAFOOD                         21.813239\n",
       " Name: sales, dtype: float64}"
      ]
     },
     "execution_count": 155,
     "metadata": {},
     "output_type": "execute_result"
    }
   ],
   "source": [
    "# Verificando as estatísticas de codificação\n",
    "encoding_dict"
   ]
  },
  {
   "cell_type": "code",
   "execution_count": 156,
   "id": "cb36e3bc",
   "metadata": {},
   "outputs": [
    {
     "name": "stderr",
     "output_type": "stream",
     "text": [
      "C:\\Users\\andre\\AppData\\Local\\Temp\\ipykernel_15852\\712844837.py:2: SettingWithCopyWarning: \n",
      "A value is trying to be set on a copy of a slice from a DataFrame.\n",
      "Try using .loc[row_indexer,col_indexer] = value instead\n",
      "\n",
      "See the caveats in the documentation: https://pandas.pydata.org/pandas-docs/stable/user_guide/indexing.html#returning-a-view-versus-a-copy\n",
      "  train_data['family_encoded'] = train_data['family'].map(encoding_dict['family'])\n",
      "C:\\Users\\andre\\AppData\\Local\\Temp\\ipykernel_15852\\712844837.py:5: SettingWithCopyWarning: \n",
      "A value is trying to be set on a copy of a slice from a DataFrame.\n",
      "Try using .loc[row_indexer,col_indexer] = value instead\n",
      "\n",
      "See the caveats in the documentation: https://pandas.pydata.org/pandas-docs/stable/user_guide/indexing.html#returning-a-view-versus-a-copy\n",
      "  validation_data['family_encoded'] = validation_data['family'].map(encoding_dict['family'])\n"
     ]
    }
   ],
   "source": [
    "# Aplicando o target encoding no conjunto de treinamento\n",
    "train_data['family_encoded'] = train_data['family'].map(encoding_dict['family'])\n",
    "\n",
    "# Aplicando no conjunto de validação\n",
    "validation_data['family_encoded'] = validation_data['family'].map(encoding_dict['family'])\n"
   ]
  },
  {
   "cell_type": "code",
   "execution_count": 157,
   "id": "e3b296de",
   "metadata": {},
   "outputs": [
    {
     "data": {
      "text/html": [
       "<div>\n",
       "<style scoped>\n",
       "    .dataframe tbody tr th:only-of-type {\n",
       "        vertical-align: middle;\n",
       "    }\n",
       "\n",
       "    .dataframe tbody tr th {\n",
       "        vertical-align: top;\n",
       "    }\n",
       "\n",
       "    .dataframe thead th {\n",
       "        text-align: right;\n",
       "    }\n",
       "</style>\n",
       "<table border=\"1\" class=\"dataframe\">\n",
       "  <thead>\n",
       "    <tr style=\"text-align: right;\">\n",
       "      <th></th>\n",
       "      <th>store_nbr</th>\n",
       "      <th>sales</th>\n",
       "      <th>onpromotion</th>\n",
       "      <th>year</th>\n",
       "      <th>month</th>\n",
       "      <th>day</th>\n",
       "      <th>family_encoded</th>\n",
       "    </tr>\n",
       "  </thead>\n",
       "  <tbody>\n",
       "    <tr>\n",
       "      <th>0</th>\n",
       "      <td>1</td>\n",
       "      <td>0.0</td>\n",
       "      <td>0</td>\n",
       "      <td>2013</td>\n",
       "      <td>1</td>\n",
       "      <td>1</td>\n",
       "      <td>5.573921</td>\n",
       "    </tr>\n",
       "    <tr>\n",
       "      <th>1</th>\n",
       "      <td>1</td>\n",
       "      <td>0.0</td>\n",
       "      <td>0</td>\n",
       "      <td>2013</td>\n",
       "      <td>1</td>\n",
       "      <td>1</td>\n",
       "      <td>0.036427</td>\n",
       "    </tr>\n",
       "    <tr>\n",
       "      <th>2</th>\n",
       "      <td>1</td>\n",
       "      <td>0.0</td>\n",
       "      <td>0</td>\n",
       "      <td>2013</td>\n",
       "      <td>1</td>\n",
       "      <td>1</td>\n",
       "      <td>2.911817</td>\n",
       "    </tr>\n",
       "    <tr>\n",
       "      <th>3</th>\n",
       "      <td>1</td>\n",
       "      <td>0.0</td>\n",
       "      <td>0</td>\n",
       "      <td>2013</td>\n",
       "      <td>1</td>\n",
       "      <td>1</td>\n",
       "      <td>1886.687814</td>\n",
       "    </tr>\n",
       "    <tr>\n",
       "      <th>4</th>\n",
       "      <td>1</td>\n",
       "      <td>0.0</td>\n",
       "      <td>0</td>\n",
       "      <td>2013</td>\n",
       "      <td>1</td>\n",
       "      <td>1</td>\n",
       "      <td>0.000000</td>\n",
       "    </tr>\n",
       "  </tbody>\n",
       "</table>\n",
       "</div>"
      ],
      "text/plain": [
       "   store_nbr  sales  onpromotion  year  month  day  family_encoded\n",
       "0          1    0.0            0  2013      1    1        5.573921\n",
       "1          1    0.0            0  2013      1    1        0.036427\n",
       "2          1    0.0            0  2013      1    1        2.911817\n",
       "3          1    0.0            0  2013      1    1     1886.687814\n",
       "4          1    0.0            0  2013      1    1        0.000000"
      ]
     },
     "execution_count": 157,
     "metadata": {},
     "output_type": "execute_result"
    }
   ],
   "source": [
    "# Deletando as colunas originais\n",
    "train_data = train_data.drop(['id', 'family'], axis=1)\n",
    "validation_data = validation_data.drop(['id', 'family'], axis=1)\n",
    "\n",
    "train_data.head()"
   ]
  },
  {
   "cell_type": "markdown",
   "id": "334a2627",
   "metadata": {},
   "source": [
    "### Criando nosso modelo"
   ]
  },
  {
   "cell_type": "code",
   "execution_count": 158,
   "id": "2b9404eb",
   "metadata": {},
   "outputs": [],
   "source": [
    "# Agora vamos separar as features do target\n",
    "X_train = train_data.drop('sales', axis=1)\n",
    "X_val = validation_data.drop('sales', axis=1)\n",
    "\n",
    "y_train = train_data['sales']\n",
    "y_val = validation_data['sales']"
   ]
  },
  {
   "cell_type": "markdown",
   "id": "f22ca791",
   "metadata": {},
   "source": [
    "* Vamos selecionar alguns algoritmos simples para começar:\n",
    "    * Regressão linear\n",
    "    * Árvore de regressão\n",
    "    * KNeighborsRegressor"
   ]
  },
  {
   "cell_type": "code",
   "execution_count": 159,
   "id": "31153a12",
   "metadata": {},
   "outputs": [],
   "source": [
    "# Importando a regressão linear\n",
    "from sklearn.linear_model import LinearRegression"
   ]
  },
  {
   "cell_type": "code",
   "execution_count": 160,
   "id": "b668f0a4",
   "metadata": {},
   "outputs": [],
   "source": [
    "# Criando o regressor e fazendo o fit com os dados de treino\n",
    "reg_rl = LinearRegression().fit(X_train, y_train)"
   ]
  },
  {
   "cell_type": "code",
   "execution_count": 161,
   "id": "4d162bdd",
   "metadata": {},
   "outputs": [],
   "source": [
    "# Fazendo a previsão para os dados de teste\n",
    "y_rl = reg_rl.predict(X_val)"
   ]
  },
  {
   "cell_type": "code",
   "execution_count": 162,
   "id": "5b574bdf",
   "metadata": {},
   "outputs": [],
   "source": [
    "# Importando a árvore de regressão \n",
    "from sklearn import tree"
   ]
  },
  {
   "cell_type": "code",
   "execution_count": 163,
   "id": "99cb10f1",
   "metadata": {},
   "outputs": [],
   "source": [
    "# Criando o regressor e fazendo o fit com os dados de treino\n",
    "reg_ar = tree.DecisionTreeRegressor(random_state=42).fit(X_train, y_train)"
   ]
  },
  {
   "cell_type": "code",
   "execution_count": 164,
   "id": "5e42cc48",
   "metadata": {},
   "outputs": [],
   "source": [
    "# Fazendo a previsão\n",
    "y_ar = reg_ar.predict(X_val)"
   ]
  },
  {
   "cell_type": "code",
   "execution_count": 165,
   "id": "fe52dcfd",
   "metadata": {},
   "outputs": [],
   "source": [
    "# Importando o KNN\n",
    "from sklearn.neighbors import KNeighborsRegressor"
   ]
  },
  {
   "cell_type": "code",
   "execution_count": 166,
   "id": "3ef6104e",
   "metadata": {},
   "outputs": [],
   "source": [
    "# Criando o regressor e fazendo o fit com os dados de treino\n",
    "reg_knn = KNeighborsRegressor(n_neighbors=2).fit(X_train, y_train)"
   ]
  },
  {
   "cell_type": "code",
   "execution_count": 167,
   "id": "cdc3a78b",
   "metadata": {},
   "outputs": [],
   "source": [
    "# Fazendo a previsão\n",
    "y_knn = reg_knn.predict(X_val)"
   ]
  },
  {
   "cell_type": "markdown",
   "id": "a977c77b",
   "metadata": {},
   "source": [
    "### Vamos avaliar os dados utilizando tanto o erro médio absoluto quanto o quadrático"
   ]
  },
  {
   "cell_type": "code",
   "execution_count": 168,
   "id": "4974c023",
   "metadata": {},
   "outputs": [],
   "source": [
    "from sklearn.metrics import mean_absolute_error, mean_squared_error"
   ]
  },
  {
   "cell_type": "code",
   "execution_count": 169,
   "id": "e123881b",
   "metadata": {},
   "outputs": [
    {
     "name": "stdout",
     "output_type": "stream",
     "text": [
      "347.79890196545114\n",
      "789797.1896622779\n"
     ]
    }
   ],
   "source": [
    "# Avaliando o erro da regressão\n",
    "print(mean_absolute_error(y_val, y_rl))\n",
    "print(mean_squared_error(y_val, y_rl))"
   ]
  },
  {
   "cell_type": "code",
   "execution_count": 170,
   "id": "87ec70b0",
   "metadata": {},
   "outputs": [
    {
     "name": "stdout",
     "output_type": "stream",
     "text": [
      "194.42167866065498\n",
      "656043.0223580307\n"
     ]
    }
   ],
   "source": [
    "# Avaliando o erro da árvore de decisão\n",
    "print(mean_absolute_error(y_val, y_ar))\n",
    "print(mean_squared_error(y_val, y_ar))"
   ]
  },
  {
   "cell_type": "code",
   "execution_count": 171,
   "id": "d1edd317",
   "metadata": {},
   "outputs": [
    {
     "name": "stdout",
     "output_type": "stream",
     "text": [
      "245.72978931826052\n",
      "818087.7500585987\n"
     ]
    }
   ],
   "source": [
    "# Avaliando o erro do KNN\n",
    "print(mean_absolute_error(y_val, y_knn))\n",
    "print(mean_squared_error(y_val, y_knn))"
   ]
  },
  {
   "cell_type": "markdown",
   "id": "e393abf2",
   "metadata": {},
   "source": [
    "### Visualizando graficamente"
   ]
  },
  {
   "cell_type": "code",
   "execution_count": 172,
   "id": "e381066c",
   "metadata": {},
   "outputs": [
    {
     "data": {
      "text/plain": [
       "[Text(0.5, 1.0, 'KNN')]"
      ]
     },
     "execution_count": 172,
     "metadata": {},
     "output_type": "execute_result"
    },
    {
     "data": {
      "image/png": "[encoded data removed]",
      "text/plain": [
       "<Figure size 1200x400 with 3 Axes>"
      ]
     },
     "metadata": {},
     "output_type": "display_data"
    }
   ],
   "source": [
    "# Criando o gráfico\n",
    "\n",
    "fig = plt.figure(figsize=(12, 4))\n",
    "specs = gridspec.GridSpec(ncols=3, nrows=1, figure=fig)\n",
    "\n",
    "ax1 = fig.add_subplot(specs[:, 0])\n",
    "ax2 = fig.add_subplot(specs[:, 1])\n",
    "ax3 = fig.add_subplot(specs[:, 2])\n",
    "\n",
    "# Primeiro gráfico\n",
    "ax1 = sns.scatterplot(x=y_val/5000, y=y_rl/5000, ax=ax1)\n",
    "ax1.plot([0, 70000], [0, 70000], '--r')\n",
    "ax1.set(xlim=(0, 7), ylim=(0, 7))\n",
    "ax1.set_xlabel('Real')\n",
    "ax1.set_ylabel('Previsão')\n",
    "ax1.set(title='Regressão Linear')\n",
    "\n",
    "# Segundo gráfico\n",
    "ax2 = sns.scatterplot(x=y_val/5000, y=y_ar/5000, ax=ax2)\n",
    "ax2.plot([0, 70000], [0, 70000], '--r')\n",
    "ax2.set(xlim=(0, 7), ylim=(0, 7))\n",
    "ax2.set_xlabel('Real')\n",
    "ax2.set_ylabel('Previsão')\n",
    "ax2.set(title='Árvore de Regressão')\n",
    "\n",
    "# Terceiro gráfico\n",
    "ax3 = sns.scatterplot(x=y_val/5000, y=y_knn/5000, ax=ax3)\n",
    "ax3.plot([0, 70000], [0, 70000], '--r')\n",
    "ax3.set(xlim=(0, 7), ylim=(0, 7))\n",
    "ax3.set_xlabel('Real')\n",
    "ax3.set_ylabel('Previsão')\n",
    "ax3.set(title='KNN')"
   ]
  },
  {
   "cell_type": "markdown",
   "id": "3f1ea8f4",
   "metadata": {},
   "source": [
    "* Vamos usar a árvore de regressão por ter sido o algoritmo com menor erro."
   ]
  },
  {
   "cell_type": "markdown",
   "id": "1d9edf0f",
   "metadata": {},
   "source": [
    "### Fazendo a previsão para a base de teste"
   ]
  },
  {
   "cell_type": "code",
   "execution_count": 179,
   "id": "3c5b471a",
   "metadata": {},
   "outputs": [],
   "source": [
    "# Antes, precisamos fazer os tratamenos no conjunto de teste também\n",
    "test_2['family_encoded'] = test_2['family'].map(encoding_dict['family'])"
   ]
  },
  {
   "cell_type": "code",
   "execution_count": 181,
   "id": "af8d76ca",
   "metadata": {},
   "outputs": [],
   "source": [
    "test_2.drop(['family'], axis=1, inplace=True)"
   ]
  },
  {
   "cell_type": "code",
   "execution_count": 175,
   "id": "73956f04",
   "metadata": {},
   "outputs": [],
   "source": [
    "test_2.head()"
   ]
  },
  {
   "cell_type": "code",
   "execution_count": 182,
   "id": "a3567418",
   "metadata": {},
   "outputs": [],
   "source": [
    "# Árvore de regressão\n",
    "y_pred = reg_ar.predict(test_2.drop('id', axis=1))"
   ]
  },
  {
   "cell_type": "code",
   "execution_count": 183,
   "id": "1ee6e540",
   "metadata": {},
   "outputs": [],
   "source": [
    "# Criando uma cópia da base com a coluna de previsão\n",
    "test_2_pred = test_2.copy()\n",
    "test_2_pred['sales'] = y_pred"
   ]
  },
  {
   "cell_type": "code",
   "execution_count": 184,
   "id": "d9eeb936",
   "metadata": {},
   "outputs": [
    {
     "data": {
      "text/html": [
       "<div>\n",
       "<style scoped>\n",
       "    .dataframe tbody tr th:only-of-type {\n",
       "        vertical-align: middle;\n",
       "    }\n",
       "\n",
       "    .dataframe tbody tr th {\n",
       "        vertical-align: top;\n",
       "    }\n",
       "\n",
       "    .dataframe thead th {\n",
       "        text-align: right;\n",
       "    }\n",
       "</style>\n",
       "<table border=\"1\" class=\"dataframe\">\n",
       "  <thead>\n",
       "    <tr style=\"text-align: right;\">\n",
       "      <th></th>\n",
       "      <th>id</th>\n",
       "      <th>store_nbr</th>\n",
       "      <th>onpromotion</th>\n",
       "      <th>year</th>\n",
       "      <th>month</th>\n",
       "      <th>day</th>\n",
       "      <th>family_encoded</th>\n",
       "      <th>sales</th>\n",
       "    </tr>\n",
       "  </thead>\n",
       "  <tbody>\n",
       "    <tr>\n",
       "      <th>0</th>\n",
       "      <td>3000888</td>\n",
       "      <td>1</td>\n",
       "      <td>0</td>\n",
       "      <td>2017</td>\n",
       "      <td>8</td>\n",
       "      <td>16</td>\n",
       "      <td>5.573921</td>\n",
       "      <td>1.0</td>\n",
       "    </tr>\n",
       "    <tr>\n",
       "      <th>1</th>\n",
       "      <td>3000889</td>\n",
       "      <td>1</td>\n",
       "      <td>0</td>\n",
       "      <td>2017</td>\n",
       "      <td>8</td>\n",
       "      <td>16</td>\n",
       "      <td>0.036427</td>\n",
       "      <td>0.0</td>\n",
       "    </tr>\n",
       "    <tr>\n",
       "      <th>2</th>\n",
       "      <td>3000890</td>\n",
       "      <td>1</td>\n",
       "      <td>2</td>\n",
       "      <td>2017</td>\n",
       "      <td>8</td>\n",
       "      <td>16</td>\n",
       "      <td>2.911817</td>\n",
       "      <td>6.0</td>\n",
       "    </tr>\n",
       "    <tr>\n",
       "      <th>3</th>\n",
       "      <td>3000891</td>\n",
       "      <td>1</td>\n",
       "      <td>20</td>\n",
       "      <td>2017</td>\n",
       "      <td>8</td>\n",
       "      <td>16</td>\n",
       "      <td>1886.687814</td>\n",
       "      <td>2092.0</td>\n",
       "    </tr>\n",
       "    <tr>\n",
       "      <th>4</th>\n",
       "      <td>3000892</td>\n",
       "      <td>1</td>\n",
       "      <td>0</td>\n",
       "      <td>2017</td>\n",
       "      <td>8</td>\n",
       "      <td>16</td>\n",
       "      <td>0.000000</td>\n",
       "      <td>0.0</td>\n",
       "    </tr>\n",
       "  </tbody>\n",
       "</table>\n",
       "</div>"
      ],
      "text/plain": [
       "        id  store_nbr  onpromotion  year  month  day  family_encoded   sales\n",
       "0  3000888          1            0  2017      8   16        5.573921     1.0\n",
       "1  3000889          1            0  2017      8   16        0.036427     0.0\n",
       "2  3000890          1            2  2017      8   16        2.911817     6.0\n",
       "3  3000891          1           20  2017      8   16     1886.687814  2092.0\n",
       "4  3000892          1            0  2017      8   16        0.000000     0.0"
      ]
     },
     "execution_count": 184,
     "metadata": {},
     "output_type": "execute_result"
    }
   ],
   "source": [
    "test_2_pred.head()"
   ]
  },
  {
   "cell_type": "code",
   "execution_count": 186,
   "id": "ea0b4e8e",
   "metadata": {},
   "outputs": [],
   "source": [
    "# Extrair somente o id e o sale\n",
    "resultado = test_2_pred[['id', 'sales']]"
   ]
  },
  {
   "cell_type": "code",
   "execution_count": 187,
   "id": "748da5e6",
   "metadata": {},
   "outputs": [],
   "source": [
    "# Exportando a base\n",
    "resultado.to_csv('resultado.csv', index=False)"
   ]
  },
  {
   "cell_type": "markdown",
   "id": "c85a8c7c",
   "metadata": {},
   "source": [
    "### Resultados\n",
    "\n",
    "O primeiro resultado que obtivemos no Kaggle foi 0.95"
   ]
  },
  {
   "cell_type": "code",
   "execution_count": null,
   "id": "a4fe6f3c",
   "metadata": {},
   "outputs": [],
   "source": []
  }
 ],
 "metadata": {
  "kernelspec": {
   "display_name": "Python 3 (ipykernel)",
   "language": "python",
   "name": "python3"
  },
  "language_info": {
   "codemirror_mode": {
    "name": "ipython",
    "version": 3
   },
   "file_extension": ".py",
   "mimetype": "text/x-python",
   "name": "python",
   "nbconvert_exporter": "python",
   "pygments_lexer": "ipython3",
   "version": "3.9.12"
  }
 },
 "nbformat": 4,
 "nbformat_minor": 5
}
