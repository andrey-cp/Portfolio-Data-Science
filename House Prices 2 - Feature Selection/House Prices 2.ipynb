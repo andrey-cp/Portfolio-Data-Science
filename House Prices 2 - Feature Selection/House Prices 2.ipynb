{
 "cells": [
  {
   "cell_type": "markdown",
   "id": "8271a75b",
   "metadata": {},
   "source": [
    "# House Prices 2\n",
    "Competição do Kaggle sobre a previsão de preço das casa na cidade de Ames, Iowa (Estados Unidos).\n",
    "Essa é uma segunda resolução deste problema presente aqui no meu portfólio. A intenção aqui é utilizar pipelines e técnicas de feature selection para a otimização dos modelos."
   ]
  },
  {
   "cell_type": "markdown",
   "id": "a7a6c860",
   "metadata": {},
   "source": [
    "# Importando bibliotecas"
   ]
  },
  {
   "cell_type": "code",
   "execution_count": 1,
   "id": "6d772d6f",
   "metadata": {},
   "outputs": [],
   "source": [
    "# Para tratar os dados\n",
    "import pandas as pd\n",
    "import numpy as np\n",
    "\n",
    "# Pré-processamento\n",
    "from sklearn.model_selection import train_test_split\n",
    "from sklearn.compose import ColumnTransformer # pipeline com colunas de tipos diferentes\n",
    "from sklearn.impute import SimpleImputer # missing\n",
    "from sklearn.pipeline import Pipeline\n",
    "from sklearn.preprocessing import StandardScaler, OrdinalEncoder # escala das features / tratar categóricas numéricas\n",
    "from category_encoders import TargetEncoder, OneHotEncoder # tratamento de categóricas\n",
    "from sklearn.feature_selection import SelectKBest, mutual_info_classif, f_regression # selecao de features\n",
    "\n",
    "# Modelagem\n",
    "import lightgbm as lgb\n",
    "from sklearn.linear_model import LinearRegression\n",
    "from sklearn.ensemble import RandomForestClassifier\n",
    "from sklearn.neighbors import KNeighborsRegressor\n",
    "\n",
    "# Métricas de avaliação\n",
    "from sklearn.metrics import mean_squared_error, mean_absolute_error, r2_score"
   ]
  },
  {
   "cell_type": "code",
   "execution_count": 2,
   "id": "c63f658f",
   "metadata": {},
   "outputs": [],
   "source": [
    "# Importando o dataset de treino\n",
    "houses_train = pd.read_csv('train.csv')\n",
    "houses_test = pd.read_csv('test.csv')"
   ]
  },
  {
   "cell_type": "code",
   "execution_count": 3,
   "id": "154336ec",
   "metadata": {},
   "outputs": [
    {
     "data": {
      "text/html": [
       "<div>\n",
       "<style scoped>\n",
       "    .dataframe tbody tr th:only-of-type {\n",
       "        vertical-align: middle;\n",
       "    }\n",
       "\n",
       "    .dataframe tbody tr th {\n",
       "        vertical-align: top;\n",
       "    }\n",
       "\n",
       "    .dataframe thead th {\n",
       "        text-align: right;\n",
       "    }\n",
       "</style>\n",
       "<table border=\"1\" class=\"dataframe\">\n",
       "  <thead>\n",
       "    <tr style=\"text-align: right;\">\n",
       "      <th></th>\n",
       "      <th>Id</th>\n",
       "      <th>MSSubClass</th>\n",
       "      <th>MSZoning</th>\n",
       "      <th>LotFrontage</th>\n",
       "      <th>LotArea</th>\n",
       "      <th>Street</th>\n",
       "      <th>Alley</th>\n",
       "      <th>LotShape</th>\n",
       "      <th>LandContour</th>\n",
       "      <th>Utilities</th>\n",
       "      <th>...</th>\n",
       "      <th>PoolArea</th>\n",
       "      <th>PoolQC</th>\n",
       "      <th>Fence</th>\n",
       "      <th>MiscFeature</th>\n",
       "      <th>MiscVal</th>\n",
       "      <th>MoSold</th>\n",
       "      <th>YrSold</th>\n",
       "      <th>SaleType</th>\n",
       "      <th>SaleCondition</th>\n",
       "      <th>SalePrice</th>\n",
       "    </tr>\n",
       "  </thead>\n",
       "  <tbody>\n",
       "    <tr>\n",
       "      <th>0</th>\n",
       "      <td>1</td>\n",
       "      <td>60</td>\n",
       "      <td>RL</td>\n",
       "      <td>65.0</td>\n",
       "      <td>8450</td>\n",
       "      <td>Pave</td>\n",
       "      <td>NaN</td>\n",
       "      <td>Reg</td>\n",
       "      <td>Lvl</td>\n",
       "      <td>AllPub</td>\n",
       "      <td>...</td>\n",
       "      <td>0</td>\n",
       "      <td>NaN</td>\n",
       "      <td>NaN</td>\n",
       "      <td>NaN</td>\n",
       "      <td>0</td>\n",
       "      <td>2</td>\n",
       "      <td>2008</td>\n",
       "      <td>WD</td>\n",
       "      <td>Normal</td>\n",
       "      <td>208500</td>\n",
       "    </tr>\n",
       "    <tr>\n",
       "      <th>1</th>\n",
       "      <td>2</td>\n",
       "      <td>20</td>\n",
       "      <td>RL</td>\n",
       "      <td>80.0</td>\n",
       "      <td>9600</td>\n",
       "      <td>Pave</td>\n",
       "      <td>NaN</td>\n",
       "      <td>Reg</td>\n",
       "      <td>Lvl</td>\n",
       "      <td>AllPub</td>\n",
       "      <td>...</td>\n",
       "      <td>0</td>\n",
       "      <td>NaN</td>\n",
       "      <td>NaN</td>\n",
       "      <td>NaN</td>\n",
       "      <td>0</td>\n",
       "      <td>5</td>\n",
       "      <td>2007</td>\n",
       "      <td>WD</td>\n",
       "      <td>Normal</td>\n",
       "      <td>181500</td>\n",
       "    </tr>\n",
       "    <tr>\n",
       "      <th>2</th>\n",
       "      <td>3</td>\n",
       "      <td>60</td>\n",
       "      <td>RL</td>\n",
       "      <td>68.0</td>\n",
       "      <td>11250</td>\n",
       "      <td>Pave</td>\n",
       "      <td>NaN</td>\n",
       "      <td>IR1</td>\n",
       "      <td>Lvl</td>\n",
       "      <td>AllPub</td>\n",
       "      <td>...</td>\n",
       "      <td>0</td>\n",
       "      <td>NaN</td>\n",
       "      <td>NaN</td>\n",
       "      <td>NaN</td>\n",
       "      <td>0</td>\n",
       "      <td>9</td>\n",
       "      <td>2008</td>\n",
       "      <td>WD</td>\n",
       "      <td>Normal</td>\n",
       "      <td>223500</td>\n",
       "    </tr>\n",
       "    <tr>\n",
       "      <th>3</th>\n",
       "      <td>4</td>\n",
       "      <td>70</td>\n",
       "      <td>RL</td>\n",
       "      <td>60.0</td>\n",
       "      <td>9550</td>\n",
       "      <td>Pave</td>\n",
       "      <td>NaN</td>\n",
       "      <td>IR1</td>\n",
       "      <td>Lvl</td>\n",
       "      <td>AllPub</td>\n",
       "      <td>...</td>\n",
       "      <td>0</td>\n",
       "      <td>NaN</td>\n",
       "      <td>NaN</td>\n",
       "      <td>NaN</td>\n",
       "      <td>0</td>\n",
       "      <td>2</td>\n",
       "      <td>2006</td>\n",
       "      <td>WD</td>\n",
       "      <td>Abnorml</td>\n",
       "      <td>140000</td>\n",
       "    </tr>\n",
       "    <tr>\n",
       "      <th>4</th>\n",
       "      <td>5</td>\n",
       "      <td>60</td>\n",
       "      <td>RL</td>\n",
       "      <td>84.0</td>\n",
       "      <td>14260</td>\n",
       "      <td>Pave</td>\n",
       "      <td>NaN</td>\n",
       "      <td>IR1</td>\n",
       "      <td>Lvl</td>\n",
       "      <td>AllPub</td>\n",
       "      <td>...</td>\n",
       "      <td>0</td>\n",
       "      <td>NaN</td>\n",
       "      <td>NaN</td>\n",
       "      <td>NaN</td>\n",
       "      <td>0</td>\n",
       "      <td>12</td>\n",
       "      <td>2008</td>\n",
       "      <td>WD</td>\n",
       "      <td>Normal</td>\n",
       "      <td>250000</td>\n",
       "    </tr>\n",
       "  </tbody>\n",
       "</table>\n",
       "<p>5 rows × 81 columns</p>\n",
       "</div>"
      ],
      "text/plain": [
       "   Id  MSSubClass MSZoning  LotFrontage  LotArea Street Alley LotShape  \\\n",
       "0   1          60       RL         65.0     8450   Pave   NaN      Reg   \n",
       "1   2          20       RL         80.0     9600   Pave   NaN      Reg   \n",
       "2   3          60       RL         68.0    11250   Pave   NaN      IR1   \n",
       "3   4          70       RL         60.0     9550   Pave   NaN      IR1   \n",
       "4   5          60       RL         84.0    14260   Pave   NaN      IR1   \n",
       "\n",
       "  LandContour Utilities  ... PoolArea PoolQC Fence MiscFeature MiscVal MoSold  \\\n",
       "0         Lvl    AllPub  ...        0    NaN   NaN         NaN       0      2   \n",
       "1         Lvl    AllPub  ...        0    NaN   NaN         NaN       0      5   \n",
       "2         Lvl    AllPub  ...        0    NaN   NaN         NaN       0      9   \n",
       "3         Lvl    AllPub  ...        0    NaN   NaN         NaN       0      2   \n",
       "4         Lvl    AllPub  ...        0    NaN   NaN         NaN       0     12   \n",
       "\n",
       "  YrSold  SaleType  SaleCondition  SalePrice  \n",
       "0   2008        WD         Normal     208500  \n",
       "1   2007        WD         Normal     181500  \n",
       "2   2008        WD         Normal     223500  \n",
       "3   2006        WD        Abnorml     140000  \n",
       "4   2008        WD         Normal     250000  \n",
       "\n",
       "[5 rows x 81 columns]"
      ]
     },
     "execution_count": 3,
     "metadata": {},
     "output_type": "execute_result"
    }
   ],
   "source": [
    "houses_train.head()"
   ]
  },
  {
   "cell_type": "code",
   "execution_count": 4,
   "id": "40761a8b",
   "metadata": {},
   "outputs": [
    {
     "data": {
      "text/plain": [
       "(1460, 81)"
      ]
     },
     "execution_count": 4,
     "metadata": {},
     "output_type": "execute_result"
    }
   ],
   "source": [
    "houses_train.shape"
   ]
  },
  {
   "cell_type": "code",
   "execution_count": 5,
   "id": "7c1ee0e3",
   "metadata": {},
   "outputs": [
    {
     "name": "stdout",
     "output_type": "stream",
     "text": [
      "<class 'pandas.core.frame.DataFrame'>\n",
      "RangeIndex: 1460 entries, 0 to 1459\n",
      "Data columns (total 81 columns):\n",
      " #   Column         Non-Null Count  Dtype  \n",
      "---  ------         --------------  -----  \n",
      " 0   Id             1460 non-null   int64  \n",
      " 1   MSSubClass     1460 non-null   int64  \n",
      " 2   MSZoning       1460 non-null   object \n",
      " 3   LotFrontage    1201 non-null   float64\n",
      " 4   LotArea        1460 non-null   int64  \n",
      " 5   Street         1460 non-null   object \n",
      " 6   Alley          91 non-null     object \n",
      " 7   LotShape       1460 non-null   object \n",
      " 8   LandContour    1460 non-null   object \n",
      " 9   Utilities      1460 non-null   object \n",
      " 10  LotConfig      1460 non-null   object \n",
      " 11  LandSlope      1460 non-null   object \n",
      " 12  Neighborhood   1460 non-null   object \n",
      " 13  Condition1     1460 non-null   object \n",
      " 14  Condition2     1460 non-null   object \n",
      " 15  BldgType       1460 non-null   object \n",
      " 16  HouseStyle     1460 non-null   object \n",
      " 17  OverallQual    1460 non-null   int64  \n",
      " 18  OverallCond    1460 non-null   int64  \n",
      " 19  YearBuilt      1460 non-null   int64  \n",
      " 20  YearRemodAdd   1460 non-null   int64  \n",
      " 21  RoofStyle      1460 non-null   object \n",
      " 22  RoofMatl       1460 non-null   object \n",
      " 23  Exterior1st    1460 non-null   object \n",
      " 24  Exterior2nd    1460 non-null   object \n",
      " 25  MasVnrType     588 non-null    object \n",
      " 26  MasVnrArea     1452 non-null   float64\n",
      " 27  ExterQual      1460 non-null   object \n",
      " 28  ExterCond      1460 non-null   object \n",
      " 29  Foundation     1460 non-null   object \n",
      " 30  BsmtQual       1423 non-null   object \n",
      " 31  BsmtCond       1423 non-null   object \n",
      " 32  BsmtExposure   1422 non-null   object \n",
      " 33  BsmtFinType1   1423 non-null   object \n",
      " 34  BsmtFinSF1     1460 non-null   int64  \n",
      " 35  BsmtFinType2   1422 non-null   object \n",
      " 36  BsmtFinSF2     1460 non-null   int64  \n",
      " 37  BsmtUnfSF      1460 non-null   int64  \n",
      " 38  TotalBsmtSF    1460 non-null   int64  \n",
      " 39  Heating        1460 non-null   object \n",
      " 40  HeatingQC      1460 non-null   object \n",
      " 41  CentralAir     1460 non-null   object \n",
      " 42  Electrical     1459 non-null   object \n",
      " 43  1stFlrSF       1460 non-null   int64  \n",
      " 44  2ndFlrSF       1460 non-null   int64  \n",
      " 45  LowQualFinSF   1460 non-null   int64  \n",
      " 46  GrLivArea      1460 non-null   int64  \n",
      " 47  BsmtFullBath   1460 non-null   int64  \n",
      " 48  BsmtHalfBath   1460 non-null   int64  \n",
      " 49  FullBath       1460 non-null   int64  \n",
      " 50  HalfBath       1460 non-null   int64  \n",
      " 51  BedroomAbvGr   1460 non-null   int64  \n",
      " 52  KitchenAbvGr   1460 non-null   int64  \n",
      " 53  KitchenQual    1460 non-null   object \n",
      " 54  TotRmsAbvGrd   1460 non-null   int64  \n",
      " 55  Functional     1460 non-null   object \n",
      " 56  Fireplaces     1460 non-null   int64  \n",
      " 57  FireplaceQu    770 non-null    object \n",
      " 58  GarageType     1379 non-null   object \n",
      " 59  GarageYrBlt    1379 non-null   float64\n",
      " 60  GarageFinish   1379 non-null   object \n",
      " 61  GarageCars     1460 non-null   int64  \n",
      " 62  GarageArea     1460 non-null   int64  \n",
      " 63  GarageQual     1379 non-null   object \n",
      " 64  GarageCond     1379 non-null   object \n",
      " 65  PavedDrive     1460 non-null   object \n",
      " 66  WoodDeckSF     1460 non-null   int64  \n",
      " 67  OpenPorchSF    1460 non-null   int64  \n",
      " 68  EnclosedPorch  1460 non-null   int64  \n",
      " 69  3SsnPorch      1460 non-null   int64  \n",
      " 70  ScreenPorch    1460 non-null   int64  \n",
      " 71  PoolArea       1460 non-null   int64  \n",
      " 72  PoolQC         7 non-null      object \n",
      " 73  Fence          281 non-null    object \n",
      " 74  MiscFeature    54 non-null     object \n",
      " 75  MiscVal        1460 non-null   int64  \n",
      " 76  MoSold         1460 non-null   int64  \n",
      " 77  YrSold         1460 non-null   int64  \n",
      " 78  SaleType       1460 non-null   object \n",
      " 79  SaleCondition  1460 non-null   object \n",
      " 80  SalePrice      1460 non-null   int64  \n",
      "dtypes: float64(3), int64(35), object(43)\n",
      "memory usage: 924.0+ KB\n"
     ]
    }
   ],
   "source": [
    "houses_train.info()"
   ]
  },
  {
   "cell_type": "markdown",
   "id": "18237a03",
   "metadata": {},
   "source": [
    "# Explorando os dados"
   ]
  },
  {
   "cell_type": "code",
   "execution_count": 6,
   "id": "b26e7d5a",
   "metadata": {},
   "outputs": [
    {
     "data": {
      "text/plain": [
       "PoolQC          1453\n",
       "MiscFeature     1406\n",
       "Alley           1369\n",
       "Fence           1179\n",
       "MasVnrType       872\n",
       "FireplaceQu      690\n",
       "LotFrontage      259\n",
       "GarageYrBlt       81\n",
       "GarageCond        81\n",
       "GarageType        81\n",
       "GarageFinish      81\n",
       "GarageQual        81\n",
       "BsmtFinType2      38\n",
       "BsmtExposure      38\n",
       "BsmtQual          37\n",
       "BsmtCond          37\n",
       "BsmtFinType1      37\n",
       "MasVnrArea         8\n",
       "Electrical         1\n",
       "Id                 0\n",
       "dtype: int64"
      ]
     },
     "execution_count": 6,
     "metadata": {},
     "output_type": "execute_result"
    }
   ],
   "source": [
    "# Vamos verificar a quantidade de valores vazios\n",
    "houses_train.isnull().sum().sort_values(ascending=False).head(20)"
   ]
  },
  {
   "cell_type": "code",
   "execution_count": 7,
   "id": "621623d2",
   "metadata": {},
   "outputs": [
    {
     "data": {
      "text/plain": [
       "PoolQC          0.995205\n",
       "MiscFeature     0.963014\n",
       "Alley           0.937671\n",
       "Fence           0.807534\n",
       "MasVnrType      0.597260\n",
       "FireplaceQu     0.472603\n",
       "LotFrontage     0.177397\n",
       "GarageYrBlt     0.055479\n",
       "GarageCond      0.055479\n",
       "GarageType      0.055479\n",
       "GarageFinish    0.055479\n",
       "GarageQual      0.055479\n",
       "BsmtFinType2    0.026027\n",
       "BsmtExposure    0.026027\n",
       "BsmtQual        0.025342\n",
       "BsmtCond        0.025342\n",
       "BsmtFinType1    0.025342\n",
       "MasVnrArea      0.005479\n",
       "Electrical      0.000685\n",
       "Id              0.000000\n",
       "dtype: float64"
      ]
     },
     "execution_count": 7,
     "metadata": {},
     "output_type": "execute_result"
    }
   ],
   "source": [
    "# Em porcentagem\n",
    "(houses_train.isnull().sum()/houses_train.shape[0]).sort_values(ascending=False).head(20)"
   ]
  },
  {
   "cell_type": "code",
   "execution_count": 8,
   "id": "9d5766c9",
   "metadata": {},
   "outputs": [
    {
     "data": {
      "text/plain": [
       "Index(['Alley', 'MasVnrType', 'FireplaceQu', 'PoolQC', 'Fence', 'MiscFeature'], dtype='object')"
      ]
     },
     "execution_count": 8,
     "metadata": {},
     "output_type": "execute_result"
    }
   ],
   "source": [
    "# Podemos eliminar as colunas com mais de 20% de valores vazios\n",
    "eliminar = houses_train.columns[(houses_train.isnull().sum() / houses_train.shape[0]) > 0.2]\n",
    "eliminar"
   ]
  },
  {
   "cell_type": "code",
   "execution_count": 9,
   "id": "7f6dd1cf",
   "metadata": {},
   "outputs": [],
   "source": [
    "# Eliminando essas colunas tanto do dataset de treino quanto do dataset de teste\n",
    "houses_train.drop(eliminar, axis=1, inplace=True)\n",
    "houses_test.drop(eliminar, axis=1, inplace=True)"
   ]
  },
  {
   "cell_type": "code",
   "execution_count": 10,
   "id": "2982e337",
   "metadata": {},
   "outputs": [
    {
     "data": {
      "text/plain": [
       "LotFrontage     0.177397\n",
       "GarageYrBlt     0.055479\n",
       "GarageCond      0.055479\n",
       "GarageType      0.055479\n",
       "GarageFinish    0.055479\n",
       "GarageQual      0.055479\n",
       "BsmtFinType2    0.026027\n",
       "BsmtExposure    0.026027\n",
       "BsmtFinType1    0.025342\n",
       "BsmtCond        0.025342\n",
       "BsmtQual        0.025342\n",
       "MasVnrArea      0.005479\n",
       "Electrical      0.000685\n",
       "WoodDeckSF      0.000000\n",
       "PavedDrive      0.000000\n",
       "LowQualFinSF    0.000000\n",
       "GrLivArea       0.000000\n",
       "BsmtFullBath    0.000000\n",
       "BsmtHalfBath    0.000000\n",
       "FullBath        0.000000\n",
       "dtype: float64"
      ]
     },
     "execution_count": 10,
     "metadata": {},
     "output_type": "execute_result"
    }
   ],
   "source": [
    "(houses_train.isnull().sum()/houses_train.shape[0]).sort_values(ascending=False).head(20)"
   ]
  },
  {
   "cell_type": "code",
   "execution_count": 11,
   "id": "57e9d1e8",
   "metadata": {
    "scrolled": true
   },
   "outputs": [
    {
     "data": {
      "text/html": [
       "<div>\n",
       "<style scoped>\n",
       "    .dataframe tbody tr th:only-of-type {\n",
       "        vertical-align: middle;\n",
       "    }\n",
       "\n",
       "    .dataframe tbody tr th {\n",
       "        vertical-align: top;\n",
       "    }\n",
       "\n",
       "    .dataframe thead th {\n",
       "        text-align: right;\n",
       "    }\n",
       "</style>\n",
       "<table border=\"1\" class=\"dataframe\">\n",
       "  <thead>\n",
       "    <tr style=\"text-align: right;\">\n",
       "      <th></th>\n",
       "      <th>Id</th>\n",
       "      <th>MSSubClass</th>\n",
       "      <th>MSZoning</th>\n",
       "      <th>LotFrontage</th>\n",
       "      <th>LotArea</th>\n",
       "      <th>Street</th>\n",
       "      <th>LotShape</th>\n",
       "      <th>LandContour</th>\n",
       "      <th>Utilities</th>\n",
       "      <th>LotConfig</th>\n",
       "      <th>...</th>\n",
       "      <th>EnclosedPorch</th>\n",
       "      <th>3SsnPorch</th>\n",
       "      <th>ScreenPorch</th>\n",
       "      <th>PoolArea</th>\n",
       "      <th>MiscVal</th>\n",
       "      <th>MoSold</th>\n",
       "      <th>YrSold</th>\n",
       "      <th>SaleType</th>\n",
       "      <th>SaleCondition</th>\n",
       "      <th>SalePrice</th>\n",
       "    </tr>\n",
       "  </thead>\n",
       "  <tbody>\n",
       "    <tr>\n",
       "      <th>0</th>\n",
       "      <td>1</td>\n",
       "      <td>60</td>\n",
       "      <td>RL</td>\n",
       "      <td>65.0</td>\n",
       "      <td>8450</td>\n",
       "      <td>Pave</td>\n",
       "      <td>Reg</td>\n",
       "      <td>Lvl</td>\n",
       "      <td>AllPub</td>\n",
       "      <td>Inside</td>\n",
       "      <td>...</td>\n",
       "      <td>0</td>\n",
       "      <td>0</td>\n",
       "      <td>0</td>\n",
       "      <td>0</td>\n",
       "      <td>0</td>\n",
       "      <td>2</td>\n",
       "      <td>2008</td>\n",
       "      <td>WD</td>\n",
       "      <td>Normal</td>\n",
       "      <td>208500</td>\n",
       "    </tr>\n",
       "    <tr>\n",
       "      <th>1</th>\n",
       "      <td>2</td>\n",
       "      <td>20</td>\n",
       "      <td>RL</td>\n",
       "      <td>80.0</td>\n",
       "      <td>9600</td>\n",
       "      <td>Pave</td>\n",
       "      <td>Reg</td>\n",
       "      <td>Lvl</td>\n",
       "      <td>AllPub</td>\n",
       "      <td>FR2</td>\n",
       "      <td>...</td>\n",
       "      <td>0</td>\n",
       "      <td>0</td>\n",
       "      <td>0</td>\n",
       "      <td>0</td>\n",
       "      <td>0</td>\n",
       "      <td>5</td>\n",
       "      <td>2007</td>\n",
       "      <td>WD</td>\n",
       "      <td>Normal</td>\n",
       "      <td>181500</td>\n",
       "    </tr>\n",
       "    <tr>\n",
       "      <th>2</th>\n",
       "      <td>3</td>\n",
       "      <td>60</td>\n",
       "      <td>RL</td>\n",
       "      <td>68.0</td>\n",
       "      <td>11250</td>\n",
       "      <td>Pave</td>\n",
       "      <td>IR1</td>\n",
       "      <td>Lvl</td>\n",
       "      <td>AllPub</td>\n",
       "      <td>Inside</td>\n",
       "      <td>...</td>\n",
       "      <td>0</td>\n",
       "      <td>0</td>\n",
       "      <td>0</td>\n",
       "      <td>0</td>\n",
       "      <td>0</td>\n",
       "      <td>9</td>\n",
       "      <td>2008</td>\n",
       "      <td>WD</td>\n",
       "      <td>Normal</td>\n",
       "      <td>223500</td>\n",
       "    </tr>\n",
       "    <tr>\n",
       "      <th>3</th>\n",
       "      <td>4</td>\n",
       "      <td>70</td>\n",
       "      <td>RL</td>\n",
       "      <td>60.0</td>\n",
       "      <td>9550</td>\n",
       "      <td>Pave</td>\n",
       "      <td>IR1</td>\n",
       "      <td>Lvl</td>\n",
       "      <td>AllPub</td>\n",
       "      <td>Corner</td>\n",
       "      <td>...</td>\n",
       "      <td>272</td>\n",
       "      <td>0</td>\n",
       "      <td>0</td>\n",
       "      <td>0</td>\n",
       "      <td>0</td>\n",
       "      <td>2</td>\n",
       "      <td>2006</td>\n",
       "      <td>WD</td>\n",
       "      <td>Abnorml</td>\n",
       "      <td>140000</td>\n",
       "    </tr>\n",
       "    <tr>\n",
       "      <th>4</th>\n",
       "      <td>5</td>\n",
       "      <td>60</td>\n",
       "      <td>RL</td>\n",
       "      <td>84.0</td>\n",
       "      <td>14260</td>\n",
       "      <td>Pave</td>\n",
       "      <td>IR1</td>\n",
       "      <td>Lvl</td>\n",
       "      <td>AllPub</td>\n",
       "      <td>FR2</td>\n",
       "      <td>...</td>\n",
       "      <td>0</td>\n",
       "      <td>0</td>\n",
       "      <td>0</td>\n",
       "      <td>0</td>\n",
       "      <td>0</td>\n",
       "      <td>12</td>\n",
       "      <td>2008</td>\n",
       "      <td>WD</td>\n",
       "      <td>Normal</td>\n",
       "      <td>250000</td>\n",
       "    </tr>\n",
       "  </tbody>\n",
       "</table>\n",
       "<p>5 rows × 75 columns</p>\n",
       "</div>"
      ],
      "text/plain": [
       "   Id  MSSubClass MSZoning  LotFrontage  LotArea Street LotShape LandContour  \\\n",
       "0   1          60       RL         65.0     8450   Pave      Reg         Lvl   \n",
       "1   2          20       RL         80.0     9600   Pave      Reg         Lvl   \n",
       "2   3          60       RL         68.0    11250   Pave      IR1         Lvl   \n",
       "3   4          70       RL         60.0     9550   Pave      IR1         Lvl   \n",
       "4   5          60       RL         84.0    14260   Pave      IR1         Lvl   \n",
       "\n",
       "  Utilities LotConfig  ... EnclosedPorch 3SsnPorch ScreenPorch PoolArea  \\\n",
       "0    AllPub    Inside  ...             0         0           0        0   \n",
       "1    AllPub       FR2  ...             0         0           0        0   \n",
       "2    AllPub    Inside  ...             0         0           0        0   \n",
       "3    AllPub    Corner  ...           272         0           0        0   \n",
       "4    AllPub       FR2  ...             0         0           0        0   \n",
       "\n",
       "  MiscVal MoSold  YrSold  SaleType  SaleCondition  SalePrice  \n",
       "0       0      2    2008        WD         Normal     208500  \n",
       "1       0      5    2007        WD         Normal     181500  \n",
       "2       0      9    2008        WD         Normal     223500  \n",
       "3       0      2    2006        WD        Abnorml     140000  \n",
       "4       0     12    2008        WD         Normal     250000  \n",
       "\n",
       "[5 rows x 75 columns]"
      ]
     },
     "execution_count": 11,
     "metadata": {},
     "output_type": "execute_result"
    }
   ],
   "source": [
    "houses_train.head()"
   ]
  },
  {
   "cell_type": "code",
   "execution_count": 12,
   "id": "f285986d",
   "metadata": {},
   "outputs": [],
   "source": [
    "# Vamos eliminar também o Id, já que essa coluna é irrelevante\n",
    "houses_train.drop('Id', axis=1, inplace=True)"
   ]
  },
  {
   "cell_type": "code",
   "execution_count": 13,
   "id": "1fd2d2f2",
   "metadata": {},
   "outputs": [
    {
     "data": {
      "text/plain": [
       "0"
      ]
     },
     "execution_count": 13,
     "metadata": {},
     "output_type": "execute_result"
    }
   ],
   "source": [
    "# Verificando se há duplicatas nos dados de treino\n",
    "houses_train.duplicated().sum()"
   ]
  },
  {
   "cell_type": "code",
   "execution_count": 14,
   "id": "e81e0790",
   "metadata": {},
   "outputs": [
    {
     "data": {
      "text/plain": [
       "0"
      ]
     },
     "execution_count": 14,
     "metadata": {},
     "output_type": "execute_result"
    }
   ],
   "source": [
    "# Verificando se há duplicatas nos dados de teste\n",
    "houses_test.duplicated().sum()"
   ]
  },
  {
   "cell_type": "markdown",
   "id": "06f8b6f4",
   "metadata": {},
   "source": [
    "Até o momento, removemos algumas colunas que possuíam uma porcentagem alta de valores nulos e também confirmamos que não há duplicatas em nosso conjunto de dados."
   ]
  },
  {
   "cell_type": "markdown",
   "id": "dea73ebb",
   "metadata": {},
   "source": [
    "# Verificando outliers"
   ]
  },
  {
   "cell_type": "code",
   "execution_count": 15,
   "id": "67187ff8",
   "metadata": {},
   "outputs": [],
   "source": [
    "# Verificando quais são as colunas numéricas. Vamos aproveitar pra criar a lista de categóricas também.\n",
    "\n",
    "numerical_columns = houses_train.select_dtypes(include=\"number\").columns.to_list()\n",
    "categorical_columns = houses_train.select_dtypes(exclude=\"number\").columns.to_list()"
   ]
  },
  {
   "cell_type": "code",
   "execution_count": 16,
   "id": "9b0790da",
   "metadata": {},
   "outputs": [
    {
     "name": "stdout",
     "output_type": "stream",
     "text": [
      "['MSSubClass', 'LotFrontage', 'LotArea', 'OverallQual', 'OverallCond', 'YearBuilt', 'YearRemodAdd', 'MasVnrArea', 'BsmtFinSF1', 'BsmtFinSF2', 'BsmtUnfSF', 'TotalBsmtSF', '1stFlrSF', '2ndFlrSF', 'LowQualFinSF', 'GrLivArea', 'BsmtFullBath', 'BsmtHalfBath', 'FullBath', 'HalfBath', 'BedroomAbvGr', 'KitchenAbvGr', 'TotRmsAbvGrd', 'Fireplaces', 'GarageYrBlt', 'GarageCars', 'GarageArea', 'WoodDeckSF', 'OpenPorchSF', 'EnclosedPorch', '3SsnPorch', 'ScreenPorch', 'PoolArea', 'MiscVal', 'MoSold', 'YrSold', 'SalePrice']\n"
     ]
    }
   ],
   "source": [
    "print(numerical_columns)"
   ]
  },
  {
   "cell_type": "code",
   "execution_count": 17,
   "id": "d6740bfb",
   "metadata": {},
   "outputs": [
    {
     "name": "stdout",
     "output_type": "stream",
     "text": [
      "['MSZoning', 'Street', 'LotShape', 'LandContour', 'Utilities', 'LotConfig', 'LandSlope', 'Neighborhood', 'Condition1', 'Condition2', 'BldgType', 'HouseStyle', 'RoofStyle', 'RoofMatl', 'Exterior1st', 'Exterior2nd', 'ExterQual', 'ExterCond', 'Foundation', 'BsmtQual', 'BsmtCond', 'BsmtExposure', 'BsmtFinType1', 'BsmtFinType2', 'Heating', 'HeatingQC', 'CentralAir', 'Electrical', 'KitchenQual', 'Functional', 'GarageType', 'GarageFinish', 'GarageQual', 'GarageCond', 'PavedDrive', 'SaleType', 'SaleCondition']\n"
     ]
    }
   ],
   "source": [
    "print(categorical_columns)"
   ]
  },
  {
   "cell_type": "code",
   "execution_count": 18,
   "id": "55c5ad11",
   "metadata": {},
   "outputs": [],
   "source": [
    "# Detectando outliers\n",
    "\n",
    "nomes_colunas = []\n",
    "qtt_outliers = []\n",
    "\n",
    "for i in numerical_columns:\n",
    "    \n",
    "    contador = 0\n",
    "    \n",
    "    q1 = np.quantile(houses_train[i], 0.25) # primeiro quartil\n",
    "    q3 = np.quantile(houses_train[i], 0.75) # terceiro quartil\n",
    "    li = q1 - 1.5*(q3-q1) # limite inferior\n",
    "    ls = q3 + 1.5*(q3-q1) # limite superior\n",
    "    \n",
    "    for j in houses_train.index:\n",
    "        if li <= houses_train[i][j] <= ls:\n",
    "            pass\n",
    "        else:\n",
    "            contador += 1\n",
    "    \n",
    "    perc_outliers = (contador / houses_train[i].count())*100 # porcentagem da quantidade de outliers nessa coluna\n",
    "    \n",
    "    nomes_colunas.append(i)\n",
    "    qtt_outliers.append(perc_outliers)"
   ]
  },
  {
   "cell_type": "code",
   "execution_count": 19,
   "id": "13289a72",
   "metadata": {},
   "outputs": [
    {
     "name": "stdout",
     "output_type": "stream",
     "text": [
      "['MSSubClass', 'LotFrontage', 'LotArea', 'OverallQual', 'OverallCond', 'YearBuilt', 'YearRemodAdd', 'MasVnrArea', 'BsmtFinSF1', 'BsmtFinSF2', 'BsmtUnfSF', 'TotalBsmtSF', '1stFlrSF', '2ndFlrSF', 'LowQualFinSF', 'GrLivArea', 'BsmtFullBath', 'BsmtHalfBath', 'FullBath', 'HalfBath', 'BedroomAbvGr', 'KitchenAbvGr', 'TotRmsAbvGrd', 'Fireplaces', 'GarageYrBlt', 'GarageCars', 'GarageArea', 'WoodDeckSF', 'OpenPorchSF', 'EnclosedPorch', '3SsnPorch', 'ScreenPorch', 'PoolArea', 'MiscVal', 'MoSold', 'YrSold', 'SalePrice']\n"
     ]
    }
   ],
   "source": [
    "print(nomes_colunas)"
   ]
  },
  {
   "cell_type": "code",
   "execution_count": 20,
   "id": "3f04a49a",
   "metadata": {},
   "outputs": [
    {
     "data": {
      "text/html": [
       "<div>\n",
       "<style scoped>\n",
       "    .dataframe tbody tr th:only-of-type {\n",
       "        vertical-align: middle;\n",
       "    }\n",
       "\n",
       "    .dataframe tbody tr th {\n",
       "        vertical-align: top;\n",
       "    }\n",
       "\n",
       "    .dataframe thead th {\n",
       "        text-align: right;\n",
       "    }\n",
       "</style>\n",
       "<table border=\"1\" class=\"dataframe\">\n",
       "  <thead>\n",
       "    <tr style=\"text-align: right;\">\n",
       "      <th></th>\n",
       "      <th>coluna</th>\n",
       "      <th>perc_outliers</th>\n",
       "    </tr>\n",
       "  </thead>\n",
       "  <tbody>\n",
       "    <tr>\n",
       "      <th>1</th>\n",
       "      <td>LotFrontage</td>\n",
       "      <td>121.565362</td>\n",
       "    </tr>\n",
       "    <tr>\n",
       "      <th>24</th>\n",
       "      <td>GarageYrBlt</td>\n",
       "      <td>105.873822</td>\n",
       "    </tr>\n",
       "    <tr>\n",
       "      <th>7</th>\n",
       "      <td>MasVnrArea</td>\n",
       "      <td>100.550964</td>\n",
       "    </tr>\n",
       "    <tr>\n",
       "      <th>29</th>\n",
       "      <td>EnclosedPorch</td>\n",
       "      <td>14.246575</td>\n",
       "    </tr>\n",
       "    <tr>\n",
       "      <th>9</th>\n",
       "      <td>BsmtFinSF2</td>\n",
       "      <td>11.438356</td>\n",
       "    </tr>\n",
       "    <tr>\n",
       "      <th>4</th>\n",
       "      <td>OverallCond</td>\n",
       "      <td>8.561644</td>\n",
       "    </tr>\n",
       "    <tr>\n",
       "      <th>31</th>\n",
       "      <td>ScreenPorch</td>\n",
       "      <td>7.945205</td>\n",
       "    </tr>\n",
       "    <tr>\n",
       "      <th>0</th>\n",
       "      <td>MSSubClass</td>\n",
       "      <td>7.054795</td>\n",
       "    </tr>\n",
       "    <tr>\n",
       "      <th>17</th>\n",
       "      <td>BsmtHalfBath</td>\n",
       "      <td>5.616438</td>\n",
       "    </tr>\n",
       "    <tr>\n",
       "      <th>28</th>\n",
       "      <td>OpenPorchSF</td>\n",
       "      <td>5.273973</td>\n",
       "    </tr>\n",
       "    <tr>\n",
       "      <th>2</th>\n",
       "      <td>LotArea</td>\n",
       "      <td>4.726027</td>\n",
       "    </tr>\n",
       "    <tr>\n",
       "      <th>21</th>\n",
       "      <td>KitchenAbvGr</td>\n",
       "      <td>4.657534</td>\n",
       "    </tr>\n",
       "    <tr>\n",
       "      <th>36</th>\n",
       "      <td>SalePrice</td>\n",
       "      <td>4.178082</td>\n",
       "    </tr>\n",
       "    <tr>\n",
       "      <th>11</th>\n",
       "      <td>TotalBsmtSF</td>\n",
       "      <td>4.178082</td>\n",
       "    </tr>\n",
       "    <tr>\n",
       "      <th>33</th>\n",
       "      <td>MiscVal</td>\n",
       "      <td>3.561644</td>\n",
       "    </tr>\n",
       "    <tr>\n",
       "      <th>20</th>\n",
       "      <td>BedroomAbvGr</td>\n",
       "      <td>2.397260</td>\n",
       "    </tr>\n",
       "    <tr>\n",
       "      <th>27</th>\n",
       "      <td>WoodDeckSF</td>\n",
       "      <td>2.191781</td>\n",
       "    </tr>\n",
       "    <tr>\n",
       "      <th>15</th>\n",
       "      <td>GrLivArea</td>\n",
       "      <td>2.123288</td>\n",
       "    </tr>\n",
       "    <tr>\n",
       "      <th>22</th>\n",
       "      <td>TotRmsAbvGrd</td>\n",
       "      <td>2.054795</td>\n",
       "    </tr>\n",
       "    <tr>\n",
       "      <th>10</th>\n",
       "      <td>BsmtUnfSF</td>\n",
       "      <td>1.986301</td>\n",
       "    </tr>\n",
       "    <tr>\n",
       "      <th>14</th>\n",
       "      <td>LowQualFinSF</td>\n",
       "      <td>1.780822</td>\n",
       "    </tr>\n",
       "    <tr>\n",
       "      <th>30</th>\n",
       "      <td>3SsnPorch</td>\n",
       "      <td>1.643836</td>\n",
       "    </tr>\n",
       "    <tr>\n",
       "      <th>26</th>\n",
       "      <td>GarageArea</td>\n",
       "      <td>1.438356</td>\n",
       "    </tr>\n",
       "    <tr>\n",
       "      <th>12</th>\n",
       "      <td>1stFlrSF</td>\n",
       "      <td>1.369863</td>\n",
       "    </tr>\n",
       "    <tr>\n",
       "      <th>5</th>\n",
       "      <td>YearBuilt</td>\n",
       "      <td>0.479452</td>\n",
       "    </tr>\n",
       "    <tr>\n",
       "      <th>8</th>\n",
       "      <td>BsmtFinSF1</td>\n",
       "      <td>0.479452</td>\n",
       "    </tr>\n",
       "    <tr>\n",
       "      <th>32</th>\n",
       "      <td>PoolArea</td>\n",
       "      <td>0.479452</td>\n",
       "    </tr>\n",
       "    <tr>\n",
       "      <th>23</th>\n",
       "      <td>Fireplaces</td>\n",
       "      <td>0.342466</td>\n",
       "    </tr>\n",
       "    <tr>\n",
       "      <th>25</th>\n",
       "      <td>GarageCars</td>\n",
       "      <td>0.342466</td>\n",
       "    </tr>\n",
       "    <tr>\n",
       "      <th>3</th>\n",
       "      <td>OverallQual</td>\n",
       "      <td>0.136986</td>\n",
       "    </tr>\n",
       "    <tr>\n",
       "      <th>13</th>\n",
       "      <td>2ndFlrSF</td>\n",
       "      <td>0.136986</td>\n",
       "    </tr>\n",
       "    <tr>\n",
       "      <th>16</th>\n",
       "      <td>BsmtFullBath</td>\n",
       "      <td>0.068493</td>\n",
       "    </tr>\n",
       "    <tr>\n",
       "      <th>6</th>\n",
       "      <td>YearRemodAdd</td>\n",
       "      <td>0.000000</td>\n",
       "    </tr>\n",
       "    <tr>\n",
       "      <th>19</th>\n",
       "      <td>HalfBath</td>\n",
       "      <td>0.000000</td>\n",
       "    </tr>\n",
       "    <tr>\n",
       "      <th>34</th>\n",
       "      <td>MoSold</td>\n",
       "      <td>0.000000</td>\n",
       "    </tr>\n",
       "    <tr>\n",
       "      <th>35</th>\n",
       "      <td>YrSold</td>\n",
       "      <td>0.000000</td>\n",
       "    </tr>\n",
       "    <tr>\n",
       "      <th>18</th>\n",
       "      <td>FullBath</td>\n",
       "      <td>0.000000</td>\n",
       "    </tr>\n",
       "  </tbody>\n",
       "</table>\n",
       "</div>"
      ],
      "text/plain": [
       "           coluna  perc_outliers\n",
       "1     LotFrontage     121.565362\n",
       "24    GarageYrBlt     105.873822\n",
       "7      MasVnrArea     100.550964\n",
       "29  EnclosedPorch      14.246575\n",
       "9      BsmtFinSF2      11.438356\n",
       "4     OverallCond       8.561644\n",
       "31    ScreenPorch       7.945205\n",
       "0      MSSubClass       7.054795\n",
       "17   BsmtHalfBath       5.616438\n",
       "28    OpenPorchSF       5.273973\n",
       "2         LotArea       4.726027\n",
       "21   KitchenAbvGr       4.657534\n",
       "36      SalePrice       4.178082\n",
       "11    TotalBsmtSF       4.178082\n",
       "33        MiscVal       3.561644\n",
       "20   BedroomAbvGr       2.397260\n",
       "27     WoodDeckSF       2.191781\n",
       "15      GrLivArea       2.123288\n",
       "22   TotRmsAbvGrd       2.054795\n",
       "10      BsmtUnfSF       1.986301\n",
       "14   LowQualFinSF       1.780822\n",
       "30      3SsnPorch       1.643836\n",
       "26     GarageArea       1.438356\n",
       "12       1stFlrSF       1.369863\n",
       "5       YearBuilt       0.479452\n",
       "8      BsmtFinSF1       0.479452\n",
       "32       PoolArea       0.479452\n",
       "23     Fireplaces       0.342466\n",
       "25     GarageCars       0.342466\n",
       "3     OverallQual       0.136986\n",
       "13       2ndFlrSF       0.136986\n",
       "16   BsmtFullBath       0.068493\n",
       "6    YearRemodAdd       0.000000\n",
       "19       HalfBath       0.000000\n",
       "34         MoSold       0.000000\n",
       "35         YrSold       0.000000\n",
       "18       FullBath       0.000000"
      ]
     },
     "execution_count": 20,
     "metadata": {},
     "output_type": "execute_result"
    }
   ],
   "source": [
    "outliers = pd.DataFrame()\n",
    "outliers['coluna'] = nomes_colunas\n",
    "outliers['perc_outliers'] = qtt_outliers\n",
    "outliers.sort_values(by='perc_outliers', ascending=False)"
   ]
  },
  {
   "cell_type": "markdown",
   "id": "1bae608d",
   "metadata": {},
   "source": [
    "Há três colunas com uma porcentagem muito alta de outliers. Vamos dar uma olhada em seus valores e tentar descobrir se eles realmente fazem sentido ou devemos excluí-las."
   ]
  },
  {
   "cell_type": "code",
   "execution_count": 21,
   "id": "4d22f10f",
   "metadata": {},
   "outputs": [],
   "source": [
    "outlier_alto = outliers[outliers['perc_outliers'] > 90]"
   ]
  },
  {
   "cell_type": "code",
   "execution_count": 22,
   "id": "53a11576",
   "metadata": {},
   "outputs": [
    {
     "data": {
      "text/html": [
       "<div>\n",
       "<style scoped>\n",
       "    .dataframe tbody tr th:only-of-type {\n",
       "        vertical-align: middle;\n",
       "    }\n",
       "\n",
       "    .dataframe tbody tr th {\n",
       "        vertical-align: top;\n",
       "    }\n",
       "\n",
       "    .dataframe thead th {\n",
       "        text-align: right;\n",
       "    }\n",
       "</style>\n",
       "<table border=\"1\" class=\"dataframe\">\n",
       "  <thead>\n",
       "    <tr style=\"text-align: right;\">\n",
       "      <th></th>\n",
       "      <th>coluna</th>\n",
       "      <th>perc_outliers</th>\n",
       "    </tr>\n",
       "  </thead>\n",
       "  <tbody>\n",
       "    <tr>\n",
       "      <th>1</th>\n",
       "      <td>LotFrontage</td>\n",
       "      <td>121.565362</td>\n",
       "    </tr>\n",
       "    <tr>\n",
       "      <th>7</th>\n",
       "      <td>MasVnrArea</td>\n",
       "      <td>100.550964</td>\n",
       "    </tr>\n",
       "    <tr>\n",
       "      <th>24</th>\n",
       "      <td>GarageYrBlt</td>\n",
       "      <td>105.873822</td>\n",
       "    </tr>\n",
       "  </tbody>\n",
       "</table>\n",
       "</div>"
      ],
      "text/plain": [
       "         coluna  perc_outliers\n",
       "1   LotFrontage     121.565362\n",
       "7    MasVnrArea     100.550964\n",
       "24  GarageYrBlt     105.873822"
      ]
     },
     "execution_count": 22,
     "metadata": {},
     "output_type": "execute_result"
    }
   ],
   "source": [
    "outlier_alto"
   ]
  },
  {
   "cell_type": "code",
   "execution_count": 23,
   "id": "676cdfd8",
   "metadata": {},
   "outputs": [
    {
     "name": "stdout",
     "output_type": "stream",
     "text": [
      "Coluna: LotFrontage\n",
      "Média: 70.04995836802665\n",
      "Mediana: 69.0\n",
      "Min: 21.0\n",
      "Max: 313.0\n",
      "---------------------------------\n",
      "\n",
      "Coluna: MasVnrArea\n",
      "Média: 103.68526170798899\n",
      "Mediana: 0.0\n",
      "Min: 0.0\n",
      "Max: 1600.0\n",
      "---------------------------------\n",
      "\n",
      "Coluna: GarageYrBlt\n",
      "Média: 1978.5061638868744\n",
      "Mediana: 1980.0\n",
      "Min: 1900.0\n",
      "Max: 2010.0\n",
      "---------------------------------\n",
      "\n"
     ]
    }
   ],
   "source": [
    "for column in outlier_alto['coluna']:\n",
    "    print('Coluna: ' + column)\n",
    "    print(f'Média: {houses_train[column].mean()}')\n",
    "    print(f'Mediana: {houses_train[column].median()}')\n",
    "    print(f'Min: {houses_train[column].min()}')\n",
    "    print(f'Max: {houses_train[column].max()}')\n",
    "    print('---------------------------------\\n')"
   ]
  },
  {
   "cell_type": "markdown",
   "id": "386d833b",
   "metadata": {},
   "source": [
    "A coluna 'LotFrontage' se refere à medida de pés lineares de rua conectada à casa. A coluna 'MasVnrArea' se refere à área folheada de alvenaria em pés quadrados. A coluna 'GarageYrBlt' se refere ao ano em que a garagem foi construída. \n",
    "\n",
    "Olhando essas medias e a descrição de cada coluna, é possível notar que faz sentido os intervalos desses valores variarem de tal forma. Vamos então considerar que esses outliers de fato são valores reais do nosso conjunto de dados."
   ]
  },
  {
   "cell_type": "markdown",
   "id": "90c70294",
   "metadata": {},
   "source": [
    "# Tratando variáveis categóricas ordinais\n",
    "\n",
    "* Verificando a descrição das variáveis no Kaggle, podemos ver quais categóricas são ordinais, então vamos tratá-las agora. Nesse caso, como estamos apenas substituindo os seus valores por um número correspondente sem usar nenhuma informação de outra linha ou coluna, não teremos o risco de data leakage. \n",
    "* Obs.: Estamos desconsiderando as colunas que já excluímos anteriormente."
   ]
  },
  {
   "cell_type": "code",
   "execution_count": 24,
   "id": "abd1b18f",
   "metadata": {},
   "outputs": [],
   "source": [
    "categ_ordinais_na_to_ex = ['ExterQual', 'ExterCond', 'BsmtQual', 'BsmtCond',\n",
    "                  'HeatingQC', 'KitchenQual', 'GarageQual',\n",
    "                  'GarageCond',]\n",
    "\n",
    "for column in categ_ordinais_na_to_ex:\n",
    "    houses_train[column] = houses_train[column].map({'Po':2, 'Fa':3, 'TA':5, 'Gd':7, 'Ex': 9})\n",
    "    houses_train[column].fillna(0, inplace=True)\n",
    "    houses_test[column] = houses_test[column].map({'Po':2, 'Fa':3, 'TA':5, 'Gd':7, 'Ex': 9})\n",
    "    houses_test[column].fillna(0, inplace=True)\n",
    "\n",
    "houses_train['CentralAir'] = houses_train['CentralAir'].map({'N' :0, 'Y':1})\n",
    "houses_test['CentralAir'] = houses_test['CentralAir'].map({'N' :0, 'Y':1})"
   ]
  },
  {
   "cell_type": "markdown",
   "id": "9c8b803d",
   "metadata": {},
   "source": [
    "# Criando os modelos"
   ]
  },
  {
   "cell_type": "code",
   "execution_count": 25,
   "id": "9305a281",
   "metadata": {},
   "outputs": [],
   "source": [
    "# Vamos selecionar X e y\n",
    "X = houses_train.drop('SalePrice', axis=1)\n",
    "y = houses_train.SalePrice"
   ]
  },
  {
   "cell_type": "code",
   "execution_count": 26,
   "id": "7de8dd11",
   "metadata": {},
   "outputs": [],
   "source": [
    "# Separando entre treino e validação. Os dados de teste estão no dataset houses_test\n",
    "X_train, X_val, y_train, y_val = train_test_split(X, y, test_size=0.30, random_state=42)"
   ]
  },
  {
   "cell_type": "code",
   "execution_count": 27,
   "id": "ba4552cb",
   "metadata": {},
   "outputs": [
    {
     "name": "stdout",
     "output_type": "stream",
     "text": [
      "X_train shape: (1022, 73)\n",
      "X_val shape: (438, 73)\n",
      "y_train shape: (1022,)\n",
      "y_val shape: (438,)\n"
     ]
    }
   ],
   "source": [
    "print(f\"X_train shape: {X_train.shape}\")\n",
    "print(f\"X_val shape: {X_val.shape}\")\n",
    "print(f\"y_train shape: {y_train.shape}\")\n",
    "print(f\"y_val shape: {y_val.shape}\")"
   ]
  },
  {
   "cell_type": "code",
   "execution_count": 28,
   "id": "11c5f609",
   "metadata": {},
   "outputs": [
    {
     "name": "stdout",
     "output_type": "stream",
     "text": [
      "['MSSubClass', 'LotFrontage', 'LotArea', 'OverallQual', 'OverallCond', 'YearBuilt', 'YearRemodAdd', 'MasVnrArea', 'BsmtFinSF1', 'BsmtFinSF2', 'BsmtUnfSF', 'TotalBsmtSF', '1stFlrSF', '2ndFlrSF', 'LowQualFinSF', 'GrLivArea', 'BsmtFullBath', 'BsmtHalfBath', 'FullBath', 'HalfBath', 'BedroomAbvGr', 'KitchenAbvGr', 'TotRmsAbvGrd', 'Fireplaces', 'GarageYrBlt', 'GarageCars', 'GarageArea', 'WoodDeckSF', 'OpenPorchSF', 'EnclosedPorch', '3SsnPorch', 'ScreenPorch', 'PoolArea', 'MiscVal', 'MoSold', 'YrSold']\n"
     ]
    }
   ],
   "source": [
    "# Vamos remover a coluna SalePrice da nossa lista de colunas numéricas, já que ela é o nosso target\n",
    "numerical_columns = [feature for feature in numerical_columns if feature != 'SalePrice']\n",
    "print(numerical_columns)"
   ]
  },
  {
   "cell_type": "code",
   "execution_count": 29,
   "id": "ff4f3af8",
   "metadata": {},
   "outputs": [],
   "source": [
    "# Instancia os modelos\n",
    "lgb_model = lgb.LGBMRegressor()\n",
    "lr_model = LinearRegression()\n",
    "rf_model =  RandomForestClassifier()\n",
    "knn_model = KNeighborsRegressor(n_neighbors=5)\n",
    "\n",
    "# Preparando os pipelines\n",
    "numerical_transformer = Pipeline(steps=[\n",
    "    ('imputer', SimpleImputer(strategy='median')),\n",
    "    ('scaler', StandardScaler())\n",
    "])\n",
    "\n",
    "categorical_transformer = Pipeline(steps=[\n",
    "    ('imputer', SimpleImputer(strategy='most_frequent')),\n",
    "    ('encoder', TargetEncoder())\n",
    "])\n",
    "\n",
    "preprocessor = ColumnTransformer(transformers=[\n",
    "    ('num', numerical_transformer, numerical_columns),\n",
    "    ('cat', categorical_transformer, categorical_columns)\n",
    "])"
   ]
  },
  {
   "cell_type": "markdown",
   "id": "04c3dbec",
   "metadata": {},
   "source": [
    "# Testando o LGBM"
   ]
  },
  {
   "cell_type": "code",
   "execution_count": 30,
   "id": "f895a4c3",
   "metadata": {},
   "outputs": [
    {
     "name": "stdout",
     "output_type": "stream",
     "text": [
      "Mean Squared Error (MSE) test:  641558588.8579\n",
      "Root Mean Squared Error (RMSE) test:  25329.0069\n",
      "Mean Absolute Error (MAE) test:  15701.1724\n",
      "R-squared (R2) test:  0.9081\n"
     ]
    }
   ],
   "source": [
    "pipe = Pipeline(steps=[\n",
    "    ('preprocessor', preprocessor),\n",
    "    ('lgbm', lgb_model)\n",
    "])\n",
    "\n",
    "# Treina o modelo\n",
    "pipe.fit(X_train, y_train)\n",
    "\n",
    "# Cria predições nos dados de validação para avaliar o desempenho\n",
    "y_pred = pipe.predict(X_val)\n",
    "\n",
    "# Avalia o modelo\n",
    "mse = mean_squared_error(y_val, y_pred)\n",
    "mae = mean_absolute_error(y_val, y_pred)\n",
    "rmse = np.sqrt(mse)\n",
    "r2 = r2_score(y_val, y_pred)\n",
    "\n",
    "print(f'Mean Squared Error (MSE) test:  {mse:.4f}')\n",
    "print(f'Root Mean Squared Error (RMSE) test:  {rmse:.4f}')\n",
    "print(f'Mean Absolute Error (MAE) test:  {mae:.4f}')\n",
    "print(f'R-squared (R2) test:  {r2:.4f}')"
   ]
  },
  {
   "cell_type": "markdown",
   "id": "351e63c7",
   "metadata": {},
   "source": [
    "# Testando a Regressão Linear"
   ]
  },
  {
   "cell_type": "code",
   "execution_count": 31,
   "id": "b9062ba7",
   "metadata": {},
   "outputs": [
    {
     "name": "stdout",
     "output_type": "stream",
     "text": [
      "Mean Squared Error (MSE) test:  900947211.6966\n",
      "Root Mean Squared Error (RMSE) test:  30015.7827\n",
      "Mean Absolute Error (MAE) test:  19744.2250\n",
      "R-squared (R2) test:  0.8709\n"
     ]
    }
   ],
   "source": [
    "pipe = Pipeline(steps=[\n",
    "    ('preprocessor', preprocessor),\n",
    "    ('linear_regression', lr_model)\n",
    "])\n",
    "\n",
    "# Treina o modelo\n",
    "pipe.fit(X_train, y_train)\n",
    "\n",
    "# Cria predições nos dados de validação para avaliar o desempenho\n",
    "y_pred = pipe.predict(X_val)\n",
    "\n",
    "# Avalia o modelo\n",
    "mse = mean_squared_error(y_val, y_pred)\n",
    "mae = mean_absolute_error(y_val, y_pred)\n",
    "rmse = np.sqrt(mse)\n",
    "r2 = r2_score(y_val, y_pred)\n",
    "\n",
    "print(f'Mean Squared Error (MSE) test:  {mse:.4f}')\n",
    "print(f'Root Mean Squared Error (RMSE) test:  {rmse:.4f}')\n",
    "print(f'Mean Absolute Error (MAE) test:  {mae:.4f}')\n",
    "print(f'R-squared (R2) test:  {r2:.4f}')"
   ]
  },
  {
   "cell_type": "markdown",
   "id": "cf0b07e0",
   "metadata": {},
   "source": [
    "# Testando a Random Forest"
   ]
  },
  {
   "cell_type": "code",
   "execution_count": 32,
   "id": "02909280",
   "metadata": {},
   "outputs": [
    {
     "name": "stdout",
     "output_type": "stream",
     "text": [
      "Mean Squared Error (MSE) test:  1703387392.8653\n",
      "Root Mean Squared Error (RMSE) test:  41272.1140\n",
      "Mean Absolute Error (MAE) test:  25145.9018\n",
      "R-squared (R2) test:  0.7559\n"
     ]
    }
   ],
   "source": [
    "pipe = Pipeline(steps=[\n",
    "    ('preprocessor', preprocessor),\n",
    "    ('random_forest', rf_model)\n",
    "])\n",
    "\n",
    "# Treina o modelo\n",
    "pipe.fit(X_train, y_train)\n",
    "\n",
    "# Cria predições nos dados de validação para avaliar o desempenho\n",
    "y_pred = pipe.predict(X_val)\n",
    "\n",
    "# Avalia o modelo\n",
    "mse = mean_squared_error(y_val, y_pred)\n",
    "mae = mean_absolute_error(y_val, y_pred)\n",
    "rmse = np.sqrt(mse)\n",
    "r2 = r2_score(y_val, y_pred)\n",
    "\n",
    "print(f'Mean Squared Error (MSE) test:  {mse:.4f}')\n",
    "print(f'Root Mean Squared Error (RMSE) test:  {rmse:.4f}')\n",
    "print(f'Mean Absolute Error (MAE) test:  {mae:.4f}')\n",
    "print(f'R-squared (R2) test:  {r2:.4f}')"
   ]
  },
  {
   "cell_type": "markdown",
   "id": "d43b6343",
   "metadata": {},
   "source": [
    "# Testando o KNN"
   ]
  },
  {
   "cell_type": "code",
   "execution_count": 33,
   "id": "92b189e9",
   "metadata": {},
   "outputs": [
    {
     "name": "stdout",
     "output_type": "stream",
     "text": [
      "Mean Squared Error (MSE) test:  2013320930.5052\n",
      "Root Mean Squared Error (RMSE) test:  44870.0449\n",
      "Mean Absolute Error (MAE) test:  29157.8712\n",
      "R-squared (R2) test:  0.7115\n"
     ]
    }
   ],
   "source": [
    "pipe = Pipeline(steps=[\n",
    "    ('preprocessor', preprocessor),\n",
    "    ('KNN', knn_model)\n",
    "])\n",
    "\n",
    "# Treina o modelo\n",
    "pipe.fit(X_train, y_train)\n",
    "\n",
    "# Cria predições nos dados de validação para avaliar o desempenho\n",
    "y_pred = pipe.predict(X_val)\n",
    "\n",
    "# Avalia o modelo\n",
    "mse = mean_squared_error(y_val, y_pred)\n",
    "mae = mean_absolute_error(y_val, y_pred)\n",
    "rmse = np.sqrt(mse)\n",
    "r2 = r2_score(y_val, y_pred)\n",
    "\n",
    "print(f'Mean Squared Error (MSE) test:  {mse:.4f}')\n",
    "print(f'Root Mean Squared Error (RMSE) test:  {rmse:.4f}')\n",
    "print(f'Mean Absolute Error (MAE) test:  {mae:.4f}')\n",
    "print(f'R-squared (R2) test:  {r2:.4f}')"
   ]
  },
  {
   "cell_type": "markdown",
   "id": "2480de0a",
   "metadata": {},
   "source": [
    "Como pudemos ver, o LGBM foi o modelo que obteve o melhor resultado. Então vamos fazer alguns testes de feature selection com ele e ver se conseguimos melhorar ainda mais as métricas de avaliação."
   ]
  },
  {
   "cell_type": "markdown",
   "id": "d9a2ee58",
   "metadata": {},
   "source": [
    "# Exclusão de features constantes"
   ]
  },
  {
   "cell_type": "code",
   "execution_count": 34,
   "id": "2f9a431e",
   "metadata": {},
   "outputs": [
    {
     "name": "stdout",
     "output_type": "stream",
     "text": [
      "Mean Squared Error (MSE) test:  641558588.8579\n",
      "Root Mean Squared Error (RMSE) test:  25329.0069\n",
      "Mean Absolute Error (MAE) test:  15701.1724\n",
      "R-squared (R2) test:  0.9081\n"
     ]
    }
   ],
   "source": [
    "from feature_engine.selection import DropConstantFeatures\n",
    "\n",
    "pipe = Pipeline(steps=[\n",
    "    ('preprocessor', preprocessor),\n",
    "    ('drop_constant_features', DropConstantFeatures()),\n",
    "    ('lgbm', lgb_model)\n",
    "])\n",
    "\n",
    "# Treina o modelo\n",
    "pipe.fit(X_train, y_train)\n",
    "\n",
    "# Cria predições nos dados de validação para avaliar o desempenho\n",
    "y_pred = pipe.predict(X_val)\n",
    "\n",
    "# Avalia o modelo\n",
    "mse = mean_squared_error(y_val, y_pred)\n",
    "mae = mean_absolute_error(y_val, y_pred)\n",
    "rmse = np.sqrt(mse)\n",
    "r2 = r2_score(y_val, y_pred)\n",
    "\n",
    "print(f'Mean Squared Error (MSE) test:  {mse:.4f}')\n",
    "print(f'Root Mean Squared Error (RMSE) test:  {rmse:.4f}')\n",
    "print(f'Mean Absolute Error (MAE) test:  {mae:.4f}')\n",
    "print(f'R-squared (R2) test:  {r2:.4f}')"
   ]
  },
  {
   "cell_type": "markdown",
   "id": "20fffd55",
   "metadata": {},
   "source": [
    "Pelo que pudemos ver, não houve nenhuma mudança nas métricas. Vamos tentar outro método então."
   ]
  },
  {
   "cell_type": "markdown",
   "id": "2aaa888a",
   "metadata": {},
   "source": [
    "# Exclusão de features correlacionadas"
   ]
  },
  {
   "cell_type": "code",
   "execution_count": 35,
   "id": "d737f6e6",
   "metadata": {},
   "outputs": [
    {
     "name": "stdout",
     "output_type": "stream",
     "text": [
      "Mean Squared Error (MSE) test:  666639440.7731\n",
      "Root Mean Squared Error (RMSE) test:  25819.3617\n",
      "Mean Absolute Error (MAE) test:  15544.4883\n",
      "R-squared (R2) test:  0.9045\n"
     ]
    }
   ],
   "source": [
    "from feature_engine.selection import DropCorrelatedFeatures\n",
    "\n",
    "pipe = Pipeline(steps=[\n",
    "    ('preprocessor', preprocessor),\n",
    "    ('drop_correlated_features', DropCorrelatedFeatures()),\n",
    "    ('lgbm', lgb_model)\n",
    "])\n",
    "\n",
    "# Treina o modelo\n",
    "pipe.fit(X_train, y_train)\n",
    "\n",
    "# Cria predições nos dados de validação para avaliar o desempenho\n",
    "y_pred = pipe.predict(X_val)\n",
    "\n",
    "# Avalia o modelo\n",
    "mse = mean_squared_error(y_val, y_pred)\n",
    "mae = mean_absolute_error(y_val, y_pred)\n",
    "rmse = np.sqrt(mse)\n",
    "r2 = r2_score(y_val, y_pred)\n",
    "\n",
    "print(f'Mean Squared Error (MSE) test:  {mse:.4f}')\n",
    "print(f'Root Mean Squared Error (RMSE) test:  {rmse:.4f}')\n",
    "print(f'Mean Absolute Error (MAE) test:  {mae:.4f}')\n",
    "print(f'R-squared (R2) test:  {r2:.4f}')"
   ]
  },
  {
   "cell_type": "markdown",
   "id": "3acf54fe",
   "metadata": {},
   "source": [
    "Também não houve nenhuma mudança significativa. Vamos seguir tentando."
   ]
  },
  {
   "cell_type": "markdown",
   "id": "5f4d2d12",
   "metadata": {},
   "source": [
    "# Exclusão de features correlacionadas com SmartCorrelatedSelection"
   ]
  },
  {
   "cell_type": "code",
   "execution_count": 36,
   "id": "a4dbc20a",
   "metadata": {},
   "outputs": [
    {
     "name": "stdout",
     "output_type": "stream",
     "text": [
      "Mean Squared Error (MSE) test:  621880271.8434\n",
      "Root Mean Squared Error (RMSE) test:  24937.5274\n",
      "Mean Absolute Error (MAE) test:  15174.4472\n",
      "R-squared (R2) test:  0.9109\n"
     ]
    }
   ],
   "source": [
    "from feature_engine.selection import SmartCorrelatedSelection\n",
    "\n",
    "scs = SmartCorrelatedSelection(\n",
    "    method='spearman',\n",
    "    threshold=0.8,\n",
    "    missing_values='raise',\n",
    "    selection_method='variance'\n",
    ")\n",
    "\n",
    "pipe = Pipeline(steps=[\n",
    "    ('preprocessor', preprocessor),\n",
    "    ('smart_correlated_selection', scs),\n",
    "    ('lgbm', lgb_model)\n",
    "])\n",
    "\n",
    "# Treina o modelo\n",
    "pipe.fit(X_train, y_train)\n",
    "\n",
    "# Cria predições nos dados de validação para avaliar o desempenho\n",
    "y_pred = pipe.predict(X_val)\n",
    "\n",
    "# Avalia o modelo\n",
    "mse = mean_squared_error(y_val, y_pred)\n",
    "mae = mean_absolute_error(y_val, y_pred)\n",
    "rmse = np.sqrt(mse)\n",
    "r2 = r2_score(y_val, y_pred)\n",
    "\n",
    "print(f'Mean Squared Error (MSE) test:  {mse:.4f}')\n",
    "print(f'Root Mean Squared Error (RMSE) test:  {rmse:.4f}')\n",
    "print(f'Mean Absolute Error (MAE) test:  {mae:.4f}')\n",
    "print(f'R-squared (R2) test:  {r2:.4f}')"
   ]
  },
  {
   "cell_type": "markdown",
   "id": "2ddb7124",
   "metadata": {},
   "source": [
    "Também não houve uma grande mudança, mas podemos ver que o modelo teve uma pequena melhora.\n",
    "Há outras maneiras de fazer a seleção de features e melhorar nosso modelo. Mas por ora, vamos testar o desempenho nos dados de teste e ver como fica nossa pontuação no Kaggle."
   ]
  },
  {
   "cell_type": "code",
   "execution_count": 37,
   "id": "0eb93ff6",
   "metadata": {},
   "outputs": [],
   "source": [
    "from feature_engine.selection import SmartCorrelatedSelection\n",
    "\n",
    "scs = SmartCorrelatedSelection(\n",
    "    method='spearman',\n",
    "    threshold=0.8,\n",
    "    missing_values='raise',\n",
    "    selection_method='variance'\n",
    ")\n",
    "\n",
    "pipe = Pipeline(steps=[\n",
    "    ('preprocessor', preprocessor),\n",
    "    ('smart_correlated_selection', scs),\n",
    "    ('lgbm', lgb_model)\n",
    "])\n",
    "\n",
    "# Treina o modelo\n",
    "pipe.fit(X_train, y_train)\n",
    "\n",
    "# Cria predições nos dados de teste\n",
    "y_pred = pipe.predict(houses_test)"
   ]
  },
  {
   "cell_type": "code",
   "execution_count": 38,
   "id": "8afc039c",
   "metadata": {},
   "outputs": [
    {
     "data": {
      "text/plain": [
       "(1459,)"
      ]
     },
     "execution_count": 38,
     "metadata": {},
     "output_type": "execute_result"
    }
   ],
   "source": [
    "y_pred.shape"
   ]
  },
  {
   "cell_type": "code",
   "execution_count": 39,
   "id": "f607139b",
   "metadata": {},
   "outputs": [],
   "source": [
    "# Adicionando a coluna de previsão na base\n",
    "houses_test['SalePrice'] = y_pred"
   ]
  },
  {
   "cell_type": "code",
   "execution_count": 42,
   "id": "ac781cdd",
   "metadata": {},
   "outputs": [],
   "source": [
    "# Extraindo somente o Id e o SalePrice\n",
    "resultado2 = houses_test[['Id', 'SalePrice']]"
   ]
  },
  {
   "cell_type": "code",
   "execution_count": 44,
   "id": "b476696f",
   "metadata": {},
   "outputs": [],
   "source": [
    "# Exportando a base\n",
    "resultado2.to_csv('resultado2.csv', index=False)"
   ]
  },
  {
   "cell_type": "markdown",
   "id": "70615bbb",
   "metadata": {},
   "source": [
    "# Resultados\n",
    "\n",
    "O primeiro resultado que havia obtido no Kaggle com o modelo antigo foi de 0.25476, agora com o novo modelo obtivemos 0.13955."
   ]
  },
  {
   "cell_type": "code",
   "execution_count": null,
   "id": "8f27ccb6",
   "metadata": {},
   "outputs": [],
   "source": []
  }
 ],
 "metadata": {
  "kernelspec": {
   "display_name": "Python 3 (ipykernel)",
   "language": "python",
   "name": "python3"
  },
  "language_info": {
   "codemirror_mode": {
    "name": "ipython",
    "version": 3
   },
   "file_extension": ".py",
   "mimetype": "text/x-python",
   "name": "python",
   "nbconvert_exporter": "python",
   "pygments_lexer": "ipython3",
   "version": "3.9.17"
  }
 },
 "nbformat": 4,
 "nbformat_minor": 5
}
