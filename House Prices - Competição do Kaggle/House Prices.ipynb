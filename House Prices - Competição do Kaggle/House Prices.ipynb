{
 "cells": [
  {
   "cell_type": "markdown",
   "id": "06a47093",
   "metadata": {},
   "source": [
    "### House Prices\n",
    "\n",
    "Competição do Kaggle sobre a previsão de preço das casas na cidade de Ames, Iowa (Estados Unidos)"
   ]
  },
  {
   "cell_type": "code",
   "execution_count": 1,
   "id": "eadc016c",
   "metadata": {},
   "outputs": [],
   "source": [
    "# Importando o pandas\n",
    "import pandas as pd"
   ]
  },
  {
   "cell_type": "code",
   "execution_count": 2,
   "id": "51009af4",
   "metadata": {},
   "outputs": [],
   "source": [
    "# Importando o dataset de treino\n",
    "base = pd.read_csv('train.csv')"
   ]
  },
  {
   "cell_type": "code",
   "execution_count": 3,
   "id": "324f9c5a",
   "metadata": {},
   "outputs": [
    {
     "data": {
      "text/html": [
       "<div>\n",
       "<style scoped>\n",
       "    .dataframe tbody tr th:only-of-type {\n",
       "        vertical-align: middle;\n",
       "    }\n",
       "\n",
       "    .dataframe tbody tr th {\n",
       "        vertical-align: top;\n",
       "    }\n",
       "\n",
       "    .dataframe thead th {\n",
       "        text-align: right;\n",
       "    }\n",
       "</style>\n",
       "<table border=\"1\" class=\"dataframe\">\n",
       "  <thead>\n",
       "    <tr style=\"text-align: right;\">\n",
       "      <th></th>\n",
       "      <th>Id</th>\n",
       "      <th>MSSubClass</th>\n",
       "      <th>MSZoning</th>\n",
       "      <th>LotFrontage</th>\n",
       "      <th>LotArea</th>\n",
       "      <th>Street</th>\n",
       "      <th>Alley</th>\n",
       "      <th>LotShape</th>\n",
       "      <th>LandContour</th>\n",
       "      <th>Utilities</th>\n",
       "      <th>...</th>\n",
       "      <th>PoolArea</th>\n",
       "      <th>PoolQC</th>\n",
       "      <th>Fence</th>\n",
       "      <th>MiscFeature</th>\n",
       "      <th>MiscVal</th>\n",
       "      <th>MoSold</th>\n",
       "      <th>YrSold</th>\n",
       "      <th>SaleType</th>\n",
       "      <th>SaleCondition</th>\n",
       "      <th>SalePrice</th>\n",
       "    </tr>\n",
       "  </thead>\n",
       "  <tbody>\n",
       "    <tr>\n",
       "      <th>0</th>\n",
       "      <td>1</td>\n",
       "      <td>60</td>\n",
       "      <td>RL</td>\n",
       "      <td>65.0</td>\n",
       "      <td>8450</td>\n",
       "      <td>Pave</td>\n",
       "      <td>NaN</td>\n",
       "      <td>Reg</td>\n",
       "      <td>Lvl</td>\n",
       "      <td>AllPub</td>\n",
       "      <td>...</td>\n",
       "      <td>0</td>\n",
       "      <td>NaN</td>\n",
       "      <td>NaN</td>\n",
       "      <td>NaN</td>\n",
       "      <td>0</td>\n",
       "      <td>2</td>\n",
       "      <td>2008</td>\n",
       "      <td>WD</td>\n",
       "      <td>Normal</td>\n",
       "      <td>208500</td>\n",
       "    </tr>\n",
       "    <tr>\n",
       "      <th>1</th>\n",
       "      <td>2</td>\n",
       "      <td>20</td>\n",
       "      <td>RL</td>\n",
       "      <td>80.0</td>\n",
       "      <td>9600</td>\n",
       "      <td>Pave</td>\n",
       "      <td>NaN</td>\n",
       "      <td>Reg</td>\n",
       "      <td>Lvl</td>\n",
       "      <td>AllPub</td>\n",
       "      <td>...</td>\n",
       "      <td>0</td>\n",
       "      <td>NaN</td>\n",
       "      <td>NaN</td>\n",
       "      <td>NaN</td>\n",
       "      <td>0</td>\n",
       "      <td>5</td>\n",
       "      <td>2007</td>\n",
       "      <td>WD</td>\n",
       "      <td>Normal</td>\n",
       "      <td>181500</td>\n",
       "    </tr>\n",
       "    <tr>\n",
       "      <th>2</th>\n",
       "      <td>3</td>\n",
       "      <td>60</td>\n",
       "      <td>RL</td>\n",
       "      <td>68.0</td>\n",
       "      <td>11250</td>\n",
       "      <td>Pave</td>\n",
       "      <td>NaN</td>\n",
       "      <td>IR1</td>\n",
       "      <td>Lvl</td>\n",
       "      <td>AllPub</td>\n",
       "      <td>...</td>\n",
       "      <td>0</td>\n",
       "      <td>NaN</td>\n",
       "      <td>NaN</td>\n",
       "      <td>NaN</td>\n",
       "      <td>0</td>\n",
       "      <td>9</td>\n",
       "      <td>2008</td>\n",
       "      <td>WD</td>\n",
       "      <td>Normal</td>\n",
       "      <td>223500</td>\n",
       "    </tr>\n",
       "    <tr>\n",
       "      <th>3</th>\n",
       "      <td>4</td>\n",
       "      <td>70</td>\n",
       "      <td>RL</td>\n",
       "      <td>60.0</td>\n",
       "      <td>9550</td>\n",
       "      <td>Pave</td>\n",
       "      <td>NaN</td>\n",
       "      <td>IR1</td>\n",
       "      <td>Lvl</td>\n",
       "      <td>AllPub</td>\n",
       "      <td>...</td>\n",
       "      <td>0</td>\n",
       "      <td>NaN</td>\n",
       "      <td>NaN</td>\n",
       "      <td>NaN</td>\n",
       "      <td>0</td>\n",
       "      <td>2</td>\n",
       "      <td>2006</td>\n",
       "      <td>WD</td>\n",
       "      <td>Abnorml</td>\n",
       "      <td>140000</td>\n",
       "    </tr>\n",
       "    <tr>\n",
       "      <th>4</th>\n",
       "      <td>5</td>\n",
       "      <td>60</td>\n",
       "      <td>RL</td>\n",
       "      <td>84.0</td>\n",
       "      <td>14260</td>\n",
       "      <td>Pave</td>\n",
       "      <td>NaN</td>\n",
       "      <td>IR1</td>\n",
       "      <td>Lvl</td>\n",
       "      <td>AllPub</td>\n",
       "      <td>...</td>\n",
       "      <td>0</td>\n",
       "      <td>NaN</td>\n",
       "      <td>NaN</td>\n",
       "      <td>NaN</td>\n",
       "      <td>0</td>\n",
       "      <td>12</td>\n",
       "      <td>2008</td>\n",
       "      <td>WD</td>\n",
       "      <td>Normal</td>\n",
       "      <td>250000</td>\n",
       "    </tr>\n",
       "  </tbody>\n",
       "</table>\n",
       "<p>5 rows × 81 columns</p>\n",
       "</div>"
      ],
      "text/plain": [
       "   Id  MSSubClass MSZoning  LotFrontage  LotArea Street Alley LotShape  \\\n",
       "0   1          60       RL         65.0     8450   Pave   NaN      Reg   \n",
       "1   2          20       RL         80.0     9600   Pave   NaN      Reg   \n",
       "2   3          60       RL         68.0    11250   Pave   NaN      IR1   \n",
       "3   4          70       RL         60.0     9550   Pave   NaN      IR1   \n",
       "4   5          60       RL         84.0    14260   Pave   NaN      IR1   \n",
       "\n",
       "  LandContour Utilities  ... PoolArea PoolQC Fence MiscFeature MiscVal MoSold  \\\n",
       "0         Lvl    AllPub  ...        0    NaN   NaN         NaN       0      2   \n",
       "1         Lvl    AllPub  ...        0    NaN   NaN         NaN       0      5   \n",
       "2         Lvl    AllPub  ...        0    NaN   NaN         NaN       0      9   \n",
       "3         Lvl    AllPub  ...        0    NaN   NaN         NaN       0      2   \n",
       "4         Lvl    AllPub  ...        0    NaN   NaN         NaN       0     12   \n",
       "\n",
       "  YrSold  SaleType  SaleCondition  SalePrice  \n",
       "0   2008        WD         Normal     208500  \n",
       "1   2007        WD         Normal     181500  \n",
       "2   2008        WD         Normal     223500  \n",
       "3   2006        WD        Abnorml     140000  \n",
       "4   2008        WD         Normal     250000  \n",
       "\n",
       "[5 rows x 81 columns]"
      ]
     },
     "execution_count": 3,
     "metadata": {},
     "output_type": "execute_result"
    }
   ],
   "source": [
    "# Visualizando essa base\n",
    "base.head()"
   ]
  },
  {
   "cell_type": "code",
   "execution_count": 4,
   "id": "5282ebc5",
   "metadata": {},
   "outputs": [
    {
     "data": {
      "text/plain": [
       "(1460, 81)"
      ]
     },
     "execution_count": 4,
     "metadata": {},
     "output_type": "execute_result"
    }
   ],
   "source": [
    "# Retornando o shape da base\n",
    "base.shape"
   ]
  },
  {
   "cell_type": "code",
   "execution_count": 5,
   "id": "d3bf820d",
   "metadata": {},
   "outputs": [
    {
     "name": "stdout",
     "output_type": "stream",
     "text": [
      "<class 'pandas.core.frame.DataFrame'>\n",
      "RangeIndex: 1460 entries, 0 to 1459\n",
      "Data columns (total 81 columns):\n",
      " #   Column         Non-Null Count  Dtype  \n",
      "---  ------         --------------  -----  \n",
      " 0   Id             1460 non-null   int64  \n",
      " 1   MSSubClass     1460 non-null   int64  \n",
      " 2   MSZoning       1460 non-null   object \n",
      " 3   LotFrontage    1201 non-null   float64\n",
      " 4   LotArea        1460 non-null   int64  \n",
      " 5   Street         1460 non-null   object \n",
      " 6   Alley          91 non-null     object \n",
      " 7   LotShape       1460 non-null   object \n",
      " 8   LandContour    1460 non-null   object \n",
      " 9   Utilities      1460 non-null   object \n",
      " 10  LotConfig      1460 non-null   object \n",
      " 11  LandSlope      1460 non-null   object \n",
      " 12  Neighborhood   1460 non-null   object \n",
      " 13  Condition1     1460 non-null   object \n",
      " 14  Condition2     1460 non-null   object \n",
      " 15  BldgType       1460 non-null   object \n",
      " 16  HouseStyle     1460 non-null   object \n",
      " 17  OverallQual    1460 non-null   int64  \n",
      " 18  OverallCond    1460 non-null   int64  \n",
      " 19  YearBuilt      1460 non-null   int64  \n",
      " 20  YearRemodAdd   1460 non-null   int64  \n",
      " 21  RoofStyle      1460 non-null   object \n",
      " 22  RoofMatl       1460 non-null   object \n",
      " 23  Exterior1st    1460 non-null   object \n",
      " 24  Exterior2nd    1460 non-null   object \n",
      " 25  MasVnrType     1452 non-null   object \n",
      " 26  MasVnrArea     1452 non-null   float64\n",
      " 27  ExterQual      1460 non-null   object \n",
      " 28  ExterCond      1460 non-null   object \n",
      " 29  Foundation     1460 non-null   object \n",
      " 30  BsmtQual       1423 non-null   object \n",
      " 31  BsmtCond       1423 non-null   object \n",
      " 32  BsmtExposure   1422 non-null   object \n",
      " 33  BsmtFinType1   1423 non-null   object \n",
      " 34  BsmtFinSF1     1460 non-null   int64  \n",
      " 35  BsmtFinType2   1422 non-null   object \n",
      " 36  BsmtFinSF2     1460 non-null   int64  \n",
      " 37  BsmtUnfSF      1460 non-null   int64  \n",
      " 38  TotalBsmtSF    1460 non-null   int64  \n",
      " 39  Heating        1460 non-null   object \n",
      " 40  HeatingQC      1460 non-null   object \n",
      " 41  CentralAir     1460 non-null   object \n",
      " 42  Electrical     1459 non-null   object \n",
      " 43  1stFlrSF       1460 non-null   int64  \n",
      " 44  2ndFlrSF       1460 non-null   int64  \n",
      " 45  LowQualFinSF   1460 non-null   int64  \n",
      " 46  GrLivArea      1460 non-null   int64  \n",
      " 47  BsmtFullBath   1460 non-null   int64  \n",
      " 48  BsmtHalfBath   1460 non-null   int64  \n",
      " 49  FullBath       1460 non-null   int64  \n",
      " 50  HalfBath       1460 non-null   int64  \n",
      " 51  BedroomAbvGr   1460 non-null   int64  \n",
      " 52  KitchenAbvGr   1460 non-null   int64  \n",
      " 53  KitchenQual    1460 non-null   object \n",
      " 54  TotRmsAbvGrd   1460 non-null   int64  \n",
      " 55  Functional     1460 non-null   object \n",
      " 56  Fireplaces     1460 non-null   int64  \n",
      " 57  FireplaceQu    770 non-null    object \n",
      " 58  GarageType     1379 non-null   object \n",
      " 59  GarageYrBlt    1379 non-null   float64\n",
      " 60  GarageFinish   1379 non-null   object \n",
      " 61  GarageCars     1460 non-null   int64  \n",
      " 62  GarageArea     1460 non-null   int64  \n",
      " 63  GarageQual     1379 non-null   object \n",
      " 64  GarageCond     1379 non-null   object \n",
      " 65  PavedDrive     1460 non-null   object \n",
      " 66  WoodDeckSF     1460 non-null   int64  \n",
      " 67  OpenPorchSF    1460 non-null   int64  \n",
      " 68  EnclosedPorch  1460 non-null   int64  \n",
      " 69  3SsnPorch      1460 non-null   int64  \n",
      " 70  ScreenPorch    1460 non-null   int64  \n",
      " 71  PoolArea       1460 non-null   int64  \n",
      " 72  PoolQC         7 non-null      object \n",
      " 73  Fence          281 non-null    object \n",
      " 74  MiscFeature    54 non-null     object \n",
      " 75  MiscVal        1460 non-null   int64  \n",
      " 76  MoSold         1460 non-null   int64  \n",
      " 77  YrSold         1460 non-null   int64  \n",
      " 78  SaleType       1460 non-null   object \n",
      " 79  SaleCondition  1460 non-null   object \n",
      " 80  SalePrice      1460 non-null   int64  \n",
      "dtypes: float64(3), int64(35), object(43)\n",
      "memory usage: 924.0+ KB\n"
     ]
    }
   ],
   "source": [
    "# E as informações\n",
    "base.info()"
   ]
  },
  {
   "cell_type": "markdown",
   "id": "6274a808",
   "metadata": {},
   "source": [
    "### Começando a explorar os dados"
   ]
  },
  {
   "cell_type": "code",
   "execution_count": 9,
   "id": "56facf82",
   "metadata": {},
   "outputs": [
    {
     "data": {
      "text/plain": [
       "PoolQC          1453\n",
       "MiscFeature     1406\n",
       "Alley           1369\n",
       "Fence           1179\n",
       "FireplaceQu      690\n",
       "LotFrontage      259\n",
       "GarageYrBlt       81\n",
       "GarageCond        81\n",
       "GarageType        81\n",
       "GarageFinish      81\n",
       "GarageQual        81\n",
       "BsmtFinType2      38\n",
       "BsmtExposure      38\n",
       "BsmtQual          37\n",
       "BsmtCond          37\n",
       "BsmtFinType1      37\n",
       "MasVnrArea         8\n",
       "MasVnrType         8\n",
       "Electrical         1\n",
       "Id                 0\n",
       "dtype: int64"
      ]
     },
     "execution_count": 9,
     "metadata": {},
     "output_type": "execute_result"
    }
   ],
   "source": [
    "# Visualizando quantidade de valores vazios\n",
    "base.isnull().sum().sort_values(ascending=False).head(20)"
   ]
  },
  {
   "cell_type": "code",
   "execution_count": 12,
   "id": "24315111",
   "metadata": {},
   "outputs": [
    {
     "data": {
      "text/plain": [
       "PoolQC          0.995205\n",
       "MiscFeature     0.963014\n",
       "Alley           0.937671\n",
       "Fence           0.807534\n",
       "FireplaceQu     0.472603\n",
       "LotFrontage     0.177397\n",
       "GarageYrBlt     0.055479\n",
       "GarageCond      0.055479\n",
       "GarageType      0.055479\n",
       "GarageFinish    0.055479\n",
       "GarageQual      0.055479\n",
       "BsmtFinType2    0.026027\n",
       "BsmtExposure    0.026027\n",
       "BsmtQual        0.025342\n",
       "BsmtCond        0.025342\n",
       "BsmtFinType1    0.025342\n",
       "MasVnrArea      0.005479\n",
       "MasVnrType      0.005479\n",
       "Electrical      0.000685\n",
       "Id              0.000000\n",
       "dtype: float64"
      ]
     },
     "execution_count": 12,
     "metadata": {},
     "output_type": "execute_result"
    }
   ],
   "source": [
    "# Em porcentagem\n",
    "(base.isnull().sum()/base.shape[0]).sort_values(ascending=False).head(20)"
   ]
  },
  {
   "cell_type": "code",
   "execution_count": 15,
   "id": "da65bed8",
   "metadata": {},
   "outputs": [
    {
     "data": {
      "text/plain": [
       "Index(['LotFrontage', 'Alley', 'FireplaceQu', 'PoolQC', 'Fence',\n",
       "       'MiscFeature'],\n",
       "      dtype='object')"
      ]
     },
     "execution_count": 15,
     "metadata": {},
     "output_type": "execute_result"
    }
   ],
   "source": [
    "# Podemos eliminar as colunas com mais de 10% de valores vazios\n",
    "eliminar = base.columns[(base.isnull().sum() / base.shape[0]) > 0.1]\n",
    "eliminar"
   ]
  },
  {
   "cell_type": "code",
   "execution_count": 16,
   "id": "f8f868f9",
   "metadata": {},
   "outputs": [],
   "source": [
    "# Eliminando essas colunas\n",
    "base = base.drop(eliminar, axis=1)"
   ]
  },
  {
   "cell_type": "code",
   "execution_count": 17,
   "id": "bac2fadf",
   "metadata": {},
   "outputs": [
    {
     "data": {
      "text/plain": [
       "GarageType      0.055479\n",
       "GarageCond      0.055479\n",
       "GarageYrBlt     0.055479\n",
       "GarageFinish    0.055479\n",
       "GarageQual      0.055479\n",
       "BsmtFinType2    0.026027\n",
       "BsmtExposure    0.026027\n",
       "BsmtFinType1    0.025342\n",
       "BsmtCond        0.025342\n",
       "BsmtQual        0.025342\n",
       "MasVnrArea      0.005479\n",
       "MasVnrType      0.005479\n",
       "Electrical      0.000685\n",
       "PavedDrive      0.000000\n",
       "WoodDeckSF      0.000000\n",
       "LowQualFinSF    0.000000\n",
       "GrLivArea       0.000000\n",
       "BsmtFullBath    0.000000\n",
       "BsmtHalfBath    0.000000\n",
       "FullBath        0.000000\n",
       "dtype: float64"
      ]
     },
     "execution_count": 17,
     "metadata": {},
     "output_type": "execute_result"
    }
   ],
   "source": [
    "(base.isnull().sum()/base.shape[0]).sort_values(ascending=False).head(20)"
   ]
  },
  {
   "cell_type": "markdown",
   "id": "b6a8bdcf",
   "metadata": {},
   "source": [
    "* Queremos criar um primeiro modelo para verificar o quanto estamos errando e depois planejar como melhorar. Para isso:\n",
    "    \n",
    "    * Vamos **eliminar as colunas do texto**\n",
    "    * Precisamos **tratar os valores vazios**\n",
    "    * Vamos **escolher alguns algoritmos para testar e um método de avaliação de erro**"
   ]
  },
  {
   "cell_type": "code",
   "execution_count": 22,
   "id": "ca6305d8",
   "metadata": {},
   "outputs": [
    {
     "data": {
      "text/plain": [
       "Index(['Id', 'MSSubClass', 'LotArea', 'OverallQual', 'OverallCond',\n",
       "       'YearBuilt', 'YearRemodAdd', 'MasVnrArea', 'BsmtFinSF1', 'BsmtFinSF2',\n",
       "       'BsmtUnfSF', 'TotalBsmtSF', '1stFlrSF', '2ndFlrSF', 'LowQualFinSF',\n",
       "       'GrLivArea', 'BsmtFullBath', 'BsmtHalfBath', 'FullBath', 'HalfBath',\n",
       "       'BedroomAbvGr', 'KitchenAbvGr', 'TotRmsAbvGrd', 'Fireplaces',\n",
       "       'GarageYrBlt', 'GarageCars', 'GarageArea', 'WoodDeckSF', 'OpenPorchSF',\n",
       "       'EnclosedPorch', '3SsnPorch', 'ScreenPorch', 'PoolArea', 'MiscVal',\n",
       "       'MoSold', 'YrSold', 'SalePrice'],\n",
       "      dtype='object')"
      ]
     },
     "execution_count": 22,
     "metadata": {},
     "output_type": "execute_result"
    }
   ],
   "source": [
    "# Selecionando apenas as colunas numéricas\n",
    "colunas_num = base.columns[base.dtypes != 'object']\n",
    "colunas_num"
   ]
  },
  {
   "cell_type": "code",
   "execution_count": 24,
   "id": "459dc047",
   "metadata": {},
   "outputs": [
    {
     "data": {
      "text/html": [
       "<div>\n",
       "<style scoped>\n",
       "    .dataframe tbody tr th:only-of-type {\n",
       "        vertical-align: middle;\n",
       "    }\n",
       "\n",
       "    .dataframe tbody tr th {\n",
       "        vertical-align: top;\n",
       "    }\n",
       "\n",
       "    .dataframe thead th {\n",
       "        text-align: right;\n",
       "    }\n",
       "</style>\n",
       "<table border=\"1\" class=\"dataframe\">\n",
       "  <thead>\n",
       "    <tr style=\"text-align: right;\">\n",
       "      <th></th>\n",
       "      <th>Id</th>\n",
       "      <th>MSSubClass</th>\n",
       "      <th>LotArea</th>\n",
       "      <th>OverallQual</th>\n",
       "      <th>OverallCond</th>\n",
       "      <th>YearBuilt</th>\n",
       "      <th>YearRemodAdd</th>\n",
       "      <th>MasVnrArea</th>\n",
       "      <th>BsmtFinSF1</th>\n",
       "      <th>BsmtFinSF2</th>\n",
       "      <th>...</th>\n",
       "      <th>WoodDeckSF</th>\n",
       "      <th>OpenPorchSF</th>\n",
       "      <th>EnclosedPorch</th>\n",
       "      <th>3SsnPorch</th>\n",
       "      <th>ScreenPorch</th>\n",
       "      <th>PoolArea</th>\n",
       "      <th>MiscVal</th>\n",
       "      <th>MoSold</th>\n",
       "      <th>YrSold</th>\n",
       "      <th>SalePrice</th>\n",
       "    </tr>\n",
       "  </thead>\n",
       "  <tbody>\n",
       "    <tr>\n",
       "      <th>0</th>\n",
       "      <td>1</td>\n",
       "      <td>60</td>\n",
       "      <td>8450</td>\n",
       "      <td>7</td>\n",
       "      <td>5</td>\n",
       "      <td>2003</td>\n",
       "      <td>2003</td>\n",
       "      <td>196.0</td>\n",
       "      <td>706</td>\n",
       "      <td>0</td>\n",
       "      <td>...</td>\n",
       "      <td>0</td>\n",
       "      <td>61</td>\n",
       "      <td>0</td>\n",
       "      <td>0</td>\n",
       "      <td>0</td>\n",
       "      <td>0</td>\n",
       "      <td>0</td>\n",
       "      <td>2</td>\n",
       "      <td>2008</td>\n",
       "      <td>208500</td>\n",
       "    </tr>\n",
       "    <tr>\n",
       "      <th>1</th>\n",
       "      <td>2</td>\n",
       "      <td>20</td>\n",
       "      <td>9600</td>\n",
       "      <td>6</td>\n",
       "      <td>8</td>\n",
       "      <td>1976</td>\n",
       "      <td>1976</td>\n",
       "      <td>0.0</td>\n",
       "      <td>978</td>\n",
       "      <td>0</td>\n",
       "      <td>...</td>\n",
       "      <td>298</td>\n",
       "      <td>0</td>\n",
       "      <td>0</td>\n",
       "      <td>0</td>\n",
       "      <td>0</td>\n",
       "      <td>0</td>\n",
       "      <td>0</td>\n",
       "      <td>5</td>\n",
       "      <td>2007</td>\n",
       "      <td>181500</td>\n",
       "    </tr>\n",
       "    <tr>\n",
       "      <th>2</th>\n",
       "      <td>3</td>\n",
       "      <td>60</td>\n",
       "      <td>11250</td>\n",
       "      <td>7</td>\n",
       "      <td>5</td>\n",
       "      <td>2001</td>\n",
       "      <td>2002</td>\n",
       "      <td>162.0</td>\n",
       "      <td>486</td>\n",
       "      <td>0</td>\n",
       "      <td>...</td>\n",
       "      <td>0</td>\n",
       "      <td>42</td>\n",
       "      <td>0</td>\n",
       "      <td>0</td>\n",
       "      <td>0</td>\n",
       "      <td>0</td>\n",
       "      <td>0</td>\n",
       "      <td>9</td>\n",
       "      <td>2008</td>\n",
       "      <td>223500</td>\n",
       "    </tr>\n",
       "    <tr>\n",
       "      <th>3</th>\n",
       "      <td>4</td>\n",
       "      <td>70</td>\n",
       "      <td>9550</td>\n",
       "      <td>7</td>\n",
       "      <td>5</td>\n",
       "      <td>1915</td>\n",
       "      <td>1970</td>\n",
       "      <td>0.0</td>\n",
       "      <td>216</td>\n",
       "      <td>0</td>\n",
       "      <td>...</td>\n",
       "      <td>0</td>\n",
       "      <td>35</td>\n",
       "      <td>272</td>\n",
       "      <td>0</td>\n",
       "      <td>0</td>\n",
       "      <td>0</td>\n",
       "      <td>0</td>\n",
       "      <td>2</td>\n",
       "      <td>2006</td>\n",
       "      <td>140000</td>\n",
       "    </tr>\n",
       "    <tr>\n",
       "      <th>4</th>\n",
       "      <td>5</td>\n",
       "      <td>60</td>\n",
       "      <td>14260</td>\n",
       "      <td>8</td>\n",
       "      <td>5</td>\n",
       "      <td>2000</td>\n",
       "      <td>2000</td>\n",
       "      <td>350.0</td>\n",
       "      <td>655</td>\n",
       "      <td>0</td>\n",
       "      <td>...</td>\n",
       "      <td>192</td>\n",
       "      <td>84</td>\n",
       "      <td>0</td>\n",
       "      <td>0</td>\n",
       "      <td>0</td>\n",
       "      <td>0</td>\n",
       "      <td>0</td>\n",
       "      <td>12</td>\n",
       "      <td>2008</td>\n",
       "      <td>250000</td>\n",
       "    </tr>\n",
       "    <tr>\n",
       "      <th>...</th>\n",
       "      <td>...</td>\n",
       "      <td>...</td>\n",
       "      <td>...</td>\n",
       "      <td>...</td>\n",
       "      <td>...</td>\n",
       "      <td>...</td>\n",
       "      <td>...</td>\n",
       "      <td>...</td>\n",
       "      <td>...</td>\n",
       "      <td>...</td>\n",
       "      <td>...</td>\n",
       "      <td>...</td>\n",
       "      <td>...</td>\n",
       "      <td>...</td>\n",
       "      <td>...</td>\n",
       "      <td>...</td>\n",
       "      <td>...</td>\n",
       "      <td>...</td>\n",
       "      <td>...</td>\n",
       "      <td>...</td>\n",
       "      <td>...</td>\n",
       "    </tr>\n",
       "    <tr>\n",
       "      <th>1455</th>\n",
       "      <td>1456</td>\n",
       "      <td>60</td>\n",
       "      <td>7917</td>\n",
       "      <td>6</td>\n",
       "      <td>5</td>\n",
       "      <td>1999</td>\n",
       "      <td>2000</td>\n",
       "      <td>0.0</td>\n",
       "      <td>0</td>\n",
       "      <td>0</td>\n",
       "      <td>...</td>\n",
       "      <td>0</td>\n",
       "      <td>40</td>\n",
       "      <td>0</td>\n",
       "      <td>0</td>\n",
       "      <td>0</td>\n",
       "      <td>0</td>\n",
       "      <td>0</td>\n",
       "      <td>8</td>\n",
       "      <td>2007</td>\n",
       "      <td>175000</td>\n",
       "    </tr>\n",
       "    <tr>\n",
       "      <th>1456</th>\n",
       "      <td>1457</td>\n",
       "      <td>20</td>\n",
       "      <td>13175</td>\n",
       "      <td>6</td>\n",
       "      <td>6</td>\n",
       "      <td>1978</td>\n",
       "      <td>1988</td>\n",
       "      <td>119.0</td>\n",
       "      <td>790</td>\n",
       "      <td>163</td>\n",
       "      <td>...</td>\n",
       "      <td>349</td>\n",
       "      <td>0</td>\n",
       "      <td>0</td>\n",
       "      <td>0</td>\n",
       "      <td>0</td>\n",
       "      <td>0</td>\n",
       "      <td>0</td>\n",
       "      <td>2</td>\n",
       "      <td>2010</td>\n",
       "      <td>210000</td>\n",
       "    </tr>\n",
       "    <tr>\n",
       "      <th>1457</th>\n",
       "      <td>1458</td>\n",
       "      <td>70</td>\n",
       "      <td>9042</td>\n",
       "      <td>7</td>\n",
       "      <td>9</td>\n",
       "      <td>1941</td>\n",
       "      <td>2006</td>\n",
       "      <td>0.0</td>\n",
       "      <td>275</td>\n",
       "      <td>0</td>\n",
       "      <td>...</td>\n",
       "      <td>0</td>\n",
       "      <td>60</td>\n",
       "      <td>0</td>\n",
       "      <td>0</td>\n",
       "      <td>0</td>\n",
       "      <td>0</td>\n",
       "      <td>2500</td>\n",
       "      <td>5</td>\n",
       "      <td>2010</td>\n",
       "      <td>266500</td>\n",
       "    </tr>\n",
       "    <tr>\n",
       "      <th>1458</th>\n",
       "      <td>1459</td>\n",
       "      <td>20</td>\n",
       "      <td>9717</td>\n",
       "      <td>5</td>\n",
       "      <td>6</td>\n",
       "      <td>1950</td>\n",
       "      <td>1996</td>\n",
       "      <td>0.0</td>\n",
       "      <td>49</td>\n",
       "      <td>1029</td>\n",
       "      <td>...</td>\n",
       "      <td>366</td>\n",
       "      <td>0</td>\n",
       "      <td>112</td>\n",
       "      <td>0</td>\n",
       "      <td>0</td>\n",
       "      <td>0</td>\n",
       "      <td>0</td>\n",
       "      <td>4</td>\n",
       "      <td>2010</td>\n",
       "      <td>142125</td>\n",
       "    </tr>\n",
       "    <tr>\n",
       "      <th>1459</th>\n",
       "      <td>1460</td>\n",
       "      <td>20</td>\n",
       "      <td>9937</td>\n",
       "      <td>5</td>\n",
       "      <td>6</td>\n",
       "      <td>1965</td>\n",
       "      <td>1965</td>\n",
       "      <td>0.0</td>\n",
       "      <td>830</td>\n",
       "      <td>290</td>\n",
       "      <td>...</td>\n",
       "      <td>736</td>\n",
       "      <td>68</td>\n",
       "      <td>0</td>\n",
       "      <td>0</td>\n",
       "      <td>0</td>\n",
       "      <td>0</td>\n",
       "      <td>0</td>\n",
       "      <td>6</td>\n",
       "      <td>2008</td>\n",
       "      <td>147500</td>\n",
       "    </tr>\n",
       "  </tbody>\n",
       "</table>\n",
       "<p>1460 rows × 37 columns</p>\n",
       "</div>"
      ],
      "text/plain": [
       "        Id  MSSubClass  LotArea  OverallQual  OverallCond  YearBuilt  \\\n",
       "0        1          60     8450            7            5       2003   \n",
       "1        2          20     9600            6            8       1976   \n",
       "2        3          60    11250            7            5       2001   \n",
       "3        4          70     9550            7            5       1915   \n",
       "4        5          60    14260            8            5       2000   \n",
       "...    ...         ...      ...          ...          ...        ...   \n",
       "1455  1456          60     7917            6            5       1999   \n",
       "1456  1457          20    13175            6            6       1978   \n",
       "1457  1458          70     9042            7            9       1941   \n",
       "1458  1459          20     9717            5            6       1950   \n",
       "1459  1460          20     9937            5            6       1965   \n",
       "\n",
       "      YearRemodAdd  MasVnrArea  BsmtFinSF1  BsmtFinSF2  ...  WoodDeckSF  \\\n",
       "0             2003       196.0         706           0  ...           0   \n",
       "1             1976         0.0         978           0  ...         298   \n",
       "2             2002       162.0         486           0  ...           0   \n",
       "3             1970         0.0         216           0  ...           0   \n",
       "4             2000       350.0         655           0  ...         192   \n",
       "...            ...         ...         ...         ...  ...         ...   \n",
       "1455          2000         0.0           0           0  ...           0   \n",
       "1456          1988       119.0         790         163  ...         349   \n",
       "1457          2006         0.0         275           0  ...           0   \n",
       "1458          1996         0.0          49        1029  ...         366   \n",
       "1459          1965         0.0         830         290  ...         736   \n",
       "\n",
       "      OpenPorchSF  EnclosedPorch  3SsnPorch  ScreenPorch  PoolArea  MiscVal  \\\n",
       "0              61              0          0            0         0        0   \n",
       "1               0              0          0            0         0        0   \n",
       "2              42              0          0            0         0        0   \n",
       "3              35            272          0            0         0        0   \n",
       "4              84              0          0            0         0        0   \n",
       "...           ...            ...        ...          ...       ...      ...   \n",
       "1455           40              0          0            0         0        0   \n",
       "1456            0              0          0            0         0        0   \n",
       "1457           60              0          0            0         0     2500   \n",
       "1458            0            112          0            0         0        0   \n",
       "1459           68              0          0            0         0        0   \n",
       "\n",
       "      MoSold  YrSold  SalePrice  \n",
       "0          2    2008     208500  \n",
       "1          5    2007     181500  \n",
       "2          9    2008     223500  \n",
       "3          2    2006     140000  \n",
       "4         12    2008     250000  \n",
       "...      ...     ...        ...  \n",
       "1455       8    2007     175000  \n",
       "1456       2    2010     210000  \n",
       "1457       5    2010     266500  \n",
       "1458       4    2010     142125  \n",
       "1459       6    2008     147500  \n",
       "\n",
       "[1460 rows x 37 columns]"
      ]
     },
     "execution_count": 24,
     "metadata": {},
     "output_type": "execute_result"
    }
   ],
   "source": [
    "# E criar uma nova base com esses valores\n",
    "base2 = base.loc[:, colunas_num]\n",
    "base2"
   ]
  },
  {
   "cell_type": "code",
   "execution_count": 25,
   "id": "328f7d1c",
   "metadata": {},
   "outputs": [
    {
     "data": {
      "text/plain": [
       "GarageYrBlt      81\n",
       "MasVnrArea        8\n",
       "Id                0\n",
       "OpenPorchSF       0\n",
       "KitchenAbvGr      0\n",
       "TotRmsAbvGrd      0\n",
       "Fireplaces        0\n",
       "GarageCars        0\n",
       "GarageArea        0\n",
       "WoodDeckSF        0\n",
       "EnclosedPorch     0\n",
       "HalfBath          0\n",
       "3SsnPorch         0\n",
       "ScreenPorch       0\n",
       "PoolArea          0\n",
       "MiscVal           0\n",
       "MoSold            0\n",
       "YrSold            0\n",
       "BedroomAbvGr      0\n",
       "FullBath          0\n",
       "MSSubClass        0\n",
       "BsmtFinSF2        0\n",
       "LotArea           0\n",
       "OverallQual       0\n",
       "OverallCond       0\n",
       "YearBuilt         0\n",
       "YearRemodAdd      0\n",
       "BsmtFinSF1        0\n",
       "BsmtUnfSF         0\n",
       "BsmtHalfBath      0\n",
       "TotalBsmtSF       0\n",
       "1stFlrSF          0\n",
       "2ndFlrSF          0\n",
       "LowQualFinSF      0\n",
       "GrLivArea         0\n",
       "BsmtFullBath      0\n",
       "SalePrice         0\n",
       "dtype: int64"
      ]
     },
     "execution_count": 25,
     "metadata": {},
     "output_type": "execute_result"
    }
   ],
   "source": [
    "# Verificando valores vazios\n",
    "base2.isnull().sum().sort_values(ascending=False)"
   ]
  },
  {
   "cell_type": "code",
   "execution_count": 26,
   "id": "2ceed3f4",
   "metadata": {},
   "outputs": [],
   "source": [
    "# Substituindo os valores vazios por -1\n",
    "base2 = base2.fillna(-1)"
   ]
  },
  {
   "cell_type": "markdown",
   "id": "7f1412cd",
   "metadata": {},
   "source": [
    "* Essa será nossa base inicial para começar"
   ]
  },
  {
   "cell_type": "markdown",
   "id": "4e621353",
   "metadata": {},
   "source": [
    "### Criando nosso modelo\n",
    "\n",
    "* **Vamos separar em treino e teste**"
   ]
  },
  {
   "cell_type": "code",
   "execution_count": 27,
   "id": "a690ca42",
   "metadata": {},
   "outputs": [],
   "source": [
    "# Selecionando X e y\n",
    "X = base2.drop('SalePrice', axis=1)\n",
    "y = base2.SalePrice"
   ]
  },
  {
   "cell_type": "code",
   "execution_count": 28,
   "id": "9023da64",
   "metadata": {},
   "outputs": [],
   "source": [
    "# Importando o train_test_split\n",
    "from sklearn.model_selection import train_test_split"
   ]
  },
  {
   "cell_type": "code",
   "execution_count": 29,
   "id": "3a24dc47",
   "metadata": {},
   "outputs": [],
   "source": [
    "# Separando a base em treino e teste(nesse caso seria uma validação, pois já temos um dataset de teste)\n",
    "X_train, X_test, y_train, y_test = train_test_split(X, y, test_size=0.33, random_state=42)"
   ]
  },
  {
   "cell_type": "markdown",
   "id": "e688329a",
   "metadata": {},
   "source": [
    "* **O próximo passo é selecionar os algoritmos a serem utilizados. Podemos começar com alguns mais simples como:**\n",
    "\n",
    "    * Regressão Linear\n",
    "    \n",
    "    * Árvore de Regressão\n",
    "    \n",
    "    * KNeighborsRegressor"
   ]
  },
  {
   "cell_type": "code",
   "execution_count": 30,
   "id": "374d486a",
   "metadata": {},
   "outputs": [],
   "source": [
    "# Importando a regressão linear\n",
    "from sklearn.linear_model import LinearRegression"
   ]
  },
  {
   "cell_type": "code",
   "execution_count": 33,
   "id": "5b83a12e",
   "metadata": {},
   "outputs": [],
   "source": [
    "# Criando o regressor e fazendo o fit com os dados de treino\n",
    "reg_rl = LinearRegression().fit(X_train, y_train)"
   ]
  },
  {
   "cell_type": "code",
   "execution_count": 34,
   "id": "e319a3e1",
   "metadata": {},
   "outputs": [],
   "source": [
    "# Fazendo a previsão pros dados de teste\n",
    "y_rl = reg_rl.predict(X_test)"
   ]
  },
  {
   "cell_type": "code",
   "execution_count": 35,
   "id": "51bb7a84",
   "metadata": {},
   "outputs": [],
   "source": [
    "# Importando a árvore de regressão\n",
    "from sklearn import tree"
   ]
  },
  {
   "cell_type": "code",
   "execution_count": 55,
   "id": "2f1b4e10",
   "metadata": {},
   "outputs": [],
   "source": [
    "# Criando o regressor e fazendo o fit com os dados de treino\n",
    "reg_ar = tree.DecisionTreeRegressor(random_state=42).fit(X_train, y_train)"
   ]
  },
  {
   "cell_type": "code",
   "execution_count": 56,
   "id": "45ef25db",
   "metadata": {},
   "outputs": [],
   "source": [
    "# Fazendo a previsão\n",
    "y_ar = reg_ar.predict(X_test)"
   ]
  },
  {
   "cell_type": "code",
   "execution_count": 41,
   "id": "9d6536ef",
   "metadata": {},
   "outputs": [],
   "source": [
    "# Importando o KNN\n",
    "from sklearn.neighbors import KNeighborsRegressor"
   ]
  },
  {
   "cell_type": "code",
   "execution_count": 42,
   "id": "423d95ae",
   "metadata": {},
   "outputs": [],
   "source": [
    "# Criando o regressor e fazendo o fit com os dados de treino\n",
    "reg_knn = KNeighborsRegressor(n_neighbors=2).fit(X_train, y_train)"
   ]
  },
  {
   "cell_type": "code",
   "execution_count": 43,
   "id": "ea61e7c7",
   "metadata": {},
   "outputs": [],
   "source": [
    "# Fazendo a previsão\n",
    "y_knn = reg_knn.predict(X_test)"
   ]
  },
  {
   "cell_type": "markdown",
   "id": "b3cce825",
   "metadata": {},
   "source": [
    "* **Agora vamos avaliar esses dados utilizando tanto o erro absoluto quanto o quadrático**"
   ]
  },
  {
   "cell_type": "code",
   "execution_count": 50,
   "id": "72703baa",
   "metadata": {},
   "outputs": [],
   "source": [
    "# Importando o erro médio absoluto\n",
    "from sklearn.metrics import mean_absolute_error"
   ]
  },
  {
   "cell_type": "code",
   "execution_count": 51,
   "id": "d2fbde14",
   "metadata": {},
   "outputs": [],
   "source": [
    "# Importando o erro quadrático médio\n",
    "from sklearn.metrics import mean_squared_error"
   ]
  },
  {
   "cell_type": "code",
   "execution_count": 52,
   "id": "bf5538fb",
   "metadata": {},
   "outputs": [
    {
     "name": "stdout",
     "output_type": "stream",
     "text": [
      "23763.18739306386\n",
      "1533982883.4448688\n"
     ]
    }
   ],
   "source": [
    "# Avaliando o erro da regressão\n",
    "print(mean_absolute_error(y_test, y_rl))\n",
    "print(mean_squared_error(y_test, y_rl))"
   ]
  },
  {
   "cell_type": "code",
   "execution_count": 57,
   "id": "8f2a6758",
   "metadata": {},
   "outputs": [
    {
     "name": "stdout",
     "output_type": "stream",
     "text": [
      "27580.78838174274\n",
      "2530245114.701245\n"
     ]
    }
   ],
   "source": [
    "# Avaliando o erro da árvore de decisão\n",
    "print(mean_absolute_error(y_test, y_ar))\n",
    "print(mean_squared_error(y_test, y_ar))"
   ]
  },
  {
   "cell_type": "code",
   "execution_count": 54,
   "id": "2d58f87b",
   "metadata": {},
   "outputs": [
    {
     "name": "stdout",
     "output_type": "stream",
     "text": [
      "33273.08298755187\n",
      "2733937586.841286\n"
     ]
    }
   ],
   "source": [
    "# Avaliando o erro do KNN\n",
    "print(mean_absolute_error(y_test, y_knn))\n",
    "print(mean_squared_error(y_test, y_knn))"
   ]
  },
  {
   "cell_type": "markdown",
   "id": "f163b7bd",
   "metadata": {},
   "source": [
    "### Visualizando graficamente"
   ]
  },
  {
   "cell_type": "code",
   "execution_count": 65,
   "id": "7ebe5028",
   "metadata": {},
   "outputs": [],
   "source": [
    "# Importando as bibliotecas necessárias\n",
    "import matplotlib.pyplot as plt\n",
    "from matplotlib import gridspec\n",
    "import seaborn as sns"
   ]
  },
  {
   "cell_type": "code",
   "execution_count": 82,
   "id": "cb60041b",
   "metadata": {},
   "outputs": [
    {
     "data": {
      "text/plain": [
       "[Text(0.5, 1.0, 'KNN')]"
      ]
     },
     "execution_count": 82,
     "metadata": {},
     "output_type": "execute_result"
    },
    {
     "data": {
      "image/png": "[encoded data removed]",
      "text/plain": [
       "<Figure size 1200x400 with 3 Axes>"
      ]
     },
     "metadata": {},
     "output_type": "display_data"
    }
   ],
   "source": [
    "# Criando esse gráfico\n",
    "\n",
    "fig = plt.figure(figsize=(12, 4))\n",
    "specs = gridspec.GridSpec(ncols=3, nrows=1, figure=fig)\n",
    "\n",
    "ax1 = fig.add_subplot(specs[:, 0])\n",
    "ax2 = fig.add_subplot(specs[:, 1])\n",
    "ax3 = fig.add_subplot(specs[:, 2])\n",
    "\n",
    "# Primeiro gráfico\n",
    "ax1 = sns.scatterplot(x=y_test/100000, y=y_rl/100000, ax=ax1)\n",
    "ax1.plot([0, 700000], [0, 700000], '--r')\n",
    "ax1.set(xlim=(0, 7), ylim=(0, 7))\n",
    "ax1.set_xlabel('Real')\n",
    "ax1.set_ylabel('Previsão')\n",
    "ax1.set(title='Regressão Linear') \n",
    "\n",
    "# Segundo gráfico\n",
    "ax2 = sns.scatterplot(x=y_test/100000, y=y_ar/100000, ax=ax2) \n",
    "ax2.plot([0, 700000], [0, 700000], '--r')\n",
    "ax2.set(xlim=(0, 7), ylim=(0, 7))\n",
    "ax2.set_xlabel('Real')\n",
    "ax2.set_ylabel('Previsão')\n",
    "ax2.set(title='Árvore de Regressão')\n",
    "\n",
    "# Terceiro gráfico\n",
    "ax3 = sns.scatterplot(x=y_test/100000, y=y_knn/100000, ax=ax3) \n",
    "ax3.plot([0, 700000], [0, 700000], '--r')\n",
    "ax3.set(xlim=(0, 7), ylim=(0, 7))\n",
    "ax3.set_xlabel('Real')\n",
    "ax3.set_ylabel('Previsão')\n",
    "ax3.set(title='KNN')"
   ]
  },
  {
   "cell_type": "markdown",
   "id": "a327c0d9",
   "metadata": {},
   "source": [
    "* **Vamos utilizar a Regressão Linear por ter sido o algoritmo com menor erro quadrático médio, a mesma métrica avaliada pelo Kaggle na hora de classificar os modelos**"
   ]
  },
  {
   "cell_type": "markdown",
   "id": "977dccd6",
   "metadata": {},
   "source": [
    "### Fazendo a previsão para a base de teste da competição"
   ]
  },
  {
   "cell_type": "code",
   "execution_count": 87,
   "id": "d83e31b8",
   "metadata": {},
   "outputs": [],
   "source": [
    "# Importando a base de teste\n",
    "teste = pd.read_csv('test.csv')"
   ]
  },
  {
   "cell_type": "code",
   "execution_count": 88,
   "id": "8253f4ff",
   "metadata": {},
   "outputs": [
    {
     "data": {
      "text/html": [
       "<div>\n",
       "<style scoped>\n",
       "    .dataframe tbody tr th:only-of-type {\n",
       "        vertical-align: middle;\n",
       "    }\n",
       "\n",
       "    .dataframe tbody tr th {\n",
       "        vertical-align: top;\n",
       "    }\n",
       "\n",
       "    .dataframe thead th {\n",
       "        text-align: right;\n",
       "    }\n",
       "</style>\n",
       "<table border=\"1\" class=\"dataframe\">\n",
       "  <thead>\n",
       "    <tr style=\"text-align: right;\">\n",
       "      <th></th>\n",
       "      <th>Id</th>\n",
       "      <th>MSSubClass</th>\n",
       "      <th>MSZoning</th>\n",
       "      <th>LotFrontage</th>\n",
       "      <th>LotArea</th>\n",
       "      <th>Street</th>\n",
       "      <th>Alley</th>\n",
       "      <th>LotShape</th>\n",
       "      <th>LandContour</th>\n",
       "      <th>Utilities</th>\n",
       "      <th>...</th>\n",
       "      <th>ScreenPorch</th>\n",
       "      <th>PoolArea</th>\n",
       "      <th>PoolQC</th>\n",
       "      <th>Fence</th>\n",
       "      <th>MiscFeature</th>\n",
       "      <th>MiscVal</th>\n",
       "      <th>MoSold</th>\n",
       "      <th>YrSold</th>\n",
       "      <th>SaleType</th>\n",
       "      <th>SaleCondition</th>\n",
       "    </tr>\n",
       "  </thead>\n",
       "  <tbody>\n",
       "    <tr>\n",
       "      <th>0</th>\n",
       "      <td>1461</td>\n",
       "      <td>20</td>\n",
       "      <td>RH</td>\n",
       "      <td>80.0</td>\n",
       "      <td>11622</td>\n",
       "      <td>Pave</td>\n",
       "      <td>NaN</td>\n",
       "      <td>Reg</td>\n",
       "      <td>Lvl</td>\n",
       "      <td>AllPub</td>\n",
       "      <td>...</td>\n",
       "      <td>120</td>\n",
       "      <td>0</td>\n",
       "      <td>NaN</td>\n",
       "      <td>MnPrv</td>\n",
       "      <td>NaN</td>\n",
       "      <td>0</td>\n",
       "      <td>6</td>\n",
       "      <td>2010</td>\n",
       "      <td>WD</td>\n",
       "      <td>Normal</td>\n",
       "    </tr>\n",
       "    <tr>\n",
       "      <th>1</th>\n",
       "      <td>1462</td>\n",
       "      <td>20</td>\n",
       "      <td>RL</td>\n",
       "      <td>81.0</td>\n",
       "      <td>14267</td>\n",
       "      <td>Pave</td>\n",
       "      <td>NaN</td>\n",
       "      <td>IR1</td>\n",
       "      <td>Lvl</td>\n",
       "      <td>AllPub</td>\n",
       "      <td>...</td>\n",
       "      <td>0</td>\n",
       "      <td>0</td>\n",
       "      <td>NaN</td>\n",
       "      <td>NaN</td>\n",
       "      <td>Gar2</td>\n",
       "      <td>12500</td>\n",
       "      <td>6</td>\n",
       "      <td>2010</td>\n",
       "      <td>WD</td>\n",
       "      <td>Normal</td>\n",
       "    </tr>\n",
       "    <tr>\n",
       "      <th>2</th>\n",
       "      <td>1463</td>\n",
       "      <td>60</td>\n",
       "      <td>RL</td>\n",
       "      <td>74.0</td>\n",
       "      <td>13830</td>\n",
       "      <td>Pave</td>\n",
       "      <td>NaN</td>\n",
       "      <td>IR1</td>\n",
       "      <td>Lvl</td>\n",
       "      <td>AllPub</td>\n",
       "      <td>...</td>\n",
       "      <td>0</td>\n",
       "      <td>0</td>\n",
       "      <td>NaN</td>\n",
       "      <td>MnPrv</td>\n",
       "      <td>NaN</td>\n",
       "      <td>0</td>\n",
       "      <td>3</td>\n",
       "      <td>2010</td>\n",
       "      <td>WD</td>\n",
       "      <td>Normal</td>\n",
       "    </tr>\n",
       "    <tr>\n",
       "      <th>3</th>\n",
       "      <td>1464</td>\n",
       "      <td>60</td>\n",
       "      <td>RL</td>\n",
       "      <td>78.0</td>\n",
       "      <td>9978</td>\n",
       "      <td>Pave</td>\n",
       "      <td>NaN</td>\n",
       "      <td>IR1</td>\n",
       "      <td>Lvl</td>\n",
       "      <td>AllPub</td>\n",
       "      <td>...</td>\n",
       "      <td>0</td>\n",
       "      <td>0</td>\n",
       "      <td>NaN</td>\n",
       "      <td>NaN</td>\n",
       "      <td>NaN</td>\n",
       "      <td>0</td>\n",
       "      <td>6</td>\n",
       "      <td>2010</td>\n",
       "      <td>WD</td>\n",
       "      <td>Normal</td>\n",
       "    </tr>\n",
       "    <tr>\n",
       "      <th>4</th>\n",
       "      <td>1465</td>\n",
       "      <td>120</td>\n",
       "      <td>RL</td>\n",
       "      <td>43.0</td>\n",
       "      <td>5005</td>\n",
       "      <td>Pave</td>\n",
       "      <td>NaN</td>\n",
       "      <td>IR1</td>\n",
       "      <td>HLS</td>\n",
       "      <td>AllPub</td>\n",
       "      <td>...</td>\n",
       "      <td>144</td>\n",
       "      <td>0</td>\n",
       "      <td>NaN</td>\n",
       "      <td>NaN</td>\n",
       "      <td>NaN</td>\n",
       "      <td>0</td>\n",
       "      <td>1</td>\n",
       "      <td>2010</td>\n",
       "      <td>WD</td>\n",
       "      <td>Normal</td>\n",
       "    </tr>\n",
       "  </tbody>\n",
       "</table>\n",
       "<p>5 rows × 80 columns</p>\n",
       "</div>"
      ],
      "text/plain": [
       "     Id  MSSubClass MSZoning  LotFrontage  LotArea Street Alley LotShape  \\\n",
       "0  1461          20       RH         80.0    11622   Pave   NaN      Reg   \n",
       "1  1462          20       RL         81.0    14267   Pave   NaN      IR1   \n",
       "2  1463          60       RL         74.0    13830   Pave   NaN      IR1   \n",
       "3  1464          60       RL         78.0     9978   Pave   NaN      IR1   \n",
       "4  1465         120       RL         43.0     5005   Pave   NaN      IR1   \n",
       "\n",
       "  LandContour Utilities  ... ScreenPorch PoolArea PoolQC  Fence MiscFeature  \\\n",
       "0         Lvl    AllPub  ...         120        0    NaN  MnPrv         NaN   \n",
       "1         Lvl    AllPub  ...           0        0    NaN    NaN        Gar2   \n",
       "2         Lvl    AllPub  ...           0        0    NaN  MnPrv         NaN   \n",
       "3         Lvl    AllPub  ...           0        0    NaN    NaN         NaN   \n",
       "4         HLS    AllPub  ...         144        0    NaN    NaN         NaN   \n",
       "\n",
       "  MiscVal MoSold  YrSold  SaleType  SaleCondition  \n",
       "0       0      6    2010        WD         Normal  \n",
       "1   12500      6    2010        WD         Normal  \n",
       "2       0      3    2010        WD         Normal  \n",
       "3       0      6    2010        WD         Normal  \n",
       "4       0      1    2010        WD         Normal  \n",
       "\n",
       "[5 rows x 80 columns]"
      ]
     },
     "execution_count": 88,
     "metadata": {},
     "output_type": "execute_result"
    }
   ],
   "source": [
    "# Visualizando a base\n",
    "teste.head()"
   ]
  },
  {
   "cell_type": "markdown",
   "id": "bf17d4dd",
   "metadata": {},
   "source": [
    "* **Agora vamos repetir os mesmos tratamentos que fizemos na base de treino**\n",
    "    * Obs: **não podemos excluir linhas**"
   ]
  },
  {
   "cell_type": "code",
   "execution_count": 89,
   "id": "d361d3b3",
   "metadata": {},
   "outputs": [],
   "source": [
    "# Eliminando as mesma colunas da base de treino\n",
    "teste = teste.drop(eliminar, axis=1)"
   ]
  },
  {
   "cell_type": "code",
   "execution_count": 93,
   "id": "1c634a4c",
   "metadata": {},
   "outputs": [
    {
     "data": {
      "text/plain": [
       "Index(['Id', 'MSSubClass', 'LotArea', 'OverallQual', 'OverallCond',\n",
       "       'YearBuilt', 'YearRemodAdd', 'MasVnrArea', 'BsmtFinSF1', 'BsmtFinSF2',\n",
       "       'BsmtUnfSF', 'TotalBsmtSF', '1stFlrSF', '2ndFlrSF', 'LowQualFinSF',\n",
       "       'GrLivArea', 'BsmtFullBath', 'BsmtHalfBath', 'FullBath', 'HalfBath',\n",
       "       'BedroomAbvGr', 'KitchenAbvGr', 'TotRmsAbvGrd', 'Fireplaces',\n",
       "       'GarageYrBlt', 'GarageCars', 'GarageArea', 'WoodDeckSF', 'OpenPorchSF',\n",
       "       'EnclosedPorch', '3SsnPorch', 'ScreenPorch', 'PoolArea', 'MiscVal',\n",
       "       'MoSold', 'YrSold'],\n",
       "      dtype='object')"
      ]
     },
     "execution_count": 93,
     "metadata": {},
     "output_type": "execute_result"
    }
   ],
   "source": [
    "# Verificando as colunas numéricas\n",
    "colunas_num2 = teste.columns[teste.dtypes != 'object']\n",
    "colunas_num2"
   ]
  },
  {
   "cell_type": "code",
   "execution_count": 94,
   "id": "40374e9a",
   "metadata": {},
   "outputs": [],
   "source": [
    "# Mantendo também apenas as colunas numéricas\n",
    "teste = teste.loc[:, colunas_num2]"
   ]
  },
  {
   "cell_type": "code",
   "execution_count": 96,
   "id": "17ecb041",
   "metadata": {},
   "outputs": [
    {
     "name": "stdout",
     "output_type": "stream",
     "text": [
      "<class 'pandas.core.frame.DataFrame'>\n",
      "RangeIndex: 1459 entries, 0 to 1458\n",
      "Data columns (total 36 columns):\n",
      " #   Column         Non-Null Count  Dtype  \n",
      "---  ------         --------------  -----  \n",
      " 0   Id             1459 non-null   int64  \n",
      " 1   MSSubClass     1459 non-null   int64  \n",
      " 2   LotArea        1459 non-null   int64  \n",
      " 3   OverallQual    1459 non-null   int64  \n",
      " 4   OverallCond    1459 non-null   int64  \n",
      " 5   YearBuilt      1459 non-null   int64  \n",
      " 6   YearRemodAdd   1459 non-null   int64  \n",
      " 7   MasVnrArea     1444 non-null   float64\n",
      " 8   BsmtFinSF1     1458 non-null   float64\n",
      " 9   BsmtFinSF2     1458 non-null   float64\n",
      " 10  BsmtUnfSF      1458 non-null   float64\n",
      " 11  TotalBsmtSF    1458 non-null   float64\n",
      " 12  1stFlrSF       1459 non-null   int64  \n",
      " 13  2ndFlrSF       1459 non-null   int64  \n",
      " 14  LowQualFinSF   1459 non-null   int64  \n",
      " 15  GrLivArea      1459 non-null   int64  \n",
      " 16  BsmtFullBath   1457 non-null   float64\n",
      " 17  BsmtHalfBath   1457 non-null   float64\n",
      " 18  FullBath       1459 non-null   int64  \n",
      " 19  HalfBath       1459 non-null   int64  \n",
      " 20  BedroomAbvGr   1459 non-null   int64  \n",
      " 21  KitchenAbvGr   1459 non-null   int64  \n",
      " 22  TotRmsAbvGrd   1459 non-null   int64  \n",
      " 23  Fireplaces     1459 non-null   int64  \n",
      " 24  GarageYrBlt    1381 non-null   float64\n",
      " 25  GarageCars     1458 non-null   float64\n",
      " 26  GarageArea     1458 non-null   float64\n",
      " 27  WoodDeckSF     1459 non-null   int64  \n",
      " 28  OpenPorchSF    1459 non-null   int64  \n",
      " 29  EnclosedPorch  1459 non-null   int64  \n",
      " 30  3SsnPorch      1459 non-null   int64  \n",
      " 31  ScreenPorch    1459 non-null   int64  \n",
      " 32  PoolArea       1459 non-null   int64  \n",
      " 33  MiscVal        1459 non-null   int64  \n",
      " 34  MoSold         1459 non-null   int64  \n",
      " 35  YrSold         1459 non-null   int64  \n",
      "dtypes: float64(10), int64(26)\n",
      "memory usage: 410.5 KB\n"
     ]
    }
   ],
   "source": [
    "# Verificando a base restante\n",
    "teste.info()"
   ]
  },
  {
   "cell_type": "code",
   "execution_count": 99,
   "id": "fb47ed2c",
   "metadata": {},
   "outputs": [
    {
     "data": {
      "text/plain": [
       "GarageYrBlt     78\n",
       "MasVnrArea      15\n",
       "BsmtHalfBath     2\n",
       "BsmtFullBath     2\n",
       "BsmtUnfSF        1\n",
       "GarageCars       1\n",
       "GarageArea       1\n",
       "BsmtFinSF1       1\n",
       "BsmtFinSF2       1\n",
       "TotalBsmtSF      1\n",
       "dtype: int64"
      ]
     },
     "execution_count": 99,
     "metadata": {},
     "output_type": "execute_result"
    }
   ],
   "source": [
    "# Visualizando quantidade de valores vazios\n",
    "teste.isnull().sum().sort_values(ascending=False).head(10)"
   ]
  },
  {
   "cell_type": "markdown",
   "id": "7e5bc1ea",
   "metadata": {},
   "source": [
    "* **Vamos precisar retirar os valores vazios, pois a regressão linear não vai conseguir trabalhar com valores assim.**\n",
    "    * Se tentarmos usar essa base, ele vai retornar um **erro** dizendo que o **input possui valores NaN**\n",
    "* Podemos substituir por -1 como fizemos acima\n"
   ]
  },
  {
   "cell_type": "code",
   "execution_count": 100,
   "id": "baf1234b",
   "metadata": {},
   "outputs": [],
   "source": [
    "# Substituindo os valores vazios por -1\n",
    "teste = teste.fillna(-1)"
   ]
  },
  {
   "cell_type": "markdown",
   "id": "95478401",
   "metadata": {},
   "source": [
    "* Agora podemos usar nosso modelo e ajustar os dados para usarmos no Kaggle"
   ]
  },
  {
   "cell_type": "code",
   "execution_count": 102,
   "id": "dbdb6f13",
   "metadata": {},
   "outputs": [],
   "source": [
    "# Regressão Linear\n",
    "y_pred = reg_rl.predict(teste)"
   ]
  },
  {
   "cell_type": "code",
   "execution_count": 103,
   "id": "6817be38",
   "metadata": {},
   "outputs": [],
   "source": [
    "# Podemos adicionar essa coluna de previsão na nossa base\n",
    "teste['SalePrice'] = y_pred"
   ]
  },
  {
   "cell_type": "code",
   "execution_count": 104,
   "id": "0ae3a115",
   "metadata": {},
   "outputs": [],
   "source": [
    "# Extrair somente o Id e o SalePrice\n",
    "resultado = teste[['Id', 'SalePrice']]"
   ]
  },
  {
   "cell_type": "code",
   "execution_count": 105,
   "id": "6ead611b",
   "metadata": {},
   "outputs": [],
   "source": [
    "# Podemos então exportar essa base\n",
    "resultado.to_csv('resultado.csv', index=False)"
   ]
  },
  {
   "cell_type": "markdown",
   "id": "ded03fab",
   "metadata": {},
   "source": [
    "### Resultados\n",
    "\n",
    "O primeiro resultado que obtivemos no Kaggle foi 0.25, a meta agora é 0.15"
   ]
  },
  {
   "cell_type": "code",
   "execution_count": null,
   "id": "de4905fa",
   "metadata": {},
   "outputs": [],
   "source": []
  }
 ],
 "metadata": {
  "kernelspec": {
   "display_name": "Python 3 (ipykernel)",
   "language": "python",
   "name": "python3"
  },
  "language_info": {
   "codemirror_mode": {
    "name": "ipython",
    "version": 3
   },
   "file_extension": ".py",
   "mimetype": "text/x-python",
   "name": "python",
   "nbconvert_exporter": "python",
   "pygments_lexer": "ipython3",
   "version": "3.9.12"
  }
 },
 "nbformat": 4,
 "nbformat_minor": 5
}
